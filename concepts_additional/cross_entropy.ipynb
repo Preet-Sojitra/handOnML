{
 "cells": [
  {
   "cell_type": "markdown",
   "id": "a9a03125-934f-46cd-a0fd-9fc0400fcc54",
   "metadata": {},
   "source": [
    "# What is cross entropy?"
   ]
  },
  {
   "cell_type": "markdown",
   "id": "da4fef0c-27af-421c-b3c0-b557d0393393",
   "metadata": {},
   "source": [
    "Cross entropy is the measure of the difference between two probability distributions for given a random variable or a set of events.  \n",
    "\n",
    "**Probability Distributions:**\n",
    "\n",
    "Probability distrubutions gives the probability of each outcome of a random experiment or event. It provides the probability of different possible outcomes."
   ]
  },
  {
   "cell_type": "markdown",
   "id": "f5f5392d-3038-4eb4-944a-5152b0a28c6e",
   "metadata": {},
   "source": [
    "**Information** quantifies the number of bits required to encode and transmit an event. Lower probability events has more information, higher probability events has less information.\n",
    "\n",
    "Information $h(x)$ can be calculated for an event $x$, given the probability $P(x)$ as follows:\n",
    "\n",
    "$$h(x) = -log(P(x))$$\n",
    "\n",
    "**Entropy** is the number of bits required to transmit a randomly selected event from a probability distribution. A skewed distribution has low entropy, whereas a distribution where events have a equal probability has a larger entropy.\n",
    "\n",
    "$$H(X) = - \\sum_{i=1}^{n} P(x_i) . log(P(x_i))$$\n",
    "\n",
    "**Cross-Entropy** builds upon the idea of entropy from infromation theory and calculate the number of bits required to represent or transmit an average event from one distribution compared to another distribution. \n",
    "\n",
    "The intution for this defition comes if we consider a target or underlying probability distribuion P and an approximation of the target distribution Q, then cross-entropy of Q from P is the number of additional bits to represent an event Q instead of P.\n",
    "\n",
    "The cross-entropy between two probability distribution such as Q from P can be stated formally as $H(P,Q)$ where $H()$ is the cross-entropy function, P may be the target distribution and Q is the approximation of target distribution. \n",
    "\n",
    "$$H(P,Q) = - \\sum_{i=1}^{n} P(x_i) * log_2(Q(x_i))$$\n",
    "\n",
    "where $P(x)$ is the probability of an event $x$ in $P$, $Q(x)$ is the probability of event $x$ in $Q$  "
   ]
  },
  {
   "cell_type": "markdown",
   "id": "5644f8af-5380-4582-a1e3-b10e56b9ce85",
   "metadata": {},
   "source": [
    "# Cross-Entropy vs KL Divergence"
   ]
  },
  {
   "cell_type": "markdown",
   "id": "bc27b293-7ca6-4a7d-833d-1db207dbba0c",
   "metadata": {},
   "source": [
    "Cross-entropy is not KL Divergence. \n",
    "\n",
    "It is related to divergence measures, such as KL Divergence that quantifies how much one distribution differs from another. \n",
    "\n",
    "Specifically, the Kl divergence measures a very similar quantity to cross-entropy. It measures the average number of extra bits required to represent a message with Q instead of P, not the total number of bits. \n",
    "\n",
    "In other words, the Kl divergence is the average number of extra bits needed to encode the data, due to the fact that we used distribution $q$ to encode the data instead of the true distribution $p$.\n",
    "\n",
    "As such, the KL-divergence is often referred to as *relative entropy*\n",
    "\n",
    "- **Cross-Entropy**: Average number of total bits to represent an event from Q instead of P.\n",
    "- **KL Divergence** (Relative Entropy) : Average number of extra bits to represent an event from Q instead of P\n",
    "\n",
    "KL divergence is calculated as:\n",
    "\n",
    "$$KL(P || Q) = - \\sum_{i=1}^{n} P(x_i) * log\\frac{Q(x_i)}{P(x_i)}$$"
   ]
  },
  {
   "cell_type": "markdown",
   "id": "29cf6034-1edc-4071-a1fe-6c7ae6b002d0",
   "metadata": {},
   "source": [
    "# Calculating Cross Entropy"
   ]
  },
  {
   "cell_type": "markdown",
   "id": "566d63b0-ac52-4167-9b4d-d87405417f37",
   "metadata": {},
   "source": [
    "Consider a random variable with three discrete events as different colors: red, green and blue."
   ]
  },
  {
   "cell_type": "code",
   "execution_count": 3,
   "id": "da7562f8-9742-4599-a6af-e206f69d0f82",
   "metadata": {},
   "outputs": [],
   "source": [
    "# define distributions\n",
    "\n",
    "events = [\"red\", \"green\", \"blue\"]\n",
    "p = [0.10, 0.40, 0.50]\n",
    "q = [0.80, 0.15, 0.05]"
   ]
  },
  {
   "cell_type": "markdown",
   "id": "ec28d4b1-ef71-48d1-bbd6-e1dc2689ba86",
   "metadata": {},
   "source": [
    "We can plot a barchart of these probabilities to compare them directly as probability histograms."
   ]
  },
  {
   "cell_type": "code",
   "execution_count": 4,
   "id": "2db34a42-59e8-46f1-af35-640964f308cd",
   "metadata": {},
   "outputs": [
    {
     "name": "stdout",
     "output_type": "stream",
     "text": [
      "P=1.000 Q=1.000\n"
     ]
    },
    {
     "data": {
      "image/png": "[encoded data removed]",
      "text/plain": [
       "<Figure size 640x480 with 2 Axes>"
      ]
     },
     "metadata": {},
     "output_type": "display_data"
    }
   ],
   "source": [
    "import matplotlib.pyplot as plt\n",
    "\n",
    "plt.subplot(2,1,1)\n",
    "plt.bar(events, p)\n",
    "\n",
    "plt.subplot(2,1,2)\n",
    "plt.bar(events, q)\n",
    "\n",
    "plt.show()"
   ]
  },
  {
   "cell_type": "markdown",
   "id": "fa2054b2-2c0a-4db3-884c-a1c0936e133d",
   "metadata": {},
   "source": [
    "# Calculate Cross-Entropy between distributions"
   ]
  },
  {
   "cell_type": "markdown",
   "id": "4da99e29-d21c-4bd1-bfae-255fb6a6c807",
   "metadata": {},
   "source": [
    "We will use log base-2 to ensure that the results are in bits"
   ]
  },
  {
   "cell_type": "code",
   "execution_count": 25,
   "id": "07f0dd7e-5fba-4dd4-a581-90b8ecc7135d",
   "metadata": {},
   "outputs": [],
   "source": [
    "from math import log2\n",
    "\n",
    "def cross_entropy(p,q):\n",
    "    return -sum([p[i]*log2(q[i]) for i in range(len(p))])"
   ]
  },
  {
   "cell_type": "code",
   "execution_count": 16,
   "id": "7dab7823-883f-4a25-919c-8af8cc797fb5",
   "metadata": {},
   "outputs": [
    {
     "name": "stdout",
     "output_type": "stream",
     "text": [
      "H(P, Q): 3.288 bits\n",
      "H(Q, P): 2.906 bits\n"
     ]
    }
   ],
   "source": [
    "ce_pq = cross_entropy(p, q)\n",
    "print(\"H(P, Q): %.3f bits\" % ce_pq)\n",
    "\n",
    "ce_qp = cross_entropy(q, p)\n",
    "print(\"H(Q, P): %.3f bits\" % ce_qp)"
   ]
  },
  {
   "cell_type": "markdown",
   "id": "520ed64d-ca6b-420d-9628-97e2d3754eeb",
   "metadata": {},
   "source": [
    "# Calculate Cross-Entropy Between a distribution and itself"
   ]
  },
  {
   "cell_type": "markdown",
   "id": "f2c76b6d-c9dc-4ebd-9569-9b8ed0fb27f7",
   "metadata": {},
   "source": [
    "If two probability distributions are same, then the cross-entropy between them will be the entropy of the distribution. "
   ]
  },
  {
   "cell_type": "code",
   "execution_count": 17,
   "id": "ffae1dba-38fb-4e33-a8c6-c64ed3d7fd53",
   "metadata": {},
   "outputs": [
    {
     "name": "stdout",
     "output_type": "stream",
     "text": [
      "H(P, P): 1.361 bits\n",
      "H(Q, Q): 0.884 bits\n"
     ]
    }
   ],
   "source": [
    "ce_pp = cross_entropy(p, p)\n",
    "print(\"H(P, P): %.3f bits\" % ce_pp)\n",
    "\n",
    "ce_qq = cross_entropy(q, q)\n",
    "print(\"H(Q, Q): %.3f bits\" % ce_qq)"
   ]
  },
  {
   "cell_type": "markdown",
   "id": "3b43f4e5-e6d3-4d15-a912-7a065840639c",
   "metadata": {},
   "source": [
    "# Calculate Cross-Entropy using KL Divergence"
   ]
  },
  {
   "cell_type": "code",
   "execution_count": 19,
   "id": "aa6b251d-2720-4274-9832-2527809e1d87",
   "metadata": {},
   "outputs": [],
   "source": [
    "def kl_divergence(p, q):\n",
    "    return sum(p[i] * log2(p[i] / q[i]) for i in range(len(p)))"
   ]
  },
  {
   "cell_type": "code",
   "execution_count": 26,
   "id": "e0f566f1-5aa1-471d-88c0-7f2285dfcbcd",
   "metadata": {},
   "outputs": [],
   "source": [
    "def entropy(p):\n",
    "    return -sum([p[i] * log2(p[i]) for i in range(len(p))])"
   ]
  },
  {
   "cell_type": "code",
   "execution_count": 21,
   "id": "4caced1a-4731-4073-8126-403fe1c06281",
   "metadata": {},
   "outputs": [],
   "source": [
    "def cross_entropy(p, q):\n",
    "    return entropy(p) + kl_divergence(p, q)"
   ]
  },
  {
   "cell_type": "code",
   "execution_count": 28,
   "id": "4da64944-3ff5-43a2-8ec3-09265be1ac39",
   "metadata": {},
   "outputs": [
    {
     "name": "stdout",
     "output_type": "stream",
     "text": [
      "H(P): 1.361 bits\n",
      "KL(P || Q): 1.927 bits\n",
      "H(P, Q): 3.288 bits\n"
     ]
    }
   ],
   "source": [
    "en_p = entropy(p)\n",
    "print(\"H(P): %.3f bits\" % en_p)\n",
    "\n",
    "kl_pq = kl_divergence(p, q)\n",
    "print(\"KL(P || Q): %.3f bits\" % kl_pq)\n",
    "\n",
    "ce_pq = cross_entropy(p, q)\n",
    "print(\"H(P, Q): %.3f bits\" % ce_pq)"
   ]
  },
  {
   "cell_type": "markdown",
   "id": "3c62058a-49eb-4abc-866d-cb7e1c58b006",
   "metadata": {},
   "source": [
    "# Cross-Entropy as Loss Functions"
   ]
  },
  {
   "cell_type": "markdown",
   "id": "7ecd9924-4c56-40e7-8ac4-0ea399c974d5",
   "metadata": {},
   "source": [
    "It is widely used as loss function when optimizing classification models. \n",
    "\n",
    "Idea of cross-entropy may be useful for optimizing a classification model. \n",
    "\n",
    "Each example has a known class label probability of 1.0 and probability of 0.0 for all other labels. A model can estimate the probability of an example belonging to each class label. Cross-entropy then can be used to calculate the difference between the two probability distributions. \n",
    "\n",
    "We can map the classification of one example onto the idea of a random variable with probability distribution as follows:\n",
    "\n",
    "- **Random Variable**: The example for which we require predicted class label\n",
    "- **Events** : Each class label that could be predicted\n",
    "\n",
    "In classification tasks, we know the target probability distribution P for an input as the class label 0 or 1 interpreted as probabilities as \"impossible\" or \"certain\" respectively. These proabilities have no surprise at all, therefore they have no information content or zero entropy.\n",
    "\n",
    "Our model seeks to approximate the target probability distribution Q.\n",
    "\n",
    "In the language of classification, these are the actual and the predicted probabilities or $y$ and $\\hat{y}$\n",
    "\n",
    "- **Expected Probability (y)**: The known probability of each class label for an example in the dataset (P).\n",
    "- **Predicted Probability ($\\hat{y}$)**: The probability of each class label an example predicted by the model (Q).\n",
    "\n",
    "We can therefore estimate the cross-entropy for a single prediction using the cross-entropy calculation; for example:\n",
    "\n",
    "$$H(P,Q) = -\\sum_{i=1}^{n} P(x_i) * log(Q(x_i))$$\n",
    "\n",
    "where each $x_i$ is a class label that could be assigned to the example, and P(X) will be 1 for the known label and 0 for all other labels.\n",
    "\n",
    "The cross entropy for single example in binary classification task can be stated by unrolling the sum operation as follows:\n",
    "\n",
    "$$ H(P, Q) = - (P(class0) * log(Q(class0)) + P(class1) * log(Q(class1))) $$\n",
    "\n",
    "When calculating cross-entropy for classification tasks, the base-e or natural logrithm is used"
   ]
  },
  {
   "cell_type": "markdown",
   "id": "f0954102-17db-4f19-b609-bd1434717e97",
   "metadata": {},
   "source": [
    "# Calculate Cross-Entropy between Class labels and Probabilities"
   ]
  },
  {
   "cell_type": "markdown",
   "id": "7c3bf409-3c8a-46c4-a1ef-1551421a04c9",
   "metadata": {},
   "source": [
    "The use of cross-entropy for classification often gives different specific names based on the number of classes, mirroring the name of classification task; for example:\n",
    "\n",
    "- **Binary cross-entropy**: Cross-entropy as a loss function for binary classification task\n",
    "- **Categorical cross-entropy**: Cross-entropy as a loss function for multiclass classification task\n",
    "\n",
    "Consider a two-class classification task with the following 10 actual class labels (P) and predicted class labels (Q)"
   ]
  },
  {
   "cell_type": "code",
   "execution_count": 40,
   "id": "3bff9685-a3c1-4587-9c29-6b55e9dd9c5a",
   "metadata": {},
   "outputs": [],
   "source": [
    "from math import log\n",
    "\n",
    "# define classification data\n",
    "p = [1, 1, 1, 1, 1, 0, 0, 0, 0, 0]\n",
    "q = [0.8, 0.9, 0.9, 0.6, 0.8, 0.1, 0.4, 0.2, 0.1, 0.3]\n",
    "\n",
    "# calculate cross entropy\n",
    "def cross_entropy(p, q):\n",
    "    return -sum([p[i]*log(q[i]) for i in range(len(p))])"
   ]
  },
  {
   "cell_type": "markdown",
   "id": "fd3612d7-c2b4-4156-ac30-afd2d057dcae",
   "metadata": {},
   "source": [
    "For each actual and predicted probability, we must convert the prediction into a distribution of probabilities across each event, in this case, the classes {0, 1} as 1 minus the probability for class 0 and probability for class 1."
   ]
  },
  {
   "cell_type": "code",
   "execution_count": 41,
   "id": "00f3d956-260f-40b7-b78f-0a440ae3e40d",
   "metadata": {},
   "outputs": [
    {
     "name": "stdout",
     "output_type": "stream",
     "text": [
      ">[y=1.0, yhat=0.8] ce: 0.223 nats\n",
      ">[y=1.0, yhat=0.9] ce: 0.105 nats\n",
      ">[y=1.0, yhat=0.9] ce: 0.105 nats\n",
      ">[y=1.0, yhat=0.6] ce: 0.511 nats\n",
      ">[y=1.0, yhat=0.8] ce: 0.223 nats\n",
      ">[y=0.0, yhat=0.1] ce: 0.105 nats\n",
      ">[y=0.0, yhat=0.4] ce: 0.511 nats\n",
      ">[y=0.0, yhat=0.2] ce: 0.223 nats\n",
      ">[y=0.0, yhat=0.1] ce: 0.105 nats\n",
      ">[y=0.0, yhat=0.3] ce: 0.357 nats\n"
     ]
    }
   ],
   "source": [
    "# calculate cross entropy for each example\n",
    "results = list()\n",
    "for i in range(len(p)):\n",
    " # create the distribution for each event {0, 1}\n",
    " expected = [1.0 - p[i], p[i]]\n",
    " predicted = [1.0 - q[i], q[i]]\n",
    " # calculate cross entropy for the two events\n",
    " ce = cross_entropy(expected, predicted)\n",
    " print('>[y=%.1f, yhat=%.1f] ce: %.3f nats' % (p[i], q[i], ce))\n",
    " results.append(ce)"
   ]
  },
  {
   "cell_type": "code",
   "execution_count": 42,
   "id": "67c52441-b158-4cd0-bb14-1d644ebcf637",
   "metadata": {},
   "outputs": [
    {
     "name": "stdout",
     "output_type": "stream",
     "text": [
      "Average Cross Entropy: 0.247 nats\n"
     ]
    }
   ],
   "source": [
    "from numpy import mean\n",
    "\n",
    "#calculate the average cross entropy\n",
    "mean_ce = mean(results)\n",
    "print('Average Cross Entropy: %.3f nats' % mean_ce)"
   ]
  }
 ],
 "metadata": {
  "kernelspec": {
   "display_name": "Python 3 (ipykernel)",
   "language": "python",
   "name": "python3"
  },
  "language_info": {
   "codemirror_mode": {
    "name": "ipython",
    "version": 3
   },
   "file_extension": ".py",
   "mimetype": "text/x-python",
   "name": "python",
   "nbconvert_exporter": "python",
   "pygments_lexer": "ipython3",
   "version": "3.10.9"
  }
 },
 "nbformat": 4,
 "nbformat_minor": 5
}
