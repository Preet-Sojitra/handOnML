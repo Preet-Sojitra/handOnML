{
 "cells": [
  {
   "cell_type": "markdown",
   "id": "cf58db14-e53e-4956-80b6-7a5265a600db",
   "metadata": {},
   "source": [
    "# Processing Sequences Using RNNs and CNNs"
   ]
  },
  {
   "cell_type": "markdown",
   "id": "f2ac13ec-97f9-4154-a565-c4b61c2fc6a5",
   "metadata": {},
   "source": [
    "## Recurrent Neurons and Layers"
   ]
  },
  {
   "cell_type": "markdown",
   "id": "a7074b25-f46b-4065-817b-87af5a737df3",
   "metadata": {},
   "source": [
    "### Memory Cells"
   ]
  },
  {
   "cell_type": "markdown",
   "id": "404b16c8-8630-4961-8f6f-f13a72cb6d07",
   "metadata": {},
   "source": [
    "### Input and Output Sequences"
   ]
  },
  {
   "cell_type": "markdown",
   "id": "c72856a2-2433-4358-846f-def835f54d71",
   "metadata": {},
   "source": [
    "## Training RNNs"
   ]
  }
 ],
 "metadata": {
  "kernelspec": {
   "display_name": "Python (latest)",
   "language": "python",
   "name": "latest"
  },
  "language_info": {
   "codemirror_mode": {
    "name": "ipython",
    "version": 3
   },
   "file_extension": ".py",
   "mimetype": "text/x-python",
   "name": "python",
   "nbconvert_exporter": "python",
   "pygments_lexer": "ipython3",
   "version": "3.11.4"
  }
 },
 "nbformat": 4,
 "nbformat_minor": 5
}
