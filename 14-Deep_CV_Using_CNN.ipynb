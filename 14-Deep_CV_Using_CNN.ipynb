{
 "cells": [
  {
   "cell_type": "markdown",
   "id": "8400260d-c55a-44ac-a400-c31fdbaaf2c2",
   "metadata": {},
   "source": [
    "# Deep Computer Vision Using Convolutional Neural Network"
   ]
  },
  {
   "cell_type": "markdown",
   "id": "2e0b5143-6400-4ec4-956c-b25aef544ad8",
   "metadata": {},
   "source": [
    "## The Architecture of the Visual Cortex"
   ]
  },
  {
   "cell_type": "markdown",
   "id": "7f4b16e7-22c8-4044-bd95-2adc0cf285e5",
   "metadata": {},
   "source": [
    "## Convolutional Layers"
   ]
  },
  {
   "cell_type": "markdown",
   "id": "7e0d11af-e86f-48ee-99b9-b21e1dedc0df",
   "metadata": {},
   "source": [
    "### Filters"
   ]
  }
 ],
 "metadata": {
  "kernelspec": {
   "display_name": "Python (latest)",
   "language": "python",
   "name": "latest"
  },
  "language_info": {
   "codemirror_mode": {
    "name": "ipython",
    "version": 3
   },
   "file_extension": ".py",
   "mimetype": "text/x-python",
   "name": "python",
   "nbconvert_exporter": "python",
   "pygments_lexer": "ipython3",
   "version": "3.11.4"
  }
 },
 "nbformat": 4,
 "nbformat_minor": 5
}
