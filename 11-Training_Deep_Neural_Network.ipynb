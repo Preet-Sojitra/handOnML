{
 "cells": [
  {
   "cell_type": "markdown",
   "id": "66620c32-5acc-47ea-ba48-65843049d3c3",
   "metadata": {},
   "source": [
    "# Training Deep Neural Networks"
   ]
  },
  {
   "cell_type": "code",
   "execution_count": 1,
   "id": "6b61d9f7-73dd-4cab-abc6-6b676f3648a2",
   "metadata": {},
   "outputs": [
    {
     "name": "stderr",
     "output_type": "stream",
     "text": [
      "2023-12-31 20:26:55.300213: I tensorflow/tsl/cuda/cudart_stub.cc:28] Could not find cuda drivers on your machine, GPU will not be used.\n",
      "2023-12-31 20:26:55.448395: I tensorflow/tsl/cuda/cudart_stub.cc:28] Could not find cuda drivers on your machine, GPU will not be used.\n",
      "2023-12-31 20:26:55.449266: I tensorflow/core/platform/cpu_feature_guard.cc:182] This TensorFlow binary is optimized to use available CPU instructions in performance-critical operations.\n",
      "To enable the following instructions: AVX2 FMA, in other operations, rebuild TensorFlow with the appropriate compiler flags.\n",
      "2023-12-31 20:26:56.605724: W tensorflow/compiler/tf2tensorrt/utils/py_utils.cc:38] TF-TRT Warning: Could not find TensorRT\n"
     ]
    }
   ],
   "source": [
    "import tensorflow as tf\n",
    "from tensorflow import keras\n",
    "import numpy as np"
   ]
  },
  {
   "cell_type": "markdown",
   "id": "fde01643-b005-4443-9d2a-0537f46664c5",
   "metadata": {},
   "source": [
    "## The Vanishing/Exploding Gradient Problems"
   ]
  },
  {
   "cell_type": "markdown",
   "id": "d494841d-e61c-4f8c-b55c-6f62baf78c67",
   "metadata": {},
   "source": [
    "### Galrot and He Initialization"
   ]
  },
  {
   "cell_type": "markdown",
   "id": "994e172f-367a-4819-90eb-7909525ea941",
   "metadata": {},
   "source": [
    "By default, Keras uses Glorot initialization with a uniform distribution.\n",
    "When creating a layer, we can change this to He initialization by setting\n",
    "`kernel_initializer=\"he_uniform\"` or\n",
    "`kernel_initializer=\"he_normal\"` like this:"
   ]
  },
  {
   "cell_type": "code",
   "execution_count": 4,
   "id": "d8be3dc4-fba4-481f-beb9-59fd005f2664",
   "metadata": {},
   "outputs": [
    {
     "data": {
      "text/plain": [
       "<keras.src.layers.core.dense.Dense at 0x7f64524bb090>"
      ]
     },
     "execution_count": 4,
     "metadata": {},
     "output_type": "execute_result"
    }
   ],
   "source": [
    "keras.layers.Dense(10, activation=\"relu\", kernel_initializer=\"he_normal\")"
   ]
  },
  {
   "cell_type": "markdown",
   "id": "66792ee7-9556-4512-ae59-b5eeca1f67d2",
   "metadata": {},
   "source": [
    "If you want He initialization with a uniform distribution but based on\n",
    "$fan_{avg}$ rather than $fan_{in}$, you can use the `VarianceScaling` initializer like\n",
    "this:"
   ]
  },
  {
   "cell_type": "code",
   "execution_count": 5,
   "id": "8ee5841d-ae77-49b1-b322-5e79d535620d",
   "metadata": {},
   "outputs": [
    {
     "data": {
      "text/plain": [
       "<keras.src.layers.core.dense.Dense at 0x7f63dc1c6c50>"
      ]
     },
     "execution_count": 5,
     "metadata": {},
     "output_type": "execute_result"
    }
   ],
   "source": [
    "he_avg_init = keras.initializers.VarianceScaling(scale=2., mode='fan_avg', distribution='uniform')\n",
    "keras.layers.Dense(10, activation=\"sigmoid\", kernel_initializer=he_avg_init)"
   ]
  },
  {
   "cell_type": "markdown",
   "id": "92ca6110-9745-4338-9e0f-fcf325598596",
   "metadata": {},
   "source": [
    "### Nonsaturating Activation Functions"
   ]
  },
  {
   "cell_type": "markdown",
   "id": "5710c26a-589c-4400-b186-f351cf00becf",
   "metadata": {},
   "source": [
    "To use the leaky ReLU activation function, create a `LeakyReLU` layer and\n",
    "add it to our model just after the layer we want to apply it to:"
   ]
  },
  {
   "cell_type": "code",
   "execution_count": 6,
   "id": "ba2b0cfc-b8f7-47ad-af55-e406cbd7d576",
   "metadata": {},
   "outputs": [],
   "source": [
    "model = keras.models.Sequential([\n",
    "    keras.layers.Dense(10, kernel_initializer=\"he_normal\"),\n",
    "    keras.layers.LeakyReLU(alpha=0.2),\n",
    "])"
   ]
  },
  {
   "cell_type": "markdown",
   "id": "802e461f-e36a-4332-bd5e-a37266da14d5",
   "metadata": {},
   "source": [
    "For SELU activation, `set activation=\"selu\"` and\n",
    "`kernel_initializer=\"lecun_normal\"` when creating a layer:"
   ]
  },
  {
   "cell_type": "code",
   "execution_count": 7,
   "id": "6c22c81c-898a-44f5-b0af-11f709745cfb",
   "metadata": {},
   "outputs": [],
   "source": [
    "layer = keras.layers.Dense(10, activation=\"selu\", kernel_initializer=\"lecun_normal\")"
   ]
  },
  {
   "cell_type": "markdown",
   "id": "e75e1f9c-5a4a-4dc8-96a1-187faa5f45b9",
   "metadata": {},
   "source": [
    "### Batch Normalization"
   ]
  },
  {
   "cell_type": "code",
   "execution_count": 8,
   "id": "1dfc995c-861b-4900-b343-5b4b661f6ee1",
   "metadata": {},
   "outputs": [],
   "source": [
    "model = keras.models.Sequential([\n",
    "    keras.layers.Flatten(input_shape=[28, 28]),\n",
    "    keras.layers.BatchNormalization(),\n",
    "    keras.layers.Dense(300, activation=\"elu\", kernel_initializer=\"he_normal\"),\n",
    "    keras.layers.BatchNormalization(),\n",
    "    keras.layers.Dense(100, activation=\"elu\", kernel_initializer=\"he_normal\"),\n",
    "    keras.layers.BatchNormalization(),\n",
    "    keras.layers.Dense(10, activation=\"softmax\")\n",
    "])"
   ]
  },
  {
   "cell_type": "code",
   "execution_count": 9,
   "id": "417c1a7f-25a6-4417-a382-6e8c33658ed9",
   "metadata": {},
   "outputs": [
    {
     "name": "stdout",
     "output_type": "stream",
     "text": [
      "Model: \"sequential_1\"\n",
      "_________________________________________________________________\n",
      " Layer (type)                Output Shape              Param #   \n",
      "=================================================================\n",
      " flatten (Flatten)           (None, 784)               0         \n",
      "                                                                 \n",
      " batch_normalization (Batch  (None, 784)               3136      \n",
      " Normalization)                                                  \n",
      "                                                                 \n",
      " dense_4 (Dense)             (None, 300)               235500    \n",
      "                                                                 \n",
      " batch_normalization_1 (Bat  (None, 300)               1200      \n",
      " chNormalization)                                                \n",
      "                                                                 \n",
      " dense_5 (Dense)             (None, 100)               30100     \n",
      "                                                                 \n",
      " batch_normalization_2 (Bat  (None, 100)               400       \n",
      " chNormalization)                                                \n",
      "                                                                 \n",
      " dense_6 (Dense)             (None, 10)                1010      \n",
      "                                                                 \n",
      "=================================================================\n",
      "Total params: 271346 (1.04 MB)\n",
      "Trainable params: 268978 (1.03 MB)\n",
      "Non-trainable params: 2368 (9.25 KB)\n",
      "_________________________________________________________________\n"
     ]
    }
   ],
   "source": [
    "model.summary()"
   ]
  },
  {
   "cell_type": "markdown",
   "id": "04176fd5-d837-4bfd-b4b3-a20469630faf",
   "metadata": {},
   "source": [
    "As we can see, each BN layer adds four parameters per input: $\\gamma$, $\\beta$, $\\mu$, and\n",
    "$\\sigma$ (for example, the first BN layer adds 3,136 parameters, which is 4 × 784). \n",
    "The last two parameters, $\\mu$ and $\\sigma$, are the moving averages; they are\n",
    "not affected by backpropagation, so Keras calls them “non-trainable” \n",
    "(if we count the total number of BN parameters, 3,136 + 1,200 + 400, and\n",
    "divide by 2, you get 2,368, which is the total number of non-trainable\n",
    "parameters in this model).\n",
    "\n",
    "**NOTE:**\n",
    "\n",
    "$\\mu$ and $\\sigma$ are estimated during training, based on the training data, so arguably they\n",
    "are trainable. In Keras, “non-trainable” really means “untouched by backpropagation.”"
   ]
  },
  {
   "cell_type": "markdown",
   "id": "fa2945b2-2bb2-41d0-8585-ce6640625657",
   "metadata": {},
   "source": [
    "Let’s look at the parameters of the first BN layer. Two are trainable (by\n",
    "backpropagation), and two are not:"
   ]
  },
  {
   "cell_type": "code",
   "execution_count": 10,
   "id": "83206e4d-24ce-4b1b-97e0-3e88d5e3c33e",
   "metadata": {},
   "outputs": [
    {
     "data": {
      "text/plain": [
       "[('batch_normalization/gamma:0', True),\n",
       " ('batch_normalization/beta:0', True),\n",
       " ('batch_normalization/moving_mean:0', False),\n",
       " ('batch_normalization/moving_variance:0', False)]"
      ]
     },
     "execution_count": 10,
     "metadata": {},
     "output_type": "execute_result"
    }
   ],
   "source": [
    "[(var.name, var.trainable) for var in model.layers[1].variables]"
   ]
  },
  {
   "cell_type": "markdown",
   "id": "c4a5cea4-2040-4282-b37a-71b4743144b4",
   "metadata": {},
   "source": [
    "The authors of the BN paper argued in favor of adding the BN layers\n",
    "before the activation functions, rather than after (as we just did). But this highly depends on the task. To add the BN layers before the activation functions, you must\n",
    "remove the activation function from the hidden layers and add them as\n",
    "separate layers after the BN layers. Moreover, since a Batch\n",
    "Normalization layer includes one offset parameter per input, you can\n",
    "remove the bias term from the previous layer (just pass `use_bias=False`\n",
    "when creating it):"
   ]
  },
  {
   "cell_type": "code",
   "execution_count": 11,
   "id": "821ac608-c27b-4f84-9553-0a058f584c95",
   "metadata": {},
   "outputs": [],
   "source": [
    "model = keras.models.Sequential([\n",
    "    keras.layers.Flatten(input_shape=[28, 28]),\n",
    "    keras.layers.BatchNormalization(),\n",
    "    keras.layers.Dense(300, kernel_initializer=\"he_normal\",use_bias=False),\n",
    "    keras.layers.BatchNormalization(),\n",
    "    keras.layers.Activation(\"elu\"),\n",
    "    keras.layers.Dense(100, kernel_initializer=\"he_normal\",use_bias=False),\n",
    "    keras.layers.BatchNormalization(),\n",
    "    keras.layers.Activation(\"elu\"),\n",
    "    keras.layers.Dense(10, activation=\"softmax\")\n",
    "])"
   ]
  },
  {
   "cell_type": "markdown",
   "id": "4eb11f1f-62f7-40a3-a0f2-ee9b8609a8b5",
   "metadata": {},
   "source": [
    "When the input batch is 2D (i.e., the batch shape is `[batch size, features])`, this means that each input feature will be normalized based on the mean and standard deviation computed across all\n",
    "the instances in the batch.\n",
    "\n",
    "For example, the first BN layer in the previous code example will independently normalize (and rescale and shift) each of the 784 input features. If we move the first BN layer before the `Flatten` layer, then the input batches will be 3D, with shape `[batch size, height, width]`; therefore BN layer will compute 28 means and 28 standard deviations (1 per column of pixels, computed across all instances in the batch and across all rows in the column), and it will normalize all pixels in a given column using the same mean and standard deviation. There will also be just 28 scale parameters and 29 shift parameters. If instead we still want to treat each of the 784 pixels independently, then we should set `axis=[1,2]`"
   ]
  },
  {
   "cell_type": "markdown",
   "id": "8e8b1117-860b-4c7f-b92e-3a3eb917c80c",
   "metadata": {},
   "source": [
    "### Gradient Clipping"
   ]
  },
  {
   "cell_type": "markdown",
   "id": "32c75c5e-b6cd-4eee-969d-0fc34c272578",
   "metadata": {},
   "source": [
    "In Keras, implementing Gradient Clipping is just a matter of setting the\n",
    "`clipvalue` or `clipnorm argument` when creating an optimizer, like this:"
   ]
  },
  {
   "cell_type": "code",
   "execution_count": 13,
   "id": "b7d369fe-b6cb-4293-be1d-21741276e2de",
   "metadata": {},
   "outputs": [],
   "source": [
    "optimizer = keras.optimizers.SGD(clipvalue=1.0)\n",
    "model.compile(loss=\"mse\", optimizer=optimizer)"
   ]
  },
  {
   "cell_type": "markdown",
   "id": "c06ca98b-b49d-4a12-adb1-50257ac44850",
   "metadata": {},
   "source": [
    "The optimizier will clip every component of the gradient vector to a value between -1.0 and 1.0. This means that all the partial derivatives of the loss (wrt to each and every trainable parameter) will be clipped to -1.0 and 1.0. This threshold is a hyperparameter we can tune.\n",
    "\n",
    "Note that, it may change the orientation of the gradient vector. For instance, if the original gradient vector is [0.9, 100.0], it points mostly in the direction of 2nd axis; but once u clip it by value, we get [0.9, 1.0], which points roughly in the diagonal between the two axes. In practice, this approach works well. \n",
    "\n",
    "If we want to ensure that Gradient Clipping does not change the direction of gradient vector, we should clip by norm by setting `clipnorm` instead of `clipvalue`. This will clip the whole gradient if its $l_2$ norm is greater than the threshold we picked. For example, if we set `clipnorm=1.0`, theb vector [0.9, 100.0] will be clipped to [0.00899964, 0.9999595], preserving its oreintation but almost eliminating its first component. "
   ]
  },
  {
   "cell_type": "markdown",
   "id": "f88dbab3-1eb4-41df-894a-e8ae1e9e9ca2",
   "metadata": {},
   "source": [
    "## Reusing Pretrained Layers"
   ]
  },
  {
   "cell_type": "markdown",
   "id": "91588e2c-d91c-44de-8fe6-44d9fe2053f8",
   "metadata": {},
   "source": [
    "### Transfer Learning with Keras"
   ]
  },
  {
   "cell_type": "markdown",
   "id": "ae2b99b2-27e3-4508-b91a-253dbb1a5033",
   "metadata": {},
   "source": [
    "Suppose the Fashin MNIST dataset only contained eight classes -  for example, all the classes except for sandal and shirt. Someone built and trained a Keras model on that set and got reasonably good performance (>90% accuracy). Let's call this model A. Now we want to tackle a different task: we have images of sandals and shirts, and we want to train a binary classifier (positive = shirt, negative = sandal). Our dataset is quite small, we only have 200 labelled images. When we train a new model for this task (let's call it model B) with the same architecture as model A, it performs reasonably well (97.2 % accuracy). But since it's a much easier task (there are just two classes), we were hoping for more. While drinking our morning coffee, we realized that our task is quite similar to task A, so perhaps transfer learning can help. Let's find out."
   ]
  },
  {
   "cell_type": "markdown",
   "id": "6bdafec2-fe58-4de2-be01-787d9b55dba1",
   "metadata": {},
   "source": [
    "But first of all we will train model A, so that we can reuse it."
   ]
  },
  {
   "cell_type": "markdown",
   "id": "7fc44297-66e8-46e0-ad31-0e1f4b7887e3",
   "metadata": {},
   "source": [
    "##### Training Model A"
   ]
  },
  {
   "cell_type": "markdown",
   "id": "e35342ee-6e5c-45de-9ad7-2b5add83d40f",
   "metadata": {},
   "source": [
    "Let's split the Fashion MNIST dataset in two:\n",
    "\n",
    "- `X_train_A`: all the images of all items except for sandalas and shirts (class 5 and 6)\n",
    "- `X_train_B`: a smaller training set of just 200 images of sandalas and shirts\n",
    "\n",
    "The validation and test set are also split this way, but without restricting the number of images. "
   ]
  },
  {
   "cell_type": "code",
   "execution_count": 41,
   "id": "f91ea69d-ff76-4398-b584-bf7afa9d4953",
   "metadata": {},
   "outputs": [],
   "source": [
    "def split_dataset(X, y):\n",
    "    y_5_or_6 = (y == 5) | (y == 6) # sandals or shirts\n",
    "    y_A = y[~y_5_or_6]\n",
    "    y_A[y_A > 6] -= 2 # class indices 7, 8, 9 should be moved to 5, 6, 7\n",
    "    y_B = (y[y_5_or_6] == 6).astype(np.float32) #binary classification task: is it a shirt (class 6)?\n",
    "    return ((X[~y_5_or_6], y_A),\n",
    "            (X[y_5_or_6], y_B))"
   ]
  },
  {
   "cell_type": "code",
   "execution_count": 42,
   "id": "59f608f1-6b01-4368-903c-284f9d235b1b",
   "metadata": {},
   "outputs": [],
   "source": [
    "(X_train_full, y_train_full), (X_test, y_test) = keras.datasets.fashion_mnist.load_data()\n",
    "X_train_full = X_train_full / 255.0\n",
    "X_test = X_test / 255.0\n",
    "X_valid, X_train = X_train_full[:5000], X_train_full[5000:]\n",
    "y_valid, y_train = y_train_full[:5000], y_train_full[5000:]"
   ]
  },
  {
   "cell_type": "code",
   "execution_count": 43,
   "id": "598115ac-033e-4041-a143-2a6c4be3e5d1",
   "metadata": {},
   "outputs": [],
   "source": [
    "(X_train_A, y_train_A), (X_train_B, y_train_B) = split_dataset(X_train, y_train)\n",
    "(X_valid_A, y_valid_A), (X_valid_B, y_valid_B) = split_dataset(X_valid, y_valid)\n",
    "(X_test_A, y_test_A), (X_test_B, y_test_B) = split_dataset(X_test, y_test)\n",
    "X_train_B = X_train_B[:200]\n",
    "y_train_B = y_train_B[:200]"
   ]
  },
  {
   "cell_type": "code",
   "execution_count": 7,
   "id": "d852af4a-c8a9-4710-a1e4-2619fc367165",
   "metadata": {},
   "outputs": [
    {
     "data": {
      "text/plain": [
       "(43986, 28, 28)"
      ]
     },
     "execution_count": 7,
     "metadata": {},
     "output_type": "execute_result"
    }
   ],
   "source": [
    "X_train_A.shape"
   ]
  },
  {
   "cell_type": "code",
   "execution_count": 8,
   "id": "89e2e239-1b32-4bd7-9fab-fe34d6be50dc",
   "metadata": {},
   "outputs": [
    {
     "data": {
      "text/plain": [
       "(200, 28, 28)"
      ]
     },
     "execution_count": 8,
     "metadata": {},
     "output_type": "execute_result"
    }
   ],
   "source": [
    "X_train_B.shape"
   ]
  },
  {
   "cell_type": "code",
   "execution_count": 9,
   "id": "ddda0e6b-1743-40e6-a7e2-8ffae8d5fb56",
   "metadata": {},
   "outputs": [
    {
     "data": {
      "text/plain": [
       "array([4, 0, 5, 7, 7, 7, 4, 4, 3, 4, 0, 1, 6, 3, 4, 3, 2, 6, 5, 3, 4, 5,\n",
       "       1, 3, 4, 2, 0, 6, 7, 1], dtype=uint8)"
      ]
     },
     "execution_count": 9,
     "metadata": {},
     "output_type": "execute_result"
    }
   ],
   "source": [
    "y_train_A[:30]"
   ]
  },
  {
   "cell_type": "code",
   "execution_count": 10,
   "id": "09b4f954-1db8-4b97-a842-9e0a6bf5d10b",
   "metadata": {},
   "outputs": [
    {
     "data": {
      "text/plain": [
       "array([1., 1., 0., 0., 0., 0., 1., 1., 1., 0., 0., 1., 1., 0., 0., 0., 0.,\n",
       "       0., 0., 1., 1., 0., 0., 1., 1., 0., 1., 1., 1., 1.], dtype=float32)"
      ]
     },
     "execution_count": 10,
     "metadata": {},
     "output_type": "execute_result"
    }
   ],
   "source": [
    "y_train_B[:30]"
   ]
  },
  {
   "cell_type": "code",
   "execution_count": 11,
   "id": "b1ba68b2-5b5d-47a5-a079-0f96a008a822",
   "metadata": {},
   "outputs": [],
   "source": [
    "tf.random.set_seed(42)\n",
    "np.random.seed(42)"
   ]
  },
  {
   "cell_type": "code",
   "execution_count": 12,
   "id": "afee90c5-fd63-4932-a1ca-666dd7bdd1b7",
   "metadata": {},
   "outputs": [],
   "source": [
    "keras.backend.clear_session()"
   ]
  },
  {
   "cell_type": "code",
   "execution_count": 13,
   "id": "7ea2157f-82b1-47d1-b033-26a3f519b98b",
   "metadata": {},
   "outputs": [],
   "source": [
    "model_A = keras.models.Sequential()\n",
    "model_A.add(keras.layers.Flatten(input_shape=[28, 28]))\n",
    "for n_hidden in (300, 100, 50, 50, 50):\n",
    "    model_A.add(keras.layers.Dense(n_hidden, activation=\"selu\"))\n",
    "model_A.add(keras.layers.Dense(8, activation=\"softmax\"))"
   ]
  },
  {
   "cell_type": "code",
   "execution_count": 14,
   "id": "aaaef9fd-b88d-413b-8ed7-e01a756d2424",
   "metadata": {},
   "outputs": [],
   "source": [
    "model_A.compile(loss=\"sparse_categorical_crossentropy\",\n",
    "                optimizer=keras.optimizers.SGD(learning_rate=1e-3),\n",
    "                metrics=[\"accuracy\"])"
   ]
  },
  {
   "cell_type": "code",
   "execution_count": 15,
   "id": "e5ce1fa1-bbc0-4b40-8955-f453a34abbe7",
   "metadata": {
    "scrolled": true,
    "tags": []
   },
   "outputs": [
    {
     "name": "stdout",
     "output_type": "stream",
     "text": [
      "Epoch 1/20\n"
     ]
    },
    {
     "name": "stderr",
     "output_type": "stream",
     "text": [
      "2023-12-26 21:18:06.510259: W tensorflow/tsl/framework/cpu_allocator_impl.cc:83] Allocation of 137940096 exceeds 10% of free system memory.\n"
     ]
    },
    {
     "name": "stdout",
     "output_type": "stream",
     "text": [
      "1375/1375 [==============================] - 3s 2ms/step - loss: 0.5725 - accuracy: 0.8144 - val_loss: 0.3817 - val_accuracy: 0.8717\n",
      "Epoch 2/20\n",
      "1375/1375 [==============================] - 3s 2ms/step - loss: 0.3495 - accuracy: 0.8798 - val_loss: 0.3242 - val_accuracy: 0.8916\n",
      "Epoch 3/20\n",
      "1375/1375 [==============================] - 3s 2ms/step - loss: 0.3144 - accuracy: 0.8913 - val_loss: 0.2977 - val_accuracy: 0.8996\n",
      "Epoch 4/20\n",
      "1375/1375 [==============================] - 3s 2ms/step - loss: 0.2958 - accuracy: 0.8971 - val_loss: 0.2849 - val_accuracy: 0.9081\n",
      "Epoch 5/20\n",
      "1375/1375 [==============================] - 4s 3ms/step - loss: 0.2832 - accuracy: 0.9016 - val_loss: 0.2743 - val_accuracy: 0.9108\n",
      "Epoch 6/20\n",
      "1375/1375 [==============================] - 4s 3ms/step - loss: 0.2736 - accuracy: 0.9054 - val_loss: 0.2704 - val_accuracy: 0.9066\n",
      "Epoch 7/20\n",
      "1375/1375 [==============================] - 4s 3ms/step - loss: 0.2658 - accuracy: 0.9092 - val_loss: 0.2647 - val_accuracy: 0.9108\n",
      "Epoch 8/20\n",
      "1375/1375 [==============================] - 4s 3ms/step - loss: 0.2591 - accuracy: 0.9114 - val_loss: 0.2578 - val_accuracy: 0.9128\n",
      "Epoch 9/20\n",
      "1375/1375 [==============================] - 4s 3ms/step - loss: 0.2540 - accuracy: 0.9124 - val_loss: 0.2542 - val_accuracy: 0.9143\n",
      "Epoch 10/20\n",
      "1375/1375 [==============================] - 4s 3ms/step - loss: 0.2491 - accuracy: 0.9148 - val_loss: 0.2522 - val_accuracy: 0.9175\n",
      "Epoch 11/20\n",
      "1375/1375 [==============================] - 4s 3ms/step - loss: 0.2450 - accuracy: 0.9163 - val_loss: 0.2486 - val_accuracy: 0.9168\n",
      "Epoch 12/20\n",
      "1375/1375 [==============================] - 4s 3ms/step - loss: 0.2409 - accuracy: 0.9177 - val_loss: 0.2467 - val_accuracy: 0.9158\n",
      "Epoch 13/20\n",
      "1375/1375 [==============================] - 4s 3ms/step - loss: 0.2377 - accuracy: 0.9190 - val_loss: 0.2445 - val_accuracy: 0.9168\n",
      "Epoch 14/20\n",
      "1375/1375 [==============================] - 4s 3ms/step - loss: 0.2342 - accuracy: 0.9196 - val_loss: 0.2414 - val_accuracy: 0.9173\n",
      "Epoch 15/20\n",
      "1375/1375 [==============================] - 4s 3ms/step - loss: 0.2315 - accuracy: 0.9205 - val_loss: 0.2468 - val_accuracy: 0.9158\n",
      "Epoch 16/20\n",
      "1375/1375 [==============================] - 4s 3ms/step - loss: 0.2283 - accuracy: 0.9227 - val_loss: 0.2391 - val_accuracy: 0.9198\n",
      "Epoch 17/20\n",
      "1375/1375 [==============================] - 4s 3ms/step - loss: 0.2260 - accuracy: 0.9228 - val_loss: 0.2466 - val_accuracy: 0.9153\n",
      "Epoch 18/20\n",
      "1375/1375 [==============================] - 4s 3ms/step - loss: 0.2232 - accuracy: 0.9237 - val_loss: 0.2432 - val_accuracy: 0.9143\n",
      "Epoch 19/20\n",
      "1375/1375 [==============================] - 4s 3ms/step - loss: 0.2209 - accuracy: 0.9247 - val_loss: 0.2349 - val_accuracy: 0.9193\n",
      "Epoch 20/20\n",
      "1375/1375 [==============================] - 4s 3ms/step - loss: 0.2186 - accuracy: 0.9253 - val_loss: 0.2357 - val_accuracy: 0.9190\n"
     ]
    }
   ],
   "source": [
    "history = model_A.fit(X_train_A, y_train_A, epochs=20, validation_data=(X_valid_A, y_valid_A))"
   ]
  },
  {
   "cell_type": "code",
   "execution_count": 16,
   "id": "6c60deec-d167-4f07-b803-13b42098de1d",
   "metadata": {},
   "outputs": [
    {
     "name": "stderr",
     "output_type": "stream",
     "text": [
      "/home/dell/anaconda3/envs/latest/lib/python3.11/site-packages/keras/src/engine/training.py:3000: UserWarning: You are saving your model as an HDF5 file via `model.save()`. This file format is considered legacy. We recommend using instead the native Keras format, e.g. `model.save('my_model.keras')`.\n",
      "  saving_api.save_model(\n"
     ]
    }
   ],
   "source": [
    "model_A.save(\"my_model_A.h5\")"
   ]
  },
  {
   "cell_type": "markdown",
   "id": "9aa82c2d-c50f-4b3f-9fca-d87d09dc4099",
   "metadata": {},
   "source": [
    "Now we will train model_B (binary classifier) from and then we will train using transfer learning and then we will check whether transfer learning provides any benefits:"
   ]
  },
  {
   "cell_type": "markdown",
   "id": "ac3a5fbd-13ec-4407-92b4-1576e5aba81f",
   "metadata": {},
   "source": [
    "##### Training Model B from scratch"
   ]
  },
  {
   "cell_type": "code",
   "execution_count": 17,
   "id": "6ebc67df-f39b-44e5-956c-d4bfcd43ca8a",
   "metadata": {},
   "outputs": [],
   "source": [
    "model_B = keras.models.Sequential()\n",
    "model_B.add(keras.layers.Flatten(input_shape=[28, 28]))\n",
    "for n_hidden in (300, 100, 50, 50, 50):\n",
    "    model_B.add(keras.layers.Dense(n_hidden, activation=\"selu\"))\n",
    "model_B.add(keras.layers.Dense(1, activation=\"sigmoid\"))"
   ]
  },
  {
   "cell_type": "code",
   "execution_count": 18,
   "id": "51232633-d39b-405e-8b8c-d3f74ea6bca1",
   "metadata": {},
   "outputs": [],
   "source": [
    "model_B.compile(loss=\"binary_crossentropy\",\n",
    "               optimizer=keras.optimizers.SGD(learning_rate=1e-3),\n",
    "               metrics=[\"accuracy\"])"
   ]
  },
  {
   "cell_type": "code",
   "execution_count": 19,
   "id": "71cf1c3e-8093-447d-a74d-d699cd628823",
   "metadata": {
    "scrolled": true,
    "tags": []
   },
   "outputs": [
    {
     "name": "stdout",
     "output_type": "stream",
     "text": [
      "Epoch 1/20\n",
      "7/7 [==============================] - 1s 59ms/step - loss: 0.7185 - accuracy: 0.6000 - val_loss: 0.5737 - val_accuracy: 0.6673\n",
      "Epoch 2/20\n",
      "7/7 [==============================] - 0s 14ms/step - loss: 0.5255 - accuracy: 0.7600 - val_loss: 0.4362 - val_accuracy: 0.8347\n",
      "Epoch 3/20\n",
      "7/7 [==============================] - 0s 14ms/step - loss: 0.3989 - accuracy: 0.8750 - val_loss: 0.3527 - val_accuracy: 0.8925\n",
      "Epoch 4/20\n",
      "7/7 [==============================] - 0s 18ms/step - loss: 0.3214 - accuracy: 0.9050 - val_loss: 0.2962 - val_accuracy: 0.9168\n",
      "Epoch 5/20\n",
      "7/7 [==============================] - 0s 15ms/step - loss: 0.2666 - accuracy: 0.9350 - val_loss: 0.2559 - val_accuracy: 0.9391\n",
      "Epoch 6/20\n",
      "7/7 [==============================] - 0s 15ms/step - loss: 0.2261 - accuracy: 0.9600 - val_loss: 0.2257 - val_accuracy: 0.9493\n",
      "Epoch 7/20\n",
      "7/7 [==============================] - 0s 16ms/step - loss: 0.1982 - accuracy: 0.9650 - val_loss: 0.2038 - val_accuracy: 0.9544\n",
      "Epoch 8/20\n",
      "7/7 [==============================] - 0s 15ms/step - loss: 0.1756 - accuracy: 0.9700 - val_loss: 0.1857 - val_accuracy: 0.9615\n",
      "Epoch 9/20\n",
      "7/7 [==============================] - 0s 15ms/step - loss: 0.1576 - accuracy: 0.9750 - val_loss: 0.1711 - val_accuracy: 0.9696\n",
      "Epoch 10/20\n",
      "7/7 [==============================] - 0s 15ms/step - loss: 0.1427 - accuracy: 0.9800 - val_loss: 0.1592 - val_accuracy: 0.9706\n",
      "Epoch 11/20\n",
      "7/7 [==============================] - 0s 15ms/step - loss: 0.1310 - accuracy: 0.9800 - val_loss: 0.1488 - val_accuracy: 0.9736\n",
      "Epoch 12/20\n",
      "7/7 [==============================] - 0s 15ms/step - loss: 0.1209 - accuracy: 0.9850 - val_loss: 0.1401 - val_accuracy: 0.9757\n",
      "Epoch 13/20\n",
      "7/7 [==============================] - 0s 15ms/step - loss: 0.1123 - accuracy: 0.9850 - val_loss: 0.1328 - val_accuracy: 0.9757\n",
      "Epoch 14/20\n",
      "7/7 [==============================] - 0s 15ms/step - loss: 0.1049 - accuracy: 0.9850 - val_loss: 0.1262 - val_accuracy: 0.9767\n",
      "Epoch 15/20\n",
      "7/7 [==============================] - 0s 15ms/step - loss: 0.0986 - accuracy: 0.9850 - val_loss: 0.1205 - val_accuracy: 0.9797\n",
      "Epoch 16/20\n",
      "7/7 [==============================] - 0s 18ms/step - loss: 0.0930 - accuracy: 0.9850 - val_loss: 0.1155 - val_accuracy: 0.9797\n",
      "Epoch 17/20\n",
      "7/7 [==============================] - 0s 16ms/step - loss: 0.0878 - accuracy: 0.9850 - val_loss: 0.1110 - val_accuracy: 0.9797\n",
      "Epoch 18/20\n",
      "7/7 [==============================] - 0s 16ms/step - loss: 0.0833 - accuracy: 0.9850 - val_loss: 0.1070 - val_accuracy: 0.9797\n",
      "Epoch 19/20\n",
      "7/7 [==============================] - 0s 15ms/step - loss: 0.0790 - accuracy: 0.9850 - val_loss: 0.1032 - val_accuracy: 0.9797\n",
      "Epoch 20/20\n",
      "7/7 [==============================] - 0s 15ms/step - loss: 0.0753 - accuracy: 0.9850 - val_loss: 0.0997 - val_accuracy: 0.9797\n"
     ]
    }
   ],
   "source": [
    "history = model_B.fit(X_train_B, y_train_B, epochs=20, \n",
    "                     validation_data=(X_valid_B, y_valid_B))"
   ]
  },
  {
   "cell_type": "code",
   "execution_count": 20,
   "id": "01ace278-7151-469b-8327-2b3bf4ee5f4b",
   "metadata": {},
   "outputs": [
    {
     "name": "stdout",
     "output_type": "stream",
     "text": [
      "Model: \"sequential_1\"\n",
      "_________________________________________________________________\n",
      " Layer (type)                Output Shape              Param #   \n",
      "=================================================================\n",
      " flatten_1 (Flatten)         (None, 784)               0         \n",
      "                                                                 \n",
      " dense_6 (Dense)             (None, 300)               235500    \n",
      "                                                                 \n",
      " dense_7 (Dense)             (None, 100)               30100     \n",
      "                                                                 \n",
      " dense_8 (Dense)             (None, 50)                5050      \n",
      "                                                                 \n",
      " dense_9 (Dense)             (None, 50)                2550      \n",
      "                                                                 \n",
      " dense_10 (Dense)            (None, 50)                2550      \n",
      "                                                                 \n",
      " dense_11 (Dense)            (None, 1)                 51        \n",
      "                                                                 \n",
      "=================================================================\n",
      "Total params: 275801 (1.05 MB)\n",
      "Trainable params: 275801 (1.05 MB)\n",
      "Non-trainable params: 0 (0.00 Byte)\n",
      "_________________________________________________________________\n"
     ]
    }
   ],
   "source": [
    "model_B.summary()"
   ]
  },
  {
   "cell_type": "markdown",
   "id": "48d1a5f1-6997-4d8f-8ff8-ef3205cb2001",
   "metadata": {},
   "source": [
    "Now let's use the transfer learning. \n",
    "\n",
    "First we need to load model A and create a new model based on that model's layers. Let's reuse all the layers except for the output layer:"
   ]
  },
  {
   "cell_type": "code",
   "execution_count": 21,
   "id": "1469c501-be56-486c-9264-1531f296be52",
   "metadata": {},
   "outputs": [],
   "source": [
    "model_A = keras.models.load_model(\"my_model_A.h5\")"
   ]
  },
  {
   "cell_type": "code",
   "execution_count": 22,
   "id": "9a223828-bbd3-4599-98fc-ccffd742129b",
   "metadata": {},
   "outputs": [
    {
     "data": {
      "text/plain": [
       "[<keras.src.layers.reshaping.flatten.Flatten at 0x7f53701f3dd0>,\n",
       " <keras.src.layers.core.dense.Dense at 0x7f53706541d0>,\n",
       " <keras.src.layers.core.dense.Dense at 0x7f53d6335f50>,\n",
       " <keras.src.layers.core.dense.Dense at 0x7f53701dd610>,\n",
       " <keras.src.layers.core.dense.Dense at 0x7f5350711910>,\n",
       " <keras.src.layers.core.dense.Dense at 0x7f53701db590>,\n",
       " <keras.src.layers.core.dense.Dense at 0x7f5350708690>]"
      ]
     },
     "execution_count": 22,
     "metadata": {},
     "output_type": "execute_result"
    }
   ],
   "source": [
    "model_A.layers"
   ]
  },
  {
   "cell_type": "code",
   "execution_count": 23,
   "id": "e9f73a16-0d68-40f9-8226-38b4a8c38c7c",
   "metadata": {},
   "outputs": [],
   "source": [
    "model_B_on_A = keras.models.Sequential(model_A.layers[:-1])\n",
    "model_B_on_A.add(keras.layers.Dense(1, activation=\"sigmoid\"))"
   ]
  },
  {
   "cell_type": "markdown",
   "id": "e646c5d1-d34a-4169-a797-0738597f4c0e",
   "metadata": {},
   "source": [
    "Note that `model_A` and `model_B_on_A` now share some layers. When we train `model_B_on_A`, it will also affect `model_A`. If we want to avoid that, we need to clone the `model_A` before we reuse its layers. To do this, we clone model A's architecture with `clone.model()`, then copy its weights (since `clone_model()` does not clone the weights):"
   ]
  },
  {
   "cell_type": "code",
   "execution_count": 24,
   "id": "3010ea1d-3a56-4663-87b5-df3d5ad9d8dc",
   "metadata": {},
   "outputs": [],
   "source": [
    "model_A_clone = keras.models.clone_model(model_A)\n",
    "model_A_clone.set_weights(model_A.get_weights())"
   ]
  },
  {
   "cell_type": "code",
   "execution_count": 25,
   "id": "2df53e90-da99-46f9-aeeb-61149acf69bc",
   "metadata": {},
   "outputs": [],
   "source": [
    "model_B_on_A = keras.models.Sequential(model_A_clone.layers[:-1])\n",
    "model_B_on_A.add(keras.layers.Dense(1, activation=\"sigmoid\"))"
   ]
  },
  {
   "cell_type": "markdown",
   "id": "fcb5df3a-6a15-4eed-9065-47d6a82c95c6",
   "metadata": {},
   "source": [
    "Now we could train `model_B_on_A` for task B, but since the new output layer was initialized randomly it will make large errors (at least during the first few epochs), so there will be large error gradients that may wreck the reused weights. To avoid this, one approach is to freeze the reused layers during the first few epochs, giving the new layer some time to learn reasonable weights. \n",
    "\n",
    "To do this, set every layer's `trainable` attribute to `False` and compile the model:"
   ]
  },
  {
   "cell_type": "code",
   "execution_count": 26,
   "id": "3d573981-574a-47d1-ac58-49adf3fba1d8",
   "metadata": {},
   "outputs": [],
   "source": [
    "for layer in model_B_on_A.layers[:-1]:\n",
    "    layer.trainable = False"
   ]
  },
  {
   "cell_type": "code",
   "execution_count": 27,
   "id": "80b2952a-b347-499e-97b8-491e9e979b2f",
   "metadata": {},
   "outputs": [],
   "source": [
    "model_B_on_A.compile(loss=\"binary_crossentropy\", \n",
    "                     optimizer=keras.optimizers.SGD(learning_rate=1e-3), \n",
    "                     metrics=[\"accuracy\"])"
   ]
  },
  {
   "cell_type": "markdown",
   "id": "728fea96-9966-4934-b6e9-338d6d7437bd",
   "metadata": {},
   "source": [
    "**NOTE:**\n",
    "\n",
    "We must always compile our model after we freeze or unfreeze layers."
   ]
  },
  {
   "cell_type": "markdown",
   "id": "262a2dd5-5734-4726-9506-2148ccfd58e3",
   "metadata": {},
   "source": [
    "Now we can train the model for a few epochs, then unfreeze the reused layers (which requires compiling the model again) and continue training to fine-tune the reused layers for task B. After unfreezing the reused layers, it is usually good idea to reduce the learning rate, once again to avoid damaging the reused weights."
   ]
  },
  {
   "cell_type": "code",
   "execution_count": 28,
   "id": "a02bc058-8876-45f4-85db-3a9a4d880955",
   "metadata": {},
   "outputs": [
    {
     "name": "stdout",
     "output_type": "stream",
     "text": [
      "Epoch 1/4\n",
      "7/7 [==============================] - 1s 37ms/step - loss: 0.8463 - accuracy: 0.4500 - val_loss: 0.7631 - val_accuracy: 0.5101\n",
      "Epoch 2/4\n",
      "7/7 [==============================] - 0s 13ms/step - loss: 0.7725 - accuracy: 0.5200 - val_loss: 0.6979 - val_accuracy: 0.5659\n",
      "Epoch 3/4\n",
      "7/7 [==============================] - 0s 15ms/step - loss: 0.7047 - accuracy: 0.5800 - val_loss: 0.6425 - val_accuracy: 0.6258\n",
      "Epoch 4/4\n",
      "7/7 [==============================] - 0s 14ms/step - loss: 0.6471 - accuracy: 0.6250 - val_loss: 0.5951 - val_accuracy: 0.6805\n"
     ]
    }
   ],
   "source": [
    "history = model_B_on_A.fit(X_train_B, y_train_B, epochs=4, validation_data=(X_valid_B, y_valid_B))"
   ]
  },
  {
   "cell_type": "code",
   "execution_count": 29,
   "id": "fdd83a19-faec-4da0-9393-d207a5f0071e",
   "metadata": {},
   "outputs": [],
   "source": [
    "for layer in model_B_on_A.layers[:-1]:\n",
    "    layer.trainable = True"
   ]
  },
  {
   "cell_type": "code",
   "execution_count": 30,
   "id": "2c40c1df-741c-42d2-acbb-400944b69fcb",
   "metadata": {},
   "outputs": [],
   "source": [
    "optimizer = keras.optimizers.SGD(learning_rate = 1e-3)\n",
    "model_B_on_A.compile(loss=\"binary_crossentropy\", optimizer=optimizer, metrics=[\"accuracy\"])"
   ]
  },
  {
   "cell_type": "code",
   "execution_count": 31,
   "id": "85121235-57e7-4f10-a971-91be786b8653",
   "metadata": {
    "scrolled": true,
    "tags": []
   },
   "outputs": [
    {
     "name": "stdout",
     "output_type": "stream",
     "text": [
      "Epoch 1/16\n",
      "7/7 [==============================] - 1s 38ms/step - loss: 0.5373 - accuracy: 0.7250 - val_loss: 0.4243 - val_accuracy: 0.8276\n",
      "Epoch 2/16\n",
      "7/7 [==============================] - 0s 13ms/step - loss: 0.3924 - accuracy: 0.8550 - val_loss: 0.3262 - val_accuracy: 0.9249\n",
      "Epoch 3/16\n",
      "7/7 [==============================] - 0s 13ms/step - loss: 0.3027 - accuracy: 0.9200 - val_loss: 0.2662 - val_accuracy: 0.9554\n",
      "Epoch 4/16\n",
      "7/7 [==============================] - 0s 14ms/step - loss: 0.2468 - accuracy: 0.9550 - val_loss: 0.2258 - val_accuracy: 0.9635\n",
      "Epoch 5/16\n",
      "7/7 [==============================] - 0s 15ms/step - loss: 0.2085 - accuracy: 0.9750 - val_loss: 0.1953 - val_accuracy: 0.9746\n",
      "Epoch 6/16\n",
      "7/7 [==============================] - 0s 15ms/step - loss: 0.1787 - accuracy: 0.9850 - val_loss: 0.1728 - val_accuracy: 0.9787\n",
      "Epoch 7/16\n",
      "7/7 [==============================] - 0s 14ms/step - loss: 0.1572 - accuracy: 0.9850 - val_loss: 0.1560 - val_accuracy: 0.9817\n",
      "Epoch 8/16\n",
      "7/7 [==============================] - 0s 14ms/step - loss: 0.1407 - accuracy: 0.9900 - val_loss: 0.1423 - val_accuracy: 0.9828\n",
      "Epoch 9/16\n",
      "7/7 [==============================] - 0s 15ms/step - loss: 0.1270 - accuracy: 0.9900 - val_loss: 0.1305 - val_accuracy: 0.9838\n",
      "Epoch 10/16\n",
      "7/7 [==============================] - 0s 14ms/step - loss: 0.1153 - accuracy: 0.9900 - val_loss: 0.1214 - val_accuracy: 0.9878\n",
      "Epoch 11/16\n",
      "7/7 [==============================] - 0s 14ms/step - loss: 0.1063 - accuracy: 0.9900 - val_loss: 0.1126 - val_accuracy: 0.9878\n",
      "Epoch 12/16\n",
      "7/7 [==============================] - 0s 15ms/step - loss: 0.0975 - accuracy: 0.9900 - val_loss: 0.1059 - val_accuracy: 0.9878\n",
      "Epoch 13/16\n",
      "7/7 [==============================] - 0s 14ms/step - loss: 0.0908 - accuracy: 0.9900 - val_loss: 0.0998 - val_accuracy: 0.9888\n",
      "Epoch 14/16\n",
      "7/7 [==============================] - 0s 14ms/step - loss: 0.0848 - accuracy: 0.9900 - val_loss: 0.0942 - val_accuracy: 0.9878\n",
      "Epoch 15/16\n",
      "7/7 [==============================] - 0s 15ms/step - loss: 0.0791 - accuracy: 0.9900 - val_loss: 0.0897 - val_accuracy: 0.9878\n",
      "Epoch 16/16\n",
      "7/7 [==============================] - 0s 14ms/step - loss: 0.0745 - accuracy: 0.9900 - val_loss: 0.0859 - val_accuracy: 0.9878\n"
     ]
    }
   ],
   "source": [
    "history = model_B_on_A.fit(X_train_B, y_train_B, epochs=16, validation_data=(X_valid_B, y_valid_B))"
   ]
  },
  {
   "cell_type": "code",
   "execution_count": 32,
   "id": "2a5d58d5-7829-4db1-9720-a071a1e791a1",
   "metadata": {},
   "outputs": [
    {
     "name": "stdout",
     "output_type": "stream",
     "text": [
      "63/63 [==============================] - 0s 2ms/step - loss: 0.0902 - accuracy: 0.9875\n"
     ]
    },
    {
     "data": {
      "text/plain": [
       "[0.0902191549539566, 0.987500011920929]"
      ]
     },
     "execution_count": 32,
     "metadata": {},
     "output_type": "execute_result"
    }
   ],
   "source": [
    "model_B_on_A.evaluate(X_test_B, y_test_B)"
   ]
  },
  {
   "cell_type": "code",
   "execution_count": 33,
   "id": "fd198a06-66b6-41e3-a092-64ead87d7a5d",
   "metadata": {},
   "outputs": [
    {
     "name": "stdout",
     "output_type": "stream",
     "text": [
      "63/63 [==============================] - 0s 2ms/step - loss: 0.0965 - accuracy: 0.9815\n"
     ]
    },
    {
     "data": {
      "text/plain": [
       "[0.09650509804487228, 0.9815000295639038]"
      ]
     },
     "execution_count": 33,
     "metadata": {},
     "output_type": "execute_result"
    }
   ],
   "source": [
    "model_B.evaluate(X_test_B, y_test_B)"
   ]
  },
  {
   "cell_type": "markdown",
   "id": "23a23832-6573-4fdd-a35c-6f9038d935b6",
   "metadata": {},
   "source": [
    "Well the model's test accuracy has improved a little bit from transfer learning. "
   ]
  },
  {
   "cell_type": "markdown",
   "id": "2f7202eb-2943-48d2-b50b-32d75a8c46c6",
   "metadata": {},
   "source": [
    "It turns out that transfer learning does not work very well with small dense networks, preasumably because small networks learn few patterns, and dense networks learn very specific patterns, which are unlikely to be useful in other tasks. Transfer learning works best with deep CNN, which tend to learn feature detectors that are much more general (especially in the lower layers)."
   ]
  },
  {
   "cell_type": "markdown",
   "id": "85632ca8-9495-4364-b0ec-2c5d400d329a",
   "metadata": {},
   "source": [
    "### Unsupervised Pretraining"
   ]
  },
  {
   "cell_type": "markdown",
   "id": "77baabc1-1a7d-4e7d-8c44-1f17c749959f",
   "metadata": {},
   "source": [
    "### Pretraining on Auxiliary Task"
   ]
  },
  {
   "cell_type": "markdown",
   "id": "b21ae68d-36c3-47e8-bbe0-29827c6c4abd",
   "metadata": {},
   "source": [
    "## Faster Optimizers"
   ]
  },
  {
   "cell_type": "markdown",
   "id": "ba160831-b5fa-4ee7-982b-3dd8797f626e",
   "metadata": {},
   "source": [
    "### Momentum Optimization"
   ]
  },
  {
   "cell_type": "markdown",
   "id": "44b08e8b-5b7a-42af-85f3-fcb09fcf782a",
   "metadata": {},
   "source": [
    "Implementing momentum optimization in Keras is a no-brainer: just use\n",
    "the SGD optimizer and set its `momentum` hyperparameter, then lie back and\n",
    "profit!"
   ]
  },
  {
   "cell_type": "code",
   "execution_count": 2,
   "id": "0fb0afc8-dd43-41be-a25b-e8da55ab22d8",
   "metadata": {},
   "outputs": [],
   "source": [
    "optimizer = keras.optimizers.SGD(learning_rate=0.001, momentum=0.9)"
   ]
  },
  {
   "cell_type": "markdown",
   "id": "ff952a79-7ad6-4f54-87f4-1476bf62057c",
   "metadata": {},
   "source": [
    "### Nesterov Accelerated Gradient (NAG)"
   ]
  },
  {
   "cell_type": "markdown",
   "id": "db892e3b-2436-4795-9283-89bd86adb640",
   "metadata": {},
   "source": [
    "NAG is generally faster than regular momentum optimization. To use it simply set `nesterov=True` when creating SGD optimizer:"
   ]
  },
  {
   "cell_type": "code",
   "execution_count": 3,
   "id": "ab111e86-4e04-4c05-a186-9773decaffdc",
   "metadata": {},
   "outputs": [],
   "source": [
    "optimizer = keras.optimizers.SGD(learning_rate=0.001, momentum=0.9, nesterov=True)"
   ]
  },
  {
   "cell_type": "markdown",
   "id": "96b3ba1a-ac6b-4e0b-9e81-5a2e20002e59",
   "metadata": {},
   "source": [
    "### AdaGrad"
   ]
  },
  {
   "cell_type": "code",
   "execution_count": 4,
   "id": "25b5f2fb-4c63-4199-b225-c91cd992c1fa",
   "metadata": {},
   "outputs": [],
   "source": [
    "optimizer = keras.optimizers.Adagrad(learning_rate=0.001)"
   ]
  },
  {
   "cell_type": "markdown",
   "id": "abba61d5-4668-46af-8c19-454ac56a6fd1",
   "metadata": {},
   "source": [
    "### RMSProp"
   ]
  },
  {
   "cell_type": "code",
   "execution_count": 6,
   "id": "d223f654-125c-4be4-8883-186f95ca3e13",
   "metadata": {},
   "outputs": [],
   "source": [
    "optimizer = keras.optimizers.RMSprop(learning_rate=0.001, rho=0.9)"
   ]
  },
  {
   "cell_type": "markdown",
   "id": "987b7772-3aa0-49df-9189-2ac86c692c9d",
   "metadata": {},
   "source": [
    "### Adam and Nadam Optimization"
   ]
  },
  {
   "cell_type": "markdown",
   "id": "01316997-e3f0-4d2a-83f9-d81c73658bca",
   "metadata": {},
   "source": [
    "The momentum decay hyperparameter $\\beta_1$ is typically initialized to 0.9,\n",
    "while the scaling decay hyperparameter $\\beta_2$ is often initialized to 0.999. As\n",
    "earlier, the smoothing term $\\epsilon$ is usually initialized to a tiny number such as\n",
    "$10^{-7}$.\n",
    "\n",
    "These are the default values for the `Adam` class (to be precise, `epsilon` defaults to `None`, which tells Keras to use `keras.backend.epsilon()`, which defaults to $10^{-7}$; we can change it\n",
    "using `keras.backend.set_epsilon())`."
   ]
  },
  {
   "cell_type": "code",
   "execution_count": 7,
   "id": "24de5bd5-7756-4cbb-9564-9f903da1dcde",
   "metadata": {},
   "outputs": [],
   "source": [
    "optimizer = keras.optimizers.Adam(learning_rate=0.001, beta_1=0.9, beta_2=0.999)"
   ]
  },
  {
   "cell_type": "markdown",
   "id": "cae5e8a0-1579-47e2-a999-8c4c79f95e49",
   "metadata": {},
   "source": [
    "Since Adam is an adaptive learning rate algorithm (like AdaGrad and RMSProp), it requires less tuning of the learning rate hyperparameter $\\eta$.\n",
    "We can often use the default value $\\eta$ = 0.001, making Adam even easier to use than Gradient Descent."
   ]
  },
  {
   "cell_type": "markdown",
   "id": "da05961b-3ef7-4fad-ae21-a58b23aac59d",
   "metadata": {},
   "source": [
    "#### Adamax and Nadam"
   ]
  },
  {
   "cell_type": "code",
   "execution_count": 8,
   "id": "a92a99a5-411a-4bdc-81ea-9207ab48bd6d",
   "metadata": {},
   "outputs": [],
   "source": [
    "optimizer = keras.optimizers.Adamax(learning_rate=0.001, beta_1=0.9, beta_2=0.999)"
   ]
  },
  {
   "cell_type": "code",
   "execution_count": 9,
   "id": "fda5c836-9358-4e10-a9c0-9193fa417f10",
   "metadata": {},
   "outputs": [],
   "source": [
    "optimizer = keras.optimizers.Nadam(learning_rate=0.001, beta_1=0.9, beta_2=0.999)"
   ]
  },
  {
   "cell_type": "markdown",
   "id": "7b28fcd3-1724-44dc-8e9f-25794dbe3f12",
   "metadata": {},
   "source": [
    "### Learning Rate Scheduling"
   ]
  },
  {
   "cell_type": "markdown",
   "id": "33d0528c-d628-4f49-bf72-09013396610f",
   "metadata": {},
   "source": [
    "#### Power Scheduling"
   ]
  },
  {
   "cell_type": "markdown",
   "id": "5a4d0b6c-2a55-4479-883a-38afcf39b590",
   "metadata": {},
   "source": [
    "Implementing power scheduling in Keras is the easiest option: just set the\n",
    "`decay` hyperparameter when creating an optimizer:"
   ]
  },
  {
   "cell_type": "code",
   "execution_count": 13,
   "id": "f044b16c-9038-4f79-9500-d61e44262ce3",
   "metadata": {},
   "outputs": [],
   "source": [
    "optimizer = keras.optimizers.legacy.SGD(learning_rate=0.01, decay=1e-4)"
   ]
  },
  {
   "cell_type": "markdown",
   "id": "79ca5a72-c117-401d-b502-ea2c5aa6357f",
   "metadata": {},
   "source": [
    "The decay is the inverse of `s` (the number of steps it takes to divide the learning rate by one or more unit), and Keras assumes that `c` is equal to 1."
   ]
  },
  {
   "cell_type": "markdown",
   "id": "75f97a36-e02f-4375-b879-fa7179db77b8",
   "metadata": {},
   "source": [
    "#### Exponential Scheduling"
   ]
  },
  {
   "cell_type": "markdown",
   "id": "cde40346-d69f-48c4-9b2a-331f0f6f3ab5",
   "metadata": {},
   "source": [
    "Exponential scheduling and piecewise scheduling are quite simple too.\n",
    "We first need to define a function that takes the current epoch and returns\n",
    "the learning rate. For example, let’s implement exponential scheduling:"
   ]
  },
  {
   "cell_type": "code",
   "execution_count": 14,
   "id": "5af5fce6-eae4-46da-bdbd-8db0a03f5ea8",
   "metadata": {},
   "outputs": [],
   "source": [
    "def exponential_decay_fn(epoch):\n",
    "    return 0.01*0.1**(epoch/20)"
   ]
  },
  {
   "cell_type": "markdown",
   "id": "c22b9c29-1de5-43dd-a6ea-41bdf9f162ec",
   "metadata": {},
   "source": [
    "If we don't want to hardcode $\\eta_0$ and s, we can create a function that returns a configured function:"
   ]
  },
  {
   "cell_type": "code",
   "execution_count": 16,
   "id": "693aaa64-3f66-4901-8a94-9c290036c629",
   "metadata": {},
   "outputs": [],
   "source": [
    "def exponential_decay(lr0, s):\n",
    "    def exponential_decay_fn(epoch):\n",
    "        return lr0 * 0.1 ** (epoch / s)\n",
    "    return exponential_decay_fn"
   ]
  },
  {
   "cell_type": "code",
   "execution_count": null,
   "id": "65b5bce6-178f-44ce-8dfe-bb05985c259b",
   "metadata": {},
   "outputs": [],
   "source": [
    "exponential_decay_fn = exponential_decay(lr0=0.01, s=20)"
   ]
  },
  {
   "cell_type": "markdown",
   "id": "d9907c34-6742-4398-bc07-a0a6add4894f",
   "metadata": {},
   "source": [
    "Next, create a `LearningScheduler` callback, giving it a schedule function, and pass this call back to fit method:"
   ]
  },
  {
   "cell_type": "code",
   "execution_count": 18,
   "id": "6bc3ecb6-3e93-4048-8826-48c2c4c78853",
   "metadata": {},
   "outputs": [],
   "source": [
    "lr_scheduler = keras.callbacks.LearningRateScheduler(exponential_decay_fn)"
   ]
  },
  {
   "cell_type": "markdown",
   "id": "e978cff9-7893-4249-a969-2e4c5236cc21",
   "metadata": {},
   "source": [
    "The `LearningRateScheduler` will update the optimizer's `learning_rate` attribute at the beginning of each epoch. Updating the learning rate once per epoch is usually enough, but if we want to update more often, for example at every step, we can always write our own callback. Updating the learning rate at every step makes sense if there are many steps per epoch. Let's try it out"
   ]
  },
  {
   "cell_type": "code",
   "execution_count": 20,
   "id": "6e81b82e-912b-477d-996b-b01074ee4739",
   "metadata": {},
   "outputs": [],
   "source": [
    "K = keras.backend\n",
    "\n",
    "class ExponentialDecay(keras.callbacks.Callback):\n",
    "    def __init__(self, s=40000):\n",
    "        super().__init__()\n",
    "        self.s = s\n",
    "    \n",
    "    def on_batch_begin(self, batch, logs=None):\n",
    "        #Note: the `batch` argument resets at each epoch\n",
    "        lr = K.get_value(self.model.optimizer.learning_rate)\n",
    "        K.set_value(self.model.optimizer.learning_rate, lr*0.1**(1/(self.s)))\n",
    "        \n",
    "    def on_epoch_end(self, epoch, logs=None):\n",
    "        logs = logs or {}\n",
    "        logs[\"lr\"] = K.get_value(self.model.optimizer.learning_rate)"
   ]
  },
  {
   "cell_type": "code",
   "execution_count": 21,
   "id": "0420b789-5f06-4829-80f8-20cdb110f898",
   "metadata": {},
   "outputs": [],
   "source": [
    "exp_decay = ExponentialDecay()"
   ]
  },
  {
   "cell_type": "markdown",
   "id": "1ca91684-429f-4c50-a34c-3e6c1ffd3ea1",
   "metadata": {},
   "source": [
    "Alternatively, we can use the `keras.optimizers.schedules` approach."
   ]
  },
  {
   "cell_type": "markdown",
   "id": "b827261f-2612-435b-9f06-bbec59939123",
   "metadata": {},
   "source": [
    "The schedule function can optionally take the current learning rate as a second argument. For example, the following schedule function multiplies the previous learning rate by $0.1^{1/20}$, which results in the same exponential decay ( except the decay now starts at the beginning of epoch 0 instead of 1):"
   ]
  },
  {
   "cell_type": "code",
   "execution_count": 22,
   "id": "d6fbbc02-286a-4c12-a3d0-6ff3f5374149",
   "metadata": {},
   "outputs": [],
   "source": [
    "def exponential_decay_fn(epoch, lr):\n",
    "    return lr * 0.1 ** (1 / 20)"
   ]
  },
  {
   "cell_type": "markdown",
   "id": "58863b00-0887-41ab-a7cc-7f6675bf91d3",
   "metadata": {},
   "source": [
    "When we save the model, the optimizer and its learning rate get saved along with it. This means that with this new schedule function, we could just load a trained model and continue training where it left off, no problem. \n",
    "\n",
    "Things are not so simple if our schedule function uses the `epoch` argument, however: the epoch does not get saved, and it gets reset to 0 everytime we call the `fit()` method. If we were to continue training a model where it left off, this could be lead to a very large learning rate, which would likely damage our model's weights. One solution is to manually set the `fit()` method's argument `intial_epoch` argument so the `epoch` starts at right value."
   ]
  },
  {
   "cell_type": "markdown",
   "id": "f6fa5a18-705b-42ae-ad42-de2e8d9630b3",
   "metadata": {},
   "source": [
    "#### Piecewise constant Scheduling"
   ]
  },
  {
   "cell_type": "markdown",
   "id": "1178004a-097e-4728-8acf-9eb14123f62f",
   "metadata": {},
   "source": [
    "For piecewise constant scheduling, we can use a schedule function like the following one, then create a `LearningRateScheduler` callback with this function and pass it to `fit()` method, just like we did for exponential scheduling."
   ]
  },
  {
   "cell_type": "code",
   "execution_count": 23,
   "id": "0de9cb2e-9656-403f-85db-ceaf9743d77f",
   "metadata": {},
   "outputs": [],
   "source": [
    "def piecewise_constant_fn(epoch):\n",
    "    if epoch < 5:\n",
    "        return 0.01\n",
    "    elif epoch < 15:\n",
    "        return 0.005\n",
    "    else:\n",
    "        return 0.001"
   ]
  },
  {
   "cell_type": "markdown",
   "id": "446c1e22-9a96-4f68-a92c-12a7f285f85d",
   "metadata": {},
   "source": [
    "More general Piecewise Constant Scheduling function:"
   ]
  },
  {
   "cell_type": "code",
   "execution_count": 32,
   "id": "4ac8344c-1294-44cb-8402-3108962fd207",
   "metadata": {},
   "outputs": [],
   "source": [
    "def piecewise_constant(boundaries, values):\n",
    "    boundaries = np.array([0] + boundaries) # it is just adding 0 at the beginning\n",
    "    # print(boundaries)\n",
    "    values = np.array(values) # just converting the values (learning rate values) to numpy array\n",
    "    # print(values)\n",
    "    def piecewise_constant_fn(epoch):\n",
    "        return values[np.argmax(boundaries > epoch) - 1] # this will check whether boundary is greather than epoch and it find the index of that and we subtract 1 because array are 0 based and then we get the corresponding learning rate based on the index\n",
    "    return piecewise_constant_fn"
   ]
  },
  {
   "cell_type": "code",
   "execution_count": 33,
   "id": "3c80129f-c4f0-4da8-b07e-aa1447d030da",
   "metadata": {},
   "outputs": [],
   "source": [
    "piecewise_constant_fn = piecewise_constant([5,15], [0.01, 0.005, 0.001])"
   ]
  },
  {
   "cell_type": "markdown",
   "id": "994bac9a-b296-4dc2-9a1d-66e24f946cab",
   "metadata": {},
   "source": [
    "#### Performace Scheduling"
   ]
  },
  {
   "cell_type": "markdown",
   "id": "32736930-2a9c-416d-ba25-bb117bbe0d01",
   "metadata": {},
   "source": [
    "For performace scheduling, use the `ReduceLROnPlateau` callback. For example, if we pass the following callback to `fit()` method, it will multiply the learning rate by 0.5 whenever the best validation loss does not improve for five consecutive epochs:"
   ]
  },
  {
   "cell_type": "code",
   "execution_count": 34,
   "id": "3f9ff820-8f1c-426c-839a-be56d120b382",
   "metadata": {},
   "outputs": [],
   "source": [
    "lr_scheduler = keras.callbacks.ReduceLROnPlateau(factor=0.5, patience=5)"
   ]
  },
  {
   "cell_type": "markdown",
   "id": "dfb36648-fae2-4b07-b50d-d318f6afcdbe",
   "metadata": {},
   "source": [
    "Lastly, tf.keras offers an alternative way to implement learning rate scheduling: define the learning rate using one of the schedules available in `keras.optimizers.schedules`, then pass this learning rate to any optimizer. This approach updates the learning rate at each step rather than at each epoch.\n",
    "\n",
    "For example, here's how to implement the same exponential schedule as the `exponential_decay_fn()` function we defined earlier:"
   ]
  },
  {
   "cell_type": "code",
   "execution_count": 35,
   "id": "b729ec13-7b81-4310-86b7-0a24392057cf",
   "metadata": {},
   "outputs": [],
   "source": [
    "s = 40000\n",
    "learning_rate = keras.optimizers.schedules.ExponentialDecay(0.01, s, 0.1)\n",
    "optimizer = keras.optimizers.SGD(learning_rate)"
   ]
  },
  {
   "cell_type": "markdown",
   "id": "7bd4c44e-8aa0-4d33-a2ba-626c89e9b252",
   "metadata": {},
   "source": [
    "This is nice and simple, plus when we save the model, the learning rate and its schedule (including its state) get saved as well. This approach, however, is not part of the Keras API; it is specific to tf.keras"
   ]
  },
  {
   "cell_type": "markdown",
   "id": "5baec78c-7172-4e57-b717-636f64d1cb23",
   "metadata": {},
   "source": [
    "#### 1Cycle Scheduling"
   ]
  },
  {
   "cell_type": "markdown",
   "id": "a5af623b-0e46-4105-8141-52eb18294ddb",
   "metadata": {},
   "source": [
    "As for 1cycle approach, the implementation poses no particular difficulty: just create a custom callback that modifies the learning rate at each iteration (we can update the optimizer's learning rate by changing `self.model.optimizer.lr`)"
   ]
  },
  {
   "cell_type": "code",
   "execution_count": 37,
   "id": "9b038544-f87b-438e-8d4a-74cda5069349",
   "metadata": {},
   "outputs": [],
   "source": [
    "K = keras.backend\n",
    "\n",
    "class OneCycleScheduler(keras.callbacks.Callback):\n",
    "    def __init__(self, iterations, max_rate, start_rate=None, \n",
    "                last_iterations=None, last_rate=None):\n",
    "        self.iterations = iterations\n",
    "        self.max_rate = max_rate\n",
    "        self.start_rate = start_rate or max_rate / 10\n",
    "        self.last_iterations = last_iterations or iterations // 10 + 1\n",
    "        self.half_iteration = (iterations - self.last_iterations) // 2\n",
    "        self.last_rate = last_rate or self.start_rate / 1000\n",
    "        self.iteration = 0\n",
    "    \n",
    "    # this function starting with \"_\" means it is for internal use inside the class. It is not public method and it is not recommended to access publicly.\n",
    "    def _interpolate(self, iter1, iter2, rate1, rate2):\n",
    "        return ((rate2 -  rate1) * (self.iteration - iter1) / (iter2 - iter1) + rate1)\n",
    "    \n",
    "    def on_batch_begin(self, batch, logs):\n",
    "        if self.iteration < self.half_iteration:\n",
    "            rate = self._interpolate(0, self.half_iteration, self.start_rate, self.max_rate)\n",
    "        elif self.iteration < 2 * self.half_iteration:\n",
    "            rate = self._interpolate(self.half_iteration, 2 * self.half_iteration, self.max_rate,\n",
    "                                     self.start_rate)\n",
    "        else:\n",
    "            rate = self._interpolate(2 * self.half_iteration, self.iterations, self.start_rate,\n",
    "                                    self.last_rate)\n",
    "        self.iteration += 1\n",
    "        K.set_value(self.model.optimizer.learning_rate, rate)"
   ]
  },
  {
   "cell_type": "markdown",
   "id": "70f009db-104c-4bd1-b3c6-24d3b9758f59",
   "metadata": {},
   "source": [
    "## Avoiding Overfitting Through Regularization"
   ]
  },
  {
   "cell_type": "markdown",
   "id": "1c48aa6e-c8a6-4ce0-ab47-9716f37bcfac",
   "metadata": {},
   "source": [
    "### $l_1$ and $l_2$ regularization"
   ]
  },
  {
   "cell_type": "markdown",
   "id": "2596382e-0ea8-4efa-ab0c-b07ef387b435",
   "metadata": {},
   "source": [
    "Here's how to apply $l_2$ regularization to a Keras layer's connection weights, using a regularization factor of 0.01:"
   ]
  },
  {
   "cell_type": "code",
   "execution_count": 38,
   "id": "d43b2ba1-8bfb-48c8-a9a8-d4db5e020d7c",
   "metadata": {},
   "outputs": [],
   "source": [
    "layer = keras.layers.Dense(100, activation=\"elu\", kernel_initializer=\"he_normal\",\n",
    "                          kernel_regularizer=keras.regularizers.l2(0.01))"
   ]
  },
  {
   "cell_type": "markdown",
   "id": "f84cdecb-6764-437d-96a2-a19ba5ee40f3",
   "metadata": {},
   "source": [
    "The `l2()` function returns a regularizer that will be called at each step during training to compute the regularization loss. This is then added to final loss. \n",
    "\n",
    "Similarly, we can use `keras.regularizers.l1()` for $l_1$ regularization and `keras.regularizers.l1_l2()` if we want both $l_1$ and $l_2$ regularization, specifying factors for both."
   ]
  },
  {
   "cell_type": "markdown",
   "id": "2fce329b-0820-4aab-a184-4b79b38d3fc2",
   "metadata": {},
   "source": [
    "Since we typically want to apply the same regularizer to all layers in network, as well as using same activation function and the same initialization strategy in all hidden layers, we may find ourself repeating same arguments. To avoid this, we can try refactoring our code to use loops. Another option is to use Python's `functools.partial()` function, which lets us create a thin wrapper for any callable, with some default argument values:"
   ]
  },
  {
   "cell_type": "code",
   "execution_count": 39,
   "id": "38e531f6-388c-4d8f-b8b5-81455e4a4f81",
   "metadata": {},
   "outputs": [],
   "source": [
    "from functools import partial\n",
    "\n",
    "RegularizedDense = partial(keras.layers.Dense, activation=\"elu\", kernel_initializer=\"he_normal\",\n",
    "                          kernel_regularizer=keras.regularizers.l2(0.01))\n",
    "\n",
    "model = keras.models.Sequential([\n",
    "    keras.layers.Flatten(input_shape=[28,28]),\n",
    "    RegularizedDense(300),\n",
    "    RegularizedDense(100),\n",
    "    RegularizedDense(10, activation=\"softmax\", kernel_initializer=\"glorot_uniform\")\n",
    "])"
   ]
  },
  {
   "cell_type": "markdown",
   "id": "39dc90b6-de67-4b1d-a3c0-255644fb9291",
   "metadata": {},
   "source": [
    "### Dropout"
   ]
  },
  {
   "cell_type": "markdown",
   "id": "6de9d88b-7ff3-48f3-a9f0-700f6f1f75bd",
   "metadata": {},
   "source": [
    "To implement dropout using Keras, we can use the `keras.layers.Dropout` layer. During training it randomly drops some inputs (setting them to 0) and divides the remaining inputs by the keep probability. After training, it does nothing at all; it just passes the inputs to the next layer. The following code applies the dropout regularization before every `Dense` layer, using a dropout rate of 0.2:"
   ]
  },
  {
   "cell_type": "code",
   "execution_count": 44,
   "id": "2a409af6-4e6a-4434-b86c-387cfb9a5944",
   "metadata": {},
   "outputs": [],
   "source": [
    "(X_train_full, y_train_full), (X_test, y_test) = keras.datasets.fashion_mnist.load_data()\n",
    "X_train_full = X_train_full / 255.0\n",
    "X_test = X_test / 255.0\n",
    "X_valid, X_train = X_train_full[:5000], X_train_full[5000:]\n",
    "y_valid, y_train = y_train_full[:5000], y_train_full[5000:]\n",
    "\n",
    "pixel_means = X_train.mean(axis=0, keepdims=True)\n",
    "pixel_stds = X_train.std(axis=0, keepdims=True)\n",
    "X_train_scaled = (X_train - pixel_means) / pixel_stds\n",
    "X_valid_scaled = (X_valid - pixel_means) / pixel_stds\n",
    "X_test_scaled = (X_test - pixel_means) / pixel_stds"
   ]
  },
  {
   "cell_type": "code",
   "execution_count": 45,
   "id": "78b2833d-296e-4584-a95f-795c7b414afc",
   "metadata": {},
   "outputs": [
    {
     "name": "stdout",
     "output_type": "stream",
     "text": [
      "Epoch 1/2\n"
     ]
    },
    {
     "name": "stderr",
     "output_type": "stream",
     "text": [
      "2024-01-01 14:36:45.516693: W tensorflow/tsl/framework/cpu_allocator_impl.cc:83] Allocation of 172480000 exceeds 10% of free system memory.\n"
     ]
    },
    {
     "name": "stdout",
     "output_type": "stream",
     "text": [
      "1719/1719 [==============================] - 8s 4ms/step - loss: 0.5790 - accuracy: 0.8026 - val_loss: 0.4100 - val_accuracy: 0.8464\n",
      "Epoch 2/2\n",
      "1719/1719 [==============================] - 8s 5ms/step - loss: 0.4254 - accuracy: 0.8454 - val_loss: 0.3493 - val_accuracy: 0.8690\n"
     ]
    }
   ],
   "source": [
    "model = keras.models.Sequential([\n",
    "    keras.layers.Flatten(input_shape=[28,28]),\n",
    "    keras.layers.Dropout(rate=0.2),\n",
    "    keras.layers.Dense(300, activation=\"elu\", kernel_initializer=\"he_normal\"),\n",
    "    keras.layers.Dropout(rate=0.2),\n",
    "    keras.layers.Dense(100, activation=\"elu\", kernel_initializer=\"he_normal\"),\n",
    "    keras.layers.Dropout(rate=0.2),\n",
    "    keras.layers.Dense(10, activation=\"softmax\")\n",
    "])\n",
    "\n",
    "model.compile(loss=\"sparse_categorical_crossentropy\", optimizer=\"adam\", metrics=[\"accuracy\"])\n",
    "n_epochs=2\n",
    "h = model.fit(X_train_scaled, y_train, epochs=n_epochs, \n",
    "             validation_data=(X_valid_scaled, y_valid))"
   ]
  },
  {
   "cell_type": "markdown",
   "id": "b8c15643-ec0f-445e-8e5b-3c70e1adca47",
   "metadata": {},
   "source": [
    "**Warning:**\n",
    "\n",
    "Since dropout is only active during training, comparing the training loss and the validation loss can be misleading. In particular, a model may be overfitting the training set and yet have similar training and validation losses. So make sure to evaluate the training loss without dropout (e.g: after training)"
   ]
  },
  {
   "cell_type": "markdown",
   "id": "b761b8a6-7485-45b5-80b6-5f90bc05c600",
   "metadata": {},
   "source": [
    "If we observe that model is overfitting, we can increase the dropout rate and vice-versa. It can also help to increase the dropout rate for large layers, and reduce it for small ones.\n",
    "\n",
    "Dropout tends to significantly slow down the convergence, but it usually results in a much better model when tuned properly. So, it is generally well worth the extra effort and time. "
   ]
  },
  {
   "cell_type": "markdown",
   "id": "8b03ebff-4705-48b1-a245-57f24b10eb5f",
   "metadata": {},
   "source": [
    "**TIP:**\n",
    "\n",
    "If we want to regularize a self-normalizing network based on the SELU activation function, we should use *alpha dropout*: this is a variant of dropout that preserves the mean and the standard deviation of its inputs (it was introduced in the same paper as SELU, a regular dropout would break self-normalization)."
   ]
  },
  {
   "cell_type": "markdown",
   "id": "ebb5d836-1d7b-44ce-9932-1b186ce6dfc3",
   "metadata": {},
   "source": [
    "### Monte Carlo (MC) Dropout"
   ]
  },
  {
   "cell_type": "markdown",
   "id": "de937e0c-b29f-46fa-a888-a2b3d90d3532",
   "metadata": {},
   "source": [
    "Look at the following code. It is full implementation of `MC Dropout`, boosting the dropout model we trained earlier without retraining it:"
   ]
  },
  {
   "cell_type": "code",
   "execution_count": 46,
   "id": "009cb8e6-fa83-4853-9ed8-42a472b82cac",
   "metadata": {},
   "outputs": [
    {
     "name": "stderr",
     "output_type": "stream",
     "text": [
      "2024-01-01 14:39:13.034987: W tensorflow/tsl/framework/cpu_allocator_impl.cc:83] Allocation of 62720000 exceeds 10% of free system memory.\n",
      "2024-01-01 14:39:13.062752: W tensorflow/tsl/framework/cpu_allocator_impl.cc:83] Allocation of 31360000 exceeds 10% of free system memory.\n",
      "2024-01-01 14:39:13.073865: W tensorflow/tsl/framework/cpu_allocator_impl.cc:83] Allocation of 31360000 exceeds 10% of free system memory.\n",
      "2024-01-01 14:39:13.080418: W tensorflow/tsl/framework/cpu_allocator_impl.cc:83] Allocation of 31360000 exceeds 10% of free system memory.\n"
     ]
    }
   ],
   "source": [
    "y_probas = np.stack([model(X_test_scaled, training=True) for sample in range(100)]) # we are making predictions\n",
    "y_proba = y_probas.mean(axis=0)"
   ]
  },
  {
   "cell_type": "markdown",
   "id": "688ec5bc-83e0-4962-a1ff-3c08e11dc6a0",
   "metadata": {},
   "source": [
    "We just make 100 predictions over the test set, setting `training=True` to ensure that the `Dropout` layer is active, and stack the predictions. Since dropout is active, all the predictions will be different. Recall that `predict()` returns a matrix with one row per instance and one column per class. Because there are 10,000 instances in the test set and 10 classes, this is a matrix of shape [10000, 10]. We stack 100 such matrices, so `y_probas` is an array of shape [100, 10000, 10]. Once we average ove the first dimension (axis = 0), we get an array of shape [10000, 10], like we would get with single prediction. That's all!\n",
    "\n",
    "Averaging over multiple predictions with dropout on gives us a Monte Carlo estimate that is generally more reliable than the result of a single prediction with dropout off."
   ]
  },
  {
   "cell_type": "markdown",
   "id": "e419a2f0-bf97-48a0-a14f-2b388597ef9c",
   "metadata": {},
   "source": [
    "For example, let's look at the model's prediction for the first instance in the test set, with dropout off:"
   ]
  },
  {
   "cell_type": "code",
   "execution_count": 48,
   "id": "f6d87314-8c78-4cfa-9554-3881908b5c55",
   "metadata": {},
   "outputs": [
    {
     "name": "stdout",
     "output_type": "stream",
     "text": [
      "1/1 [==============================] - 0s 62ms/step\n"
     ]
    },
    {
     "data": {
      "text/plain": [
       "array([[0.  , 0.  , 0.  , 0.  , 0.  , 0.02, 0.  , 0.09, 0.  , 0.89]],\n",
       "      dtype=float32)"
      ]
     },
     "execution_count": 48,
     "metadata": {},
     "output_type": "execute_result"
    }
   ],
   "source": [
    "np.round(model.predict(X_test_scaled[:1]), 2)"
   ]
  },
  {
   "cell_type": "markdown",
   "id": "860b762a-f103-43c1-b634-9ea73b7a2ef6",
   "metadata": {},
   "source": [
    "The model seems certain that this image belongs to class 9 (ankle boot). Should we trust it? Is there really a little room for doubt? Let's compare it with the predictions made when dropout is activated:"
   ]
  },
  {
   "cell_type": "code",
   "execution_count": 49,
   "id": "79cf30d1-e537-4f1e-b0aa-c6d8e4f638b1",
   "metadata": {
    "scrolled": true,
    "tags": []
   },
   "outputs": [
    {
     "data": {
      "text/plain": [
       "array([[[0.  , 0.  , 0.  , 0.  , 0.  , 0.  , 0.  , 0.15, 0.  , 0.84]],\n",
       "\n",
       "       [[0.  , 0.  , 0.  , 0.  , 0.  , 0.03, 0.  , 0.18, 0.  , 0.79]],\n",
       "\n",
       "       [[0.  , 0.  , 0.  , 0.  , 0.  , 0.2 , 0.  , 0.02, 0.  , 0.77]],\n",
       "\n",
       "       [[0.  , 0.  , 0.  , 0.  , 0.  , 0.  , 0.  , 0.02, 0.  , 0.97]],\n",
       "\n",
       "       [[0.  , 0.  , 0.  , 0.  , 0.  , 0.11, 0.  , 0.06, 0.  , 0.83]],\n",
       "\n",
       "       [[0.  , 0.  , 0.  , 0.  , 0.  , 0.  , 0.  , 0.07, 0.  , 0.93]],\n",
       "\n",
       "       [[0.  , 0.  , 0.  , 0.  , 0.  , 0.15, 0.  , 0.01, 0.  , 0.84]],\n",
       "\n",
       "       [[0.  , 0.  , 0.  , 0.  , 0.  , 0.  , 0.  , 0.07, 0.  , 0.93]],\n",
       "\n",
       "       [[0.  , 0.  , 0.  , 0.  , 0.  , 0.  , 0.  , 0.  , 0.  , 0.99]],\n",
       "\n",
       "       [[0.  , 0.  , 0.  , 0.  , 0.  , 0.01, 0.  , 0.05, 0.  , 0.95]],\n",
       "\n",
       "       [[0.  , 0.  , 0.  , 0.  , 0.  , 0.7 , 0.  , 0.04, 0.  , 0.26]],\n",
       "\n",
       "       [[0.  , 0.  , 0.  , 0.  , 0.  , 0.04, 0.  , 0.04, 0.  , 0.92]],\n",
       "\n",
       "       [[0.  , 0.  , 0.  , 0.  , 0.  , 0.1 , 0.  , 0.47, 0.  , 0.43]],\n",
       "\n",
       "       [[0.  , 0.  , 0.  , 0.  , 0.  , 0.04, 0.  , 0.32, 0.  , 0.64]],\n",
       "\n",
       "       [[0.  , 0.  , 0.  , 0.  , 0.  , 0.09, 0.  , 0.17, 0.  , 0.74]],\n",
       "\n",
       "       [[0.  , 0.  , 0.  , 0.  , 0.  , 0.04, 0.  , 0.38, 0.  , 0.58]],\n",
       "\n",
       "       [[0.  , 0.  , 0.  , 0.  , 0.  , 0.1 , 0.  , 0.24, 0.  , 0.66]],\n",
       "\n",
       "       [[0.  , 0.  , 0.  , 0.  , 0.  , 0.03, 0.  , 0.02, 0.  , 0.96]],\n",
       "\n",
       "       [[0.  , 0.  , 0.  , 0.  , 0.  , 0.  , 0.  , 0.18, 0.  , 0.82]],\n",
       "\n",
       "       [[0.  , 0.  , 0.  , 0.  , 0.  , 0.01, 0.  , 0.  , 0.  , 0.99]],\n",
       "\n",
       "       [[0.  , 0.  , 0.  , 0.  , 0.  , 0.03, 0.  , 0.19, 0.  , 0.78]],\n",
       "\n",
       "       [[0.  , 0.  , 0.  , 0.  , 0.  , 0.1 , 0.  , 0.02, 0.  , 0.88]],\n",
       "\n",
       "       [[0.  , 0.  , 0.  , 0.  , 0.  , 0.  , 0.  , 0.01, 0.  , 0.98]],\n",
       "\n",
       "       [[0.  , 0.  , 0.  , 0.  , 0.  , 0.1 , 0.  , 0.07, 0.  , 0.83]],\n",
       "\n",
       "       [[0.  , 0.  , 0.  , 0.  , 0.  , 0.01, 0.  , 0.06, 0.  , 0.93]],\n",
       "\n",
       "       [[0.  , 0.  , 0.  , 0.  , 0.  , 0.07, 0.  , 0.03, 0.  , 0.9 ]],\n",
       "\n",
       "       [[0.  , 0.  , 0.  , 0.  , 0.  , 0.09, 0.  , 0.02, 0.  , 0.89]],\n",
       "\n",
       "       [[0.  , 0.  , 0.  , 0.  , 0.  , 0.01, 0.  , 0.24, 0.  , 0.75]],\n",
       "\n",
       "       [[0.  , 0.  , 0.  , 0.  , 0.  , 0.  , 0.  , 0.1 , 0.  , 0.9 ]],\n",
       "\n",
       "       [[0.  , 0.  , 0.  , 0.  , 0.  , 0.  , 0.  , 0.08, 0.  , 0.92]],\n",
       "\n",
       "       [[0.  , 0.  , 0.  , 0.  , 0.  , 0.02, 0.  , 0.28, 0.  , 0.7 ]],\n",
       "\n",
       "       [[0.  , 0.  , 0.  , 0.  , 0.  , 0.06, 0.  , 0.2 , 0.  , 0.74]],\n",
       "\n",
       "       [[0.  , 0.  , 0.  , 0.  , 0.  , 0.01, 0.  , 0.55, 0.  , 0.45]],\n",
       "\n",
       "       [[0.  , 0.  , 0.  , 0.  , 0.  , 0.04, 0.  , 0.24, 0.  , 0.72]],\n",
       "\n",
       "       [[0.  , 0.  , 0.  , 0.  , 0.  , 0.02, 0.  , 0.6 , 0.  , 0.37]],\n",
       "\n",
       "       [[0.  , 0.  , 0.  , 0.  , 0.  , 0.17, 0.  , 0.1 , 0.  , 0.73]],\n",
       "\n",
       "       [[0.  , 0.  , 0.  , 0.  , 0.  , 0.01, 0.  , 0.1 , 0.  , 0.89]],\n",
       "\n",
       "       [[0.  , 0.  , 0.  , 0.  , 0.  , 0.07, 0.  , 0.16, 0.  , 0.77]],\n",
       "\n",
       "       [[0.  , 0.  , 0.  , 0.  , 0.  , 0.07, 0.  , 0.14, 0.  , 0.8 ]],\n",
       "\n",
       "       [[0.  , 0.  , 0.  , 0.  , 0.  , 0.13, 0.  , 0.25, 0.  , 0.61]],\n",
       "\n",
       "       [[0.  , 0.  , 0.  , 0.  , 0.  , 0.01, 0.  , 0.06, 0.  , 0.93]],\n",
       "\n",
       "       [[0.  , 0.  , 0.  , 0.  , 0.  , 0.01, 0.  , 0.2 , 0.  , 0.79]],\n",
       "\n",
       "       [[0.  , 0.  , 0.  , 0.  , 0.  , 0.04, 0.  , 0.08, 0.  , 0.88]],\n",
       "\n",
       "       [[0.  , 0.  , 0.  , 0.  , 0.  , 0.15, 0.  , 0.07, 0.  , 0.77]],\n",
       "\n",
       "       [[0.  , 0.  , 0.  , 0.  , 0.  , 0.03, 0.  , 0.55, 0.  , 0.42]],\n",
       "\n",
       "       [[0.  , 0.  , 0.  , 0.  , 0.  , 0.04, 0.  , 0.39, 0.  , 0.57]],\n",
       "\n",
       "       [[0.  , 0.  , 0.  , 0.  , 0.  , 0.06, 0.  , 0.39, 0.  , 0.54]],\n",
       "\n",
       "       [[0.  , 0.  , 0.  , 0.  , 0.  , 0.12, 0.  , 0.09, 0.  , 0.8 ]],\n",
       "\n",
       "       [[0.  , 0.  , 0.  , 0.  , 0.  , 0.01, 0.  , 0.25, 0.  , 0.74]],\n",
       "\n",
       "       [[0.  , 0.  , 0.  , 0.  , 0.  , 0.14, 0.  , 0.13, 0.  , 0.73]],\n",
       "\n",
       "       [[0.  , 0.  , 0.  , 0.  , 0.  , 0.02, 0.  , 0.01, 0.  , 0.97]],\n",
       "\n",
       "       [[0.  , 0.  , 0.  , 0.  , 0.  , 0.42, 0.  , 0.2 , 0.  , 0.38]],\n",
       "\n",
       "       [[0.  , 0.  , 0.  , 0.  , 0.  , 0.13, 0.  , 0.04, 0.  , 0.84]],\n",
       "\n",
       "       [[0.  , 0.  , 0.  , 0.  , 0.  , 0.09, 0.  , 0.01, 0.  , 0.9 ]],\n",
       "\n",
       "       [[0.  , 0.  , 0.  , 0.  , 0.  , 0.03, 0.  , 0.4 , 0.  , 0.58]],\n",
       "\n",
       "       [[0.  , 0.  , 0.  , 0.  , 0.  , 0.21, 0.  , 0.52, 0.  , 0.27]],\n",
       "\n",
       "       [[0.  , 0.  , 0.  , 0.  , 0.  , 0.04, 0.  , 0.13, 0.  , 0.83]],\n",
       "\n",
       "       [[0.  , 0.  , 0.  , 0.  , 0.  , 0.01, 0.  , 0.09, 0.  , 0.9 ]],\n",
       "\n",
       "       [[0.  , 0.  , 0.  , 0.  , 0.  , 0.04, 0.  , 0.2 , 0.  , 0.76]],\n",
       "\n",
       "       [[0.  , 0.  , 0.  , 0.  , 0.  , 0.04, 0.  , 0.37, 0.  , 0.59]],\n",
       "\n",
       "       [[0.  , 0.  , 0.  , 0.  , 0.  , 0.02, 0.  , 0.03, 0.  , 0.95]],\n",
       "\n",
       "       [[0.  , 0.  , 0.  , 0.  , 0.  , 0.02, 0.  , 0.05, 0.  , 0.93]],\n",
       "\n",
       "       [[0.  , 0.  , 0.  , 0.  , 0.  , 0.21, 0.  , 0.22, 0.  , 0.57]],\n",
       "\n",
       "       [[0.  , 0.  , 0.  , 0.  , 0.  , 0.01, 0.  , 0.09, 0.  , 0.9 ]],\n",
       "\n",
       "       [[0.  , 0.  , 0.  , 0.  , 0.  , 0.02, 0.  , 0.17, 0.  , 0.81]],\n",
       "\n",
       "       [[0.  , 0.  , 0.  , 0.  , 0.  , 0.  , 0.  , 0.15, 0.  , 0.84]],\n",
       "\n",
       "       [[0.  , 0.  , 0.  , 0.  , 0.  , 0.  , 0.  , 0.06, 0.  , 0.94]],\n",
       "\n",
       "       [[0.  , 0.  , 0.  , 0.  , 0.  , 0.01, 0.  , 0.  , 0.  , 0.98]],\n",
       "\n",
       "       [[0.  , 0.  , 0.  , 0.  , 0.  , 0.04, 0.  , 0.35, 0.  , 0.62]],\n",
       "\n",
       "       [[0.  , 0.  , 0.  , 0.  , 0.  , 0.02, 0.  , 0.42, 0.  , 0.56]],\n",
       "\n",
       "       [[0.  , 0.  , 0.  , 0.  , 0.  , 0.04, 0.  , 0.06, 0.  , 0.9 ]],\n",
       "\n",
       "       [[0.  , 0.  , 0.  , 0.  , 0.  , 0.  , 0.  , 0.01, 0.  , 0.99]],\n",
       "\n",
       "       [[0.  , 0.  , 0.  , 0.  , 0.  , 0.03, 0.  , 0.46, 0.  , 0.51]],\n",
       "\n",
       "       [[0.  , 0.  , 0.  , 0.  , 0.  , 0.01, 0.  , 0.18, 0.  , 0.81]],\n",
       "\n",
       "       [[0.  , 0.  , 0.  , 0.  , 0.  , 0.01, 0.  , 0.17, 0.  , 0.82]],\n",
       "\n",
       "       [[0.  , 0.  , 0.  , 0.  , 0.  , 0.02, 0.  , 0.18, 0.  , 0.8 ]],\n",
       "\n",
       "       [[0.  , 0.  , 0.  , 0.  , 0.  , 0.04, 0.  , 0.13, 0.  , 0.83]],\n",
       "\n",
       "       [[0.  , 0.  , 0.  , 0.  , 0.  , 0.14, 0.  , 0.14, 0.  , 0.72]],\n",
       "\n",
       "       [[0.  , 0.  , 0.  , 0.  , 0.  , 0.01, 0.  , 0.2 , 0.  , 0.79]],\n",
       "\n",
       "       [[0.  , 0.  , 0.  , 0.  , 0.  , 0.02, 0.  , 0.08, 0.  , 0.91]],\n",
       "\n",
       "       [[0.  , 0.  , 0.  , 0.  , 0.  , 0.  , 0.  , 0.19, 0.  , 0.8 ]],\n",
       "\n",
       "       [[0.  , 0.  , 0.  , 0.  , 0.  , 0.02, 0.  , 0.25, 0.  , 0.73]],\n",
       "\n",
       "       [[0.  , 0.  , 0.  , 0.  , 0.  , 0.01, 0.  , 0.13, 0.  , 0.86]],\n",
       "\n",
       "       [[0.  , 0.  , 0.  , 0.  , 0.  , 0.  , 0.  , 0.09, 0.  , 0.91]],\n",
       "\n",
       "       [[0.  , 0.  , 0.  , 0.  , 0.  , 0.03, 0.  , 0.01, 0.  , 0.96]],\n",
       "\n",
       "       [[0.  , 0.  , 0.  , 0.  , 0.  , 0.04, 0.  , 0.16, 0.  , 0.8 ]],\n",
       "\n",
       "       [[0.  , 0.  , 0.  , 0.  , 0.  , 0.01, 0.  , 0.11, 0.  , 0.88]],\n",
       "\n",
       "       [[0.  , 0.  , 0.  , 0.  , 0.  , 0.16, 0.  , 0.12, 0.  , 0.73]],\n",
       "\n",
       "       [[0.  , 0.  , 0.  , 0.  , 0.  , 0.02, 0.  , 0.21, 0.  , 0.76]],\n",
       "\n",
       "       [[0.  , 0.  , 0.  , 0.  , 0.  , 0.02, 0.  , 0.04, 0.  , 0.94]],\n",
       "\n",
       "       [[0.  , 0.  , 0.  , 0.  , 0.  , 0.03, 0.  , 0.16, 0.  , 0.81]],\n",
       "\n",
       "       [[0.  , 0.  , 0.  , 0.  , 0.  , 0.01, 0.  , 0.6 , 0.  , 0.39]],\n",
       "\n",
       "       [[0.  , 0.  , 0.  , 0.  , 0.  , 0.03, 0.  , 0.28, 0.  , 0.7 ]],\n",
       "\n",
       "       [[0.  , 0.  , 0.  , 0.  , 0.  , 0.15, 0.  , 0.01, 0.  , 0.84]],\n",
       "\n",
       "       [[0.  , 0.  , 0.  , 0.  , 0.  , 0.28, 0.  , 0.18, 0.  , 0.54]],\n",
       "\n",
       "       [[0.  , 0.  , 0.  , 0.  , 0.  , 0.01, 0.  , 0.05, 0.  , 0.94]],\n",
       "\n",
       "       [[0.  , 0.  , 0.  , 0.  , 0.  , 0.  , 0.  , 0.09, 0.  , 0.91]],\n",
       "\n",
       "       [[0.  , 0.  , 0.  , 0.  , 0.  , 0.05, 0.  , 0.28, 0.  , 0.67]],\n",
       "\n",
       "       [[0.  , 0.  , 0.  , 0.  , 0.  , 0.04, 0.  , 0.26, 0.  , 0.7 ]],\n",
       "\n",
       "       [[0.  , 0.  , 0.  , 0.  , 0.  , 0.01, 0.  , 0.14, 0.  , 0.85]]],\n",
       "      dtype=float32)"
      ]
     },
     "execution_count": 49,
     "metadata": {},
     "output_type": "execute_result"
    }
   ],
   "source": [
    "np.round(y_probas[:, :1], 2)"
   ]
  },
  {
   "cell_type": "markdown",
   "id": "587c7c71-1fd6-4fae-9617-3bda47500eb8",
   "metadata": {},
   "source": [
    "This tells a different story: apprantly when we activate dropout, the model is not sure anymore. It still seems to prefer class 9, but sometimes it hesitates with class 7 (sneaker), which makes sense given they are all footwear. \n",
    "\n",
    "Once we average over the first dimension, we get the following MC Dropout predictions:"
   ]
  },
  {
   "cell_type": "code",
   "execution_count": 50,
   "id": "6547a4ad-42bc-4403-a45c-5e01cadad080",
   "metadata": {},
   "outputs": [
    {
     "data": {
      "text/plain": [
       "array([[0.  , 0.  , 0.  , 0.  , 0.  , 0.06, 0.  , 0.17, 0.  , 0.77]],\n",
       "      dtype=float32)"
      ]
     },
     "execution_count": 50,
     "metadata": {},
     "output_type": "execute_result"
    }
   ],
   "source": [
    "np.round(y_proba[:1], 2)"
   ]
  },
  {
   "cell_type": "markdown",
   "id": "d5410ea6-72e2-4255-9d33-8eabb74c40cb",
   "metadata": {},
   "source": [
    "The model still thinks this image belongs to class 9, but only with a 77% confidence, which seems much more reasonable than 89%. Plus it's useful to know exactly which other classes it thinks are likely. And we can also look at the standard deviation of the probability estimates:"
   ]
  },
  {
   "cell_type": "code",
   "execution_count": 51,
   "id": "87d6d0c5-363e-49dd-a0b5-6226f79b00a2",
   "metadata": {},
   "outputs": [
    {
     "data": {
      "text/plain": [
       "array([[0.  , 0.  , 0.  , 0.  , 0.  , 0.09, 0.  , 0.14, 0.  , 0.17]],\n",
       "      dtype=float32)"
      ]
     },
     "execution_count": 51,
     "metadata": {},
     "output_type": "execute_result"
    }
   ],
   "source": [
    "y_std = y_probas.std(axis=0)\n",
    "np.round(y_std[:1],2)"
   ]
  },
  {
   "cell_type": "markdown",
   "id": "aa7efd17-4b14-4659-a92d-fa5f568e8048",
   "metadata": {},
   "source": [
    "Apparantly, there's a quite a lot of variance in the probability estimates: if we were builiding a risk-sensitive system (e.g: a medical or financial system), we should probably treat such an uncertain prediction with extreme caution."
   ]
  },
  {
   "cell_type": "code",
   "execution_count": 53,
   "id": "b5ebc09a-e902-41ed-9972-92d0f2ba0909",
   "metadata": {},
   "outputs": [
    {
     "data": {
      "text/plain": [
       "0.8589"
      ]
     },
     "execution_count": 53,
     "metadata": {},
     "output_type": "execute_result"
    }
   ],
   "source": [
    "y_pred = np.argmax(y_proba, axis=1)\n",
    "accuracy = np.sum(y_pred == y_test) / len(y_test)\n",
    "accuracy"
   ]
  },
  {
   "cell_type": "markdown",
   "id": "57c2705c-bc06-4a94-93d5-d3342e40b00f",
   "metadata": {},
   "source": [
    "**NOTE:**\n",
    "\n",
    "The number of Monte Carlo samples we use (100 in above code) is a hyperparameter we can tweak. The higher it is, the more accurate the predictions and their uncertainity estimates will be. However, if we double it, inference time will be also doubled. Moreover, above certain number of samples, we will notice little improvement. So our job is to find the right trade-off between latency and accuracy, depending on our application. "
   ]
  },
  {
   "cell_type": "markdown",
   "id": "00f75746-8780-45b5-a87f-2673e7282e40",
   "metadata": {},
   "source": [
    "If our model contains other layers that behave in a special way during training (such as `BatchNormalization` layers), then we should not force training model like we just did. Instead, we should replace the `Dropout` layers with the following `MCDropout` class (This `MCDropout` class works well with all Keras API, including the Sequential API). If we only care about the Functional API or subclass API, we do not have to create an `MCDropout` class; we can create a regular Dropout layer and call it with `training = False`):"
   ]
  },
  {
   "cell_type": "code",
   "execution_count": 54,
   "id": "63ce891f-03ec-4f0e-a91a-c876c13e6526",
   "metadata": {},
   "outputs": [],
   "source": [
    "class MCDropout(keras.layers.Dropout):\n",
    "    def call(self, inputs):\n",
    "        return super().call(inputs, training=True)"
   ]
  },
  {
   "cell_type": "markdown",
   "id": "180db902-67ac-4a5a-a5be-175cdfed8284",
   "metadata": {},
   "source": [
    "Here, we just subclass the `Dropout` layer and override the `call()` method to force its `training` argument to `True`. \n",
    "\n",
    "Since MC Dropout is just regular dropout during training, it also acts like regularizer."
   ]
  },
  {
   "cell_type": "markdown",
   "id": "51ed5f3b-7be2-49bb-afc3-fa7463efa31b",
   "metadata": {},
   "source": [
    "### Max-Norm regularization"
   ]
  },
  {
   "cell_type": "markdown",
   "id": "7d5e8ac1-b45b-47ee-81ed-4e61afded10b",
   "metadata": {},
   "source": [
    "To implement it in Keras, set the `kernel_constraint` argument of each hidden layer to a `max_norm()` constraint with the appropriate max value, like this:"
   ]
  },
  {
   "cell_type": "code",
   "execution_count": 55,
   "id": "d730170d-feb0-405d-bc02-2e2f4c6736a9",
   "metadata": {},
   "outputs": [
    {
     "data": {
      "text/plain": [
       "<keras.src.layers.core.dense.Dense at 0x7f611c0ca710>"
      ]
     },
     "execution_count": 55,
     "metadata": {},
     "output_type": "execute_result"
    }
   ],
   "source": [
    "keras.layers.Dense(100, activation=\"elu\", kernel_initializer=\"he_normal\", \n",
    "                  kernel_constraint=keras.constraints.max_norm(1.))"
   ]
  },
  {
   "cell_type": "markdown",
   "id": "055f8344-1204-4f58-a6a9-7733c2a9d37a",
   "metadata": {},
   "source": [
    "After each training iteration, the model's `fit()` method will call the object returned by `max_norm()`, passing it layer's weights and getting rescaled weights in return, which then replace the layer's weights. We can also contrain the bias terms by setting the `bias_constraint` argument. \n",
    "\n",
    "The `max_norm()` function has an `axis` argument that defaults to 0. A `Dense` layer usually has weights of shape [*number of inputs*, *number of neurons*], so using `axis=0` means that the max-norm constraint will apply independently to each neuron's weight vector. "
   ]
  },
  {
   "attachments": {
    "841ceb29-5232-497a-901f-bd9a9b0fd7a2.png": {
     "image/png": "[encoded data removed]"
    },
    "a3114163-3f4c-413d-81b0-010c1d399eca.png": {
     "image/png": "[encoded data removed]"
    }
   },
   "cell_type": "markdown",
   "id": "059b26ac-0285-4563-baf4-5d0cb510a8ab",
   "metadata": {},
   "source": [
    "Below are few configurations that will work generally most of the time.\n",
    "\n",
    "![image.png](attachment:a3114163-3f4c-413d-81b0-010c1d399eca.png)\n",
    "\n",
    "![image.png](attachment:841ceb29-5232-497a-901f-bd9a9b0fd7a2.png)"
   ]
  },
  {
   "cell_type": "markdown",
   "id": "79438bb3",
   "metadata": {},
   "source": [
    "## Exercise"
   ]
  },
  {
   "cell_type": "markdown",
   "id": "91957d45",
   "metadata": {},
   "source": [
    "### 8.\n",
    "\n",
    "Practice training a deep neural network on the CIFAR10 image dataset:"
   ]
  },
  {
   "cell_type": "code",
   "execution_count": 1,
   "id": "2da9171e",
   "metadata": {},
   "outputs": [
    {
     "name": "stderr",
     "output_type": "stream",
     "text": [
      "2024-01-02 15:16:23.862449: I tensorflow/tsl/cuda/cudart_stub.cc:28] Could not find cuda drivers on your machine, GPU will not be used.\n",
      "2024-01-02 15:16:23.982358: I tensorflow/tsl/cuda/cudart_stub.cc:28] Could not find cuda drivers on your machine, GPU will not be used.\n",
      "2024-01-02 15:16:23.983360: I tensorflow/core/platform/cpu_feature_guard.cc:182] This TensorFlow binary is optimized to use available CPU instructions in performance-critical operations.\n",
      "To enable the following instructions: AVX2 FMA, in other operations, rebuild TensorFlow with the appropriate compiler flags.\n",
      "2024-01-02 15:16:24.885233: W tensorflow/compiler/tf2tensorrt/utils/py_utils.cc:38] TF-TRT Warning: Could not find TensorRT\n"
     ]
    }
   ],
   "source": [
    "import numpy as np\n",
    "import matplotlib.pyplot as plt\n",
    "import tensorflow as tf\n",
    "from tensorflow import keras\n",
    "import os\n",
    "import math\n",
    "\n",
    "tf.random.set_seed(42)\n",
    "np.random.seed(42)"
   ]
  },
  {
   "cell_type": "markdown",
   "id": "b2f610c2",
   "metadata": {},
   "source": [
    "a. Build a DNN with 20 hidden layers of 100 neurons each (that’s too many, but it’s the point of this exercise). Use\n",
    "He initialization and the ELU activation function."
   ]
  },
  {
   "cell_type": "code",
   "execution_count": 2,
   "id": "84167558",
   "metadata": {},
   "outputs": [],
   "source": [
    "model = keras.models.Sequential()\n",
    "model.add(keras.layers.Flatten(input_shape=[32,32,3]))\n",
    "\n",
    "for _ in range(20):\n",
    "    model.add(keras.layers.Dense(100, activation=\"elu\", kernel_initializer=\"he_normal\"))"
   ]
  },
  {
   "cell_type": "markdown",
   "id": "03267079",
   "metadata": {},
   "source": [
    "b. Using Nadam optimization and early stopping, train the network on the CIFAR10 dataset. You can load it with\n",
    "`keras.datasets.cifar10.load_data()`. The dataset is composed of 60,000 32 × 32–pixel color images \n",
    "(50,000 for training, 10,000 for testing) with 10 classes, so you’ll need a softmax output layer with 10 neurons. Remember to search for the right learning rate each time you change the model’s architecture or hyperparameters."
   ]
  },
  {
   "cell_type": "code",
   "execution_count": 3,
   "id": "646a5e27",
   "metadata": {},
   "outputs": [],
   "source": [
    "model.add(keras.layers.Dense(10, activation=\"softmax\"))"
   ]
  },
  {
   "cell_type": "code",
   "execution_count": 4,
   "id": "381bc517",
   "metadata": {},
   "outputs": [],
   "source": [
    "optimizer = keras.optimizers.Nadam(learning_rate=5e-5)\n",
    "model.compile(loss=\"sparse_categorical_crossentropy\", optimizer=optimizer,\n",
    "            metrics=[\"accuracy\"])"
   ]
  },
  {
   "cell_type": "markdown",
   "id": "1312a050",
   "metadata": {},
   "source": [
    "We also want to use early stopping, so we need a validation set. Let's use the first 5000 images of the original training set as the validation set:"
   ]
  },
  {
   "cell_type": "code",
   "execution_count": 2,
   "id": "7437b573",
   "metadata": {},
   "outputs": [],
   "source": [
    "(X_train_full, y_train_full), (X_test, y_test) = keras.datasets.cifar10.load_data()"
   ]
  },
  {
   "cell_type": "code",
   "execution_count": 6,
   "id": "156e5ae2",
   "metadata": {},
   "outputs": [
    {
     "data": {
      "text/plain": [
       "((50000, 32, 32, 3), (10000, 32, 32, 3))"
      ]
     },
     "execution_count": 6,
     "metadata": {},
     "output_type": "execute_result"
    }
   ],
   "source": [
    "X_train_full.shape, X_test.shape"
   ]
  },
  {
   "cell_type": "code",
   "execution_count": 7,
   "id": "4d55696d",
   "metadata": {},
   "outputs": [
    {
     "data": {
      "text/plain": [
       "((50000, 1), (10000, 1))"
      ]
     },
     "execution_count": 7,
     "metadata": {},
     "output_type": "execute_result"
    }
   ],
   "source": [
    "y_train_full.shape, y_test.shape"
   ]
  },
  {
   "cell_type": "code",
   "execution_count": 8,
   "id": "d6964adf",
   "metadata": {},
   "outputs": [
    {
     "data": {
      "text/plain": [
       "array([[6],\n",
       "       [9],\n",
       "       [9],\n",
       "       ...,\n",
       "       [9],\n",
       "       [1],\n",
       "       [1]], dtype=uint8)"
      ]
     },
     "execution_count": 8,
     "metadata": {},
     "output_type": "execute_result"
    }
   ],
   "source": [
    "y_train_full"
   ]
  },
  {
   "cell_type": "code",
   "execution_count": 3,
   "id": "22729537",
   "metadata": {},
   "outputs": [],
   "source": [
    "X_train = X_train_full[5000:]\n",
    "y_train = y_train_full[5000:]\n",
    "X_valid = X_train_full[:5000]\n",
    "y_valid = y_train_full[:5000]"
   ]
  },
  {
   "cell_type": "code",
   "execution_count": 10,
   "id": "0c0815d9",
   "metadata": {},
   "outputs": [],
   "source": [
    "class_labels = [\"airplane\", \"automobile\", \"bird\", \"cat\", \"deer\", \"dog\", \"frog\", \"horse\", \"ship\", \"truck\"]"
   ]
  },
  {
   "cell_type": "code",
   "execution_count": 11,
   "id": "7b6a7450",
   "metadata": {},
   "outputs": [
    {
     "data": {
      "image/png": "[encoded data removed]",
      "text/plain": [
       "<Figure size 1200x480 with 40 Axes>"
      ]
     },
     "metadata": {},
     "output_type": "display_data"
    }
   ],
   "source": [
    "n_cols = 10\n",
    "n_rows = 4\n",
    "\n",
    "plt.figure(figsize=(n_cols*1.2, n_rows*1.2))\n",
    "\n",
    "for row in range(n_rows):\n",
    "    for col in range(n_cols):\n",
    "        index = n_cols * row + col\n",
    "        plt.subplot(n_rows, n_cols, index+1)\n",
    "        plt.imshow(X_train[index])\n",
    "        plt.axis(\"off\")\n",
    "        plt.title(class_labels[y_train[index][0]], fontsize=12)\n",
    "        \n",
    "plt.subplots_adjust(wspace=0.2, hspace=0.5)\n",
    "plt.show()"
   ]
  },
  {
   "cell_type": "markdown",
   "id": "a721401c",
   "metadata": {},
   "source": [
    "Now we can create the callbacks and train the model:"
   ]
  },
  {
   "cell_type": "code",
   "execution_count": 13,
   "id": "3f03b4fc",
   "metadata": {},
   "outputs": [],
   "source": [
    "early_stopping_cb = keras.callbacks.EarlyStopping(patience=20)\n",
    "model_checkpoint_cb = keras.callbacks.ModelCheckpoint(\"my_cifar_model.h5\", save_best_only=True)\n",
    "run_index = 1 # increment everytime we train the model\n",
    "run_logdir = os.path.join(os.curdir, \"my_cifar10_logs\", \"run_{:03d}\".format(run_index))\n",
    "tensorboard_cb = keras.callbacks.TensorBoard(run_logdir)\n",
    "callbacks = [early_stopping_cb, model_checkpoint_cb, tensorboard_cb]"
   ]
  },
  {
   "cell_type": "code",
   "execution_count": 15,
   "id": "7c0118f3",
   "metadata": {},
   "outputs": [
    {
     "name": "stdout",
     "output_type": "stream",
     "text": [
      "Epoch 1/100\n"
     ]
    },
    {
     "name": "stderr",
     "output_type": "stream",
     "text": [
      "2024-01-02 12:11:08.313541: W tensorflow/tsl/framework/cpu_allocator_impl.cc:83] Allocation of 138240000 exceeds 10% of free system memory.\n"
     ]
    },
    {
     "name": "stdout",
     "output_type": "stream",
     "text": [
      "1407/1407 [==============================] - 31s 18ms/step - loss: 4.6947 - accuracy: 0.1684 - val_loss: 2.1202 - val_accuracy: 0.2310\n",
      "Epoch 2/100\n"
     ]
    },
    {
     "name": "stderr",
     "output_type": "stream",
     "text": [
      "/home/dell/anaconda3/envs/latest/lib/python3.11/site-packages/keras/src/engine/training.py:3000: UserWarning: You are saving your model as an HDF5 file via `model.save()`. This file format is considered legacy. We recommend using instead the native Keras format, e.g. `model.save('my_model.keras')`.\n",
      "  saving_api.save_model(\n"
     ]
    },
    {
     "name": "stdout",
     "output_type": "stream",
     "text": [
      "1407/1407 [==============================] - 29s 21ms/step - loss: 2.0386 - accuracy: 0.2499 - val_loss: 1.9992 - val_accuracy: 0.2442\n",
      "Epoch 3/100\n",
      "1407/1407 [==============================] - 27s 19ms/step - loss: 1.9345 - accuracy: 0.2860 - val_loss: 1.8804 - val_accuracy: 0.3074\n",
      "Epoch 4/100\n",
      "1407/1407 [==============================] - 25s 18ms/step - loss: 1.8596 - accuracy: 0.3188 - val_loss: 1.8622 - val_accuracy: 0.3274\n",
      "Epoch 5/100\n",
      "1407/1407 [==============================] - 25s 18ms/step - loss: 1.7986 - accuracy: 0.3434 - val_loss: 1.7424 - val_accuracy: 0.3612\n",
      "Epoch 6/100\n",
      "1407/1407 [==============================] - 25s 18ms/step - loss: 1.7531 - accuracy: 0.3623 - val_loss: 1.7626 - val_accuracy: 0.3592\n",
      "Epoch 7/100\n",
      "1407/1407 [==============================] - 30s 21ms/step - loss: 1.7127 - accuracy: 0.3776 - val_loss: 1.7113 - val_accuracy: 0.3826\n",
      "Epoch 8/100\n",
      "1407/1407 [==============================] - 26s 18ms/step - loss: 1.6784 - accuracy: 0.3891 - val_loss: 1.6627 - val_accuracy: 0.3994\n",
      "Epoch 9/100\n",
      "1407/1407 [==============================] - 23s 16ms/step - loss: 1.6483 - accuracy: 0.4042 - val_loss: 1.6441 - val_accuracy: 0.4038\n",
      "Epoch 10/100\n",
      "1407/1407 [==============================] - 23s 16ms/step - loss: 1.6204 - accuracy: 0.4167 - val_loss: 1.6624 - val_accuracy: 0.3938\n",
      "Epoch 11/100\n",
      "1407/1407 [==============================] - 21s 15ms/step - loss: 1.5986 - accuracy: 0.4243 - val_loss: 1.6502 - val_accuracy: 0.3964\n",
      "Epoch 12/100\n",
      "1407/1407 [==============================] - 18s 13ms/step - loss: 1.5749 - accuracy: 0.4341 - val_loss: 1.6075 - val_accuracy: 0.4172\n",
      "Epoch 13/100\n",
      "1407/1407 [==============================] - 18s 13ms/step - loss: 1.5538 - accuracy: 0.4401 - val_loss: 1.6395 - val_accuracy: 0.4102\n",
      "Epoch 14/100\n",
      "1407/1407 [==============================] - 18s 13ms/step - loss: 1.5370 - accuracy: 0.4468 - val_loss: 1.5779 - val_accuracy: 0.4290\n",
      "Epoch 15/100\n",
      "1407/1407 [==============================] - 19s 14ms/step - loss: 1.5208 - accuracy: 0.4542 - val_loss: 1.5729 - val_accuracy: 0.4400\n",
      "Epoch 16/100\n",
      "1407/1407 [==============================] - 18s 13ms/step - loss: 1.5013 - accuracy: 0.4597 - val_loss: 1.5547 - val_accuracy: 0.4380\n",
      "Epoch 17/100\n",
      "1407/1407 [==============================] - 19s 13ms/step - loss: 1.4864 - accuracy: 0.4659 - val_loss: 1.5370 - val_accuracy: 0.4470\n",
      "Epoch 18/100\n",
      "1407/1407 [==============================] - 18s 13ms/step - loss: 1.4726 - accuracy: 0.4707 - val_loss: 1.5692 - val_accuracy: 0.4396\n",
      "Epoch 19/100\n",
      "1407/1407 [==============================] - 18s 13ms/step - loss: 1.4605 - accuracy: 0.4741 - val_loss: 1.5616 - val_accuracy: 0.4376\n",
      "Epoch 20/100\n",
      "1407/1407 [==============================] - 18s 13ms/step - loss: 1.4485 - accuracy: 0.4762 - val_loss: 1.5738 - val_accuracy: 0.4364\n",
      "Epoch 21/100\n",
      "1407/1407 [==============================] - 18s 13ms/step - loss: 1.4376 - accuracy: 0.4832 - val_loss: 1.5879 - val_accuracy: 0.4386\n",
      "Epoch 22/100\n",
      "1407/1407 [==============================] - 18s 13ms/step - loss: 1.4255 - accuracy: 0.4877 - val_loss: 1.5415 - val_accuracy: 0.4538\n",
      "Epoch 23/100\n",
      "1407/1407 [==============================] - 18s 13ms/step - loss: 1.4120 - accuracy: 0.4947 - val_loss: 1.5474 - val_accuracy: 0.4422\n",
      "Epoch 24/100\n",
      "1407/1407 [==============================] - 18s 13ms/step - loss: 1.4036 - accuracy: 0.4952 - val_loss: 1.5354 - val_accuracy: 0.4468\n",
      "Epoch 25/100\n",
      "1407/1407 [==============================] - 18s 13ms/step - loss: 1.3909 - accuracy: 0.4996 - val_loss: 1.5107 - val_accuracy: 0.4584\n",
      "Epoch 26/100\n",
      "1407/1407 [==============================] - 18s 13ms/step - loss: 1.3828 - accuracy: 0.5066 - val_loss: 1.5485 - val_accuracy: 0.4444\n",
      "Epoch 27/100\n",
      "1407/1407 [==============================] - 18s 13ms/step - loss: 1.3709 - accuracy: 0.5102 - val_loss: 1.5228 - val_accuracy: 0.4496\n",
      "Epoch 28/100\n",
      "1407/1407 [==============================] - 18s 13ms/step - loss: 1.3648 - accuracy: 0.5105 - val_loss: 1.5208 - val_accuracy: 0.4538\n",
      "Epoch 29/100\n",
      "1407/1407 [==============================] - 18s 13ms/step - loss: 1.3550 - accuracy: 0.5135 - val_loss: 1.5242 - val_accuracy: 0.4620\n",
      "Epoch 30/100\n",
      "1407/1407 [==============================] - 18s 13ms/step - loss: 1.3407 - accuracy: 0.5187 - val_loss: 1.5179 - val_accuracy: 0.4674\n",
      "Epoch 31/100\n",
      "1407/1407 [==============================] - 18s 13ms/step - loss: 1.3343 - accuracy: 0.5212 - val_loss: 1.5470 - val_accuracy: 0.4558\n",
      "Epoch 32/100\n",
      "1407/1407 [==============================] - 18s 13ms/step - loss: 1.3255 - accuracy: 0.5248 - val_loss: 1.4939 - val_accuracy: 0.4686\n",
      "Epoch 33/100\n",
      "1407/1407 [==============================] - 19s 13ms/step - loss: 1.3161 - accuracy: 0.5262 - val_loss: 1.5536 - val_accuracy: 0.4552\n",
      "Epoch 34/100\n",
      "1407/1407 [==============================] - 18s 13ms/step - loss: 1.3094 - accuracy: 0.5315 - val_loss: 1.5096 - val_accuracy: 0.4654\n",
      "Epoch 35/100\n",
      "1407/1407 [==============================] - 18s 13ms/step - loss: 1.2986 - accuracy: 0.5338 - val_loss: 1.5089 - val_accuracy: 0.4716\n",
      "Epoch 36/100\n",
      "1407/1407 [==============================] - 18s 13ms/step - loss: 1.2924 - accuracy: 0.5357 - val_loss: 1.5010 - val_accuracy: 0.4702\n",
      "Epoch 37/100\n",
      "1407/1407 [==============================] - 18s 13ms/step - loss: 1.2816 - accuracy: 0.5399 - val_loss: 1.5104 - val_accuracy: 0.4594\n",
      "Epoch 38/100\n",
      "1407/1407 [==============================] - 18s 13ms/step - loss: 1.2737 - accuracy: 0.5436 - val_loss: 1.5087 - val_accuracy: 0.4736\n",
      "Epoch 39/100\n",
      "1407/1407 [==============================] - 18s 13ms/step - loss: 1.2676 - accuracy: 0.5451 - val_loss: 1.5384 - val_accuracy: 0.4578\n",
      "Epoch 40/100\n",
      "1407/1407 [==============================] - 18s 13ms/step - loss: 1.2580 - accuracy: 0.5497 - val_loss: 1.5333 - val_accuracy: 0.4650\n",
      "Epoch 41/100\n",
      "1407/1407 [==============================] - 18s 13ms/step - loss: 1.2519 - accuracy: 0.5528 - val_loss: 1.4912 - val_accuracy: 0.4768\n",
      "Epoch 42/100\n",
      "1407/1407 [==============================] - 18s 13ms/step - loss: 1.2413 - accuracy: 0.5560 - val_loss: 1.5087 - val_accuracy: 0.4728\n",
      "Epoch 43/100\n",
      "1407/1407 [==============================] - 18s 13ms/step - loss: 1.2371 - accuracy: 0.5580 - val_loss: 1.5077 - val_accuracy: 0.4702\n",
      "Epoch 44/100\n",
      "1407/1407 [==============================] - 18s 13ms/step - loss: 1.2258 - accuracy: 0.5622 - val_loss: 1.5538 - val_accuracy: 0.4602\n",
      "Epoch 45/100\n",
      "1407/1407 [==============================] - 18s 13ms/step - loss: 1.2228 - accuracy: 0.5628 - val_loss: 1.5088 - val_accuracy: 0.4716\n",
      "Epoch 46/100\n",
      "1407/1407 [==============================] - 18s 13ms/step - loss: 1.2142 - accuracy: 0.5658 - val_loss: 1.5111 - val_accuracy: 0.4712\n",
      "Epoch 47/100\n",
      "1407/1407 [==============================] - 18s 13ms/step - loss: 1.2062 - accuracy: 0.5677 - val_loss: 1.5441 - val_accuracy: 0.4698\n",
      "Epoch 48/100\n",
      "1407/1407 [==============================] - 18s 13ms/step - loss: 1.2004 - accuracy: 0.5697 - val_loss: 1.5739 - val_accuracy: 0.4620\n",
      "Epoch 49/100\n",
      "1407/1407 [==============================] - 18s 13ms/step - loss: 1.1905 - accuracy: 0.5749 - val_loss: 1.5187 - val_accuracy: 0.4756\n",
      "Epoch 50/100\n",
      "1407/1407 [==============================] - 19s 13ms/step - loss: 1.1840 - accuracy: 0.5789 - val_loss: 1.5204 - val_accuracy: 0.4730\n",
      "Epoch 51/100\n",
      "1407/1407 [==============================] - 18s 13ms/step - loss: 1.1762 - accuracy: 0.5813 - val_loss: 1.6199 - val_accuracy: 0.4610\n",
      "Epoch 52/100\n",
      "1407/1407 [==============================] - 18s 13ms/step - loss: 1.1685 - accuracy: 0.5823 - val_loss: 1.5431 - val_accuracy: 0.4730\n",
      "Epoch 53/100\n",
      "1407/1407 [==============================] - 18s 13ms/step - loss: 1.1607 - accuracy: 0.5835 - val_loss: 1.5539 - val_accuracy: 0.4666\n",
      "Epoch 54/100\n",
      "1407/1407 [==============================] - 18s 13ms/step - loss: 1.1583 - accuracy: 0.5866 - val_loss: 1.5660 - val_accuracy: 0.4652\n",
      "Epoch 55/100\n",
      "1407/1407 [==============================] - 18s 13ms/step - loss: 1.1505 - accuracy: 0.5872 - val_loss: 1.5552 - val_accuracy: 0.4740\n",
      "Epoch 56/100\n",
      "1407/1407 [==============================] - 18s 13ms/step - loss: 1.1451 - accuracy: 0.5890 - val_loss: 1.5452 - val_accuracy: 0.4700\n",
      "Epoch 57/100\n",
      "1407/1407 [==============================] - 18s 13ms/step - loss: 1.1381 - accuracy: 0.5927 - val_loss: 1.5391 - val_accuracy: 0.4764\n",
      "Epoch 58/100\n",
      "1407/1407 [==============================] - 18s 13ms/step - loss: 1.1309 - accuracy: 0.5956 - val_loss: 1.5604 - val_accuracy: 0.4770\n",
      "Epoch 59/100\n",
      "1407/1407 [==============================] - 18s 13ms/step - loss: 1.1267 - accuracy: 0.5977 - val_loss: 1.5561 - val_accuracy: 0.4780\n",
      "Epoch 60/100\n",
      "1407/1407 [==============================] - 19s 13ms/step - loss: 1.1164 - accuracy: 0.5997 - val_loss: 1.5511 - val_accuracy: 0.4824\n",
      "Epoch 61/100\n",
      "1407/1407 [==============================] - 18s 13ms/step - loss: 1.1120 - accuracy: 0.6024 - val_loss: 1.6120 - val_accuracy: 0.4650\n"
     ]
    }
   ],
   "source": [
    "h = model.fit(X_train, y_train, epochs=100, validation_data=(X_valid, y_valid), callbacks=callbacks, batch_size=32)"
   ]
  },
  {
   "cell_type": "markdown",
   "id": "8986d3bf",
   "metadata": {},
   "source": [
    "Now let's visualize the graphs in tensorboard. We can use the following command to launch tensorboard:\n",
    "```\n",
    "tensorboard --logdir=./my_cifar10_logs --port=6006\n",
    "```"
   ]
  },
  {
   "cell_type": "code",
   "execution_count": 16,
   "id": "55678447",
   "metadata": {},
   "outputs": [
    {
     "name": "stderr",
     "output_type": "stream",
     "text": [
      "2024-01-02 12:36:36.566284: W tensorflow/tsl/framework/cpu_allocator_impl.cc:83] Allocation of 15360000 exceeds 10% of free system memory.\n"
     ]
    },
    {
     "name": "stdout",
     "output_type": "stream",
     "text": [
      "157/157 [==============================] - 1s 3ms/step - loss: 1.4912 - accuracy: 0.4768\n"
     ]
    },
    {
     "data": {
      "text/plain": [
       "[1.4911773204803467, 0.47679999470710754]"
      ]
     },
     "execution_count": 16,
     "metadata": {},
     "output_type": "execute_result"
    }
   ],
   "source": [
    "model = keras.models.load_model(\"my_cifar_model.h5\")\n",
    "model.evaluate(X_valid, y_valid)"
   ]
  },
  {
   "cell_type": "code",
   "execution_count": 23,
   "id": "aef7733d",
   "metadata": {},
   "outputs": [
    {
     "data": {
      "text/plain": [
       "41"
      ]
     },
     "execution_count": 23,
     "metadata": {},
     "output_type": "execute_result"
    }
   ],
   "source": [
    "#type: ignore\n",
    "epoch_of_min_valloss = np.argmin(h.history[\"val_loss\"]) + 1 # because index starts from 0 \n",
    "epoch_of_min_valloss"
   ]
  },
  {
   "cell_type": "code",
   "execution_count": 25,
   "id": "51db0ac7",
   "metadata": {},
   "outputs": [
    {
     "data": {
      "text/plain": [
       "1.5087246894836426"
      ]
     },
     "execution_count": 25,
     "metadata": {},
     "output_type": "execute_result"
    }
   ],
   "source": [
    "h.history[\"val_loss\"][epoch_of_min_valloss]"
   ]
  },
  {
   "cell_type": "markdown",
   "id": "d9b0689a",
   "metadata": {},
   "source": [
    "The model with the lowest validation loss gets about 47.67% accuracy on the validation set. It took 41 epoch to reach the lowest validation loss, with  <30 seconds per epoch on CPU (without GPU). Let's see if we can improve performance using Batch Normalization."
   ]
  },
  {
   "cell_type": "markdown",
   "id": "731f6558",
   "metadata": {},
   "source": [
    "c. Now try adding Batch Normalization and compare the learning curves: Is it converging faster than before? Does it produce a better model? How does it affect training speed?"
   ]
  },
  {
   "cell_type": "markdown",
   "id": "43f0080a",
   "metadata": {},
   "source": [
    "The code below is very similar to the code above, with few changes:\n",
    "\n",
    "- I added a BN Layer after every Dense Layer (before activation function), except for the output layer. I also added a BN layer before the first hidden layer. \n",
    "- Changed the learning rate to 5e-4\n",
    "- Renamed the run directory to run_bn_* and the model fine name to my_cifar10_bn_model.h5"
   ]
  },
  {
   "cell_type": "code",
   "execution_count": 26,
   "id": "02119441",
   "metadata": {},
   "outputs": [
    {
     "name": "stdout",
     "output_type": "stream",
     "text": [
      "Epoch 1/100\n"
     ]
    },
    {
     "name": "stderr",
     "output_type": "stream",
     "text": [
      "2024-01-02 12:50:57.681756: W tensorflow/tsl/framework/cpu_allocator_impl.cc:83] Allocation of 138240000 exceeds 10% of free system memory.\n"
     ]
    },
    {
     "name": "stdout",
     "output_type": "stream",
     "text": [
      "1406/1407 [============================>.] - ETA: 0s - loss: 1.8494 - accuracy: 0.3349"
     ]
    },
    {
     "name": "stderr",
     "output_type": "stream",
     "text": [
      "2024-01-02 12:51:47.286805: W tensorflow/tsl/framework/cpu_allocator_impl.cc:83] Allocation of 15360000 exceeds 10% of free system memory.\n",
      "/home/dell/anaconda3/envs/latest/lib/python3.11/site-packages/keras/src/engine/training.py:3000: UserWarning: You are saving your model as an HDF5 file via `model.save()`. This file format is considered legacy. We recommend using instead the native Keras format, e.g. `model.save('my_model.keras')`.\n",
      "  saving_api.save_model(\n"
     ]
    },
    {
     "name": "stdout",
     "output_type": "stream",
     "text": [
      "1407/1407 [==============================] - 51s 23ms/step - loss: 1.8494 - accuracy: 0.3349 - val_loss: 1.6614 - val_accuracy: 0.4070\n",
      "Epoch 2/100\n",
      "1407/1407 [==============================] - 28s 20ms/step - loss: 1.6775 - accuracy: 0.4031 - val_loss: 1.5762 - val_accuracy: 0.4418\n",
      "Epoch 3/100\n",
      "1407/1407 [==============================] - 29s 21ms/step - loss: 1.6029 - accuracy: 0.4300 - val_loss: 1.5248 - val_accuracy: 0.4586\n",
      "Epoch 4/100\n",
      "1407/1407 [==============================] - 29s 20ms/step - loss: 1.5501 - accuracy: 0.4494 - val_loss: 1.4876 - val_accuracy: 0.4636\n",
      "Epoch 5/100\n",
      "1407/1407 [==============================] - 29s 21ms/step - loss: 1.5053 - accuracy: 0.4644 - val_loss: 1.4447 - val_accuracy: 0.4888\n",
      "Epoch 6/100\n",
      "1407/1407 [==============================] - 29s 21ms/step - loss: 1.4660 - accuracy: 0.4797 - val_loss: 1.4361 - val_accuracy: 0.4916\n",
      "Epoch 7/100\n",
      "1407/1407 [==============================] - 29s 21ms/step - loss: 1.4353 - accuracy: 0.4893 - val_loss: 1.4141 - val_accuracy: 0.4974\n",
      "Epoch 8/100\n",
      "1407/1407 [==============================] - 29s 21ms/step - loss: 1.4071 - accuracy: 0.4990 - val_loss: 1.3807 - val_accuracy: 0.5082\n",
      "Epoch 9/100\n",
      "1407/1407 [==============================] - 29s 21ms/step - loss: 1.3818 - accuracy: 0.5128 - val_loss: 1.3985 - val_accuracy: 0.5024\n",
      "Epoch 10/100\n",
      "1407/1407 [==============================] - 29s 21ms/step - loss: 1.3611 - accuracy: 0.5166 - val_loss: 1.3651 - val_accuracy: 0.5170\n",
      "Epoch 11/100\n",
      "1407/1407 [==============================] - 29s 21ms/step - loss: 1.3414 - accuracy: 0.5222 - val_loss: 1.3457 - val_accuracy: 0.5278\n",
      "Epoch 12/100\n",
      "1407/1407 [==============================] - 29s 21ms/step - loss: 1.3180 - accuracy: 0.5332 - val_loss: 1.3968 - val_accuracy: 0.5008\n",
      "Epoch 13/100\n",
      "1407/1407 [==============================] - 29s 21ms/step - loss: 1.2980 - accuracy: 0.5391 - val_loss: 1.3615 - val_accuracy: 0.5122\n",
      "Epoch 14/100\n",
      "1407/1407 [==============================] - 29s 21ms/step - loss: 1.2780 - accuracy: 0.5465 - val_loss: 1.3602 - val_accuracy: 0.5232\n",
      "Epoch 15/100\n",
      "1407/1407 [==============================] - 29s 21ms/step - loss: 1.2632 - accuracy: 0.5525 - val_loss: 1.3831 - val_accuracy: 0.5198\n",
      "Epoch 16/100\n",
      "1407/1407 [==============================] - 29s 21ms/step - loss: 1.2515 - accuracy: 0.5555 - val_loss: 1.3798 - val_accuracy: 0.5176\n",
      "Epoch 17/100\n",
      "1407/1407 [==============================] - 29s 21ms/step - loss: 1.2334 - accuracy: 0.5631 - val_loss: 1.3163 - val_accuracy: 0.5388\n",
      "Epoch 18/100\n",
      "1407/1407 [==============================] - 27s 19ms/step - loss: 1.2156 - accuracy: 0.5719 - val_loss: 1.3631 - val_accuracy: 0.5174\n",
      "Epoch 19/100\n",
      "1407/1407 [==============================] - 24s 17ms/step - loss: 1.2024 - accuracy: 0.5733 - val_loss: 1.3445 - val_accuracy: 0.5352\n",
      "Epoch 20/100\n",
      "1407/1407 [==============================] - 24s 17ms/step - loss: 1.1926 - accuracy: 0.5792 - val_loss: 1.3971 - val_accuracy: 0.5202\n",
      "Epoch 21/100\n",
      "1407/1407 [==============================] - 24s 17ms/step - loss: 1.1794 - accuracy: 0.5830 - val_loss: 1.3493 - val_accuracy: 0.5280\n",
      "Epoch 22/100\n",
      "1407/1407 [==============================] - 31s 22ms/step - loss: 1.1616 - accuracy: 0.5899 - val_loss: 1.3378 - val_accuracy: 0.5278\n",
      "Epoch 23/100\n",
      "1407/1407 [==============================] - 29s 21ms/step - loss: 1.1510 - accuracy: 0.5927 - val_loss: 1.3178 - val_accuracy: 0.5456\n",
      "Epoch 24/100\n",
      "1407/1407 [==============================] - 29s 20ms/step - loss: 1.1361 - accuracy: 0.5997 - val_loss: 1.3243 - val_accuracy: 0.5458\n",
      "Epoch 25/100\n",
      "1407/1407 [==============================] - 29s 20ms/step - loss: 1.1249 - accuracy: 0.6034 - val_loss: 1.3439 - val_accuracy: 0.5402\n",
      "Epoch 26/100\n",
      "1407/1407 [==============================] - 29s 20ms/step - loss: 1.1109 - accuracy: 0.6064 - val_loss: 1.3619 - val_accuracy: 0.5294\n",
      "Epoch 27/100\n",
      "1407/1407 [==============================] - 29s 20ms/step - loss: 1.1025 - accuracy: 0.6094 - val_loss: 1.3297 - val_accuracy: 0.5410\n",
      "Epoch 28/100\n",
      "1407/1407 [==============================] - 29s 20ms/step - loss: 1.0927 - accuracy: 0.6141 - val_loss: 1.3404 - val_accuracy: 0.5450\n",
      "Epoch 29/100\n",
      "1407/1407 [==============================] - 29s 20ms/step - loss: 1.0827 - accuracy: 0.6183 - val_loss: 1.3330 - val_accuracy: 0.5516\n",
      "Epoch 30/100\n",
      "1407/1407 [==============================] - 29s 21ms/step - loss: 1.0727 - accuracy: 0.6201 - val_loss: 1.3521 - val_accuracy: 0.5406\n",
      "Epoch 31/100\n",
      "1407/1407 [==============================] - 29s 21ms/step - loss: 1.0624 - accuracy: 0.6263 - val_loss: 1.3450 - val_accuracy: 0.5438\n",
      "Epoch 32/100\n",
      "1407/1407 [==============================] - 29s 21ms/step - loss: 1.0467 - accuracy: 0.6293 - val_loss: 1.3648 - val_accuracy: 0.5428\n",
      "Epoch 33/100\n",
      "1407/1407 [==============================] - 29s 21ms/step - loss: 1.0396 - accuracy: 0.6322 - val_loss: 1.3695 - val_accuracy: 0.5456\n",
      "Epoch 34/100\n",
      "1407/1407 [==============================] - 29s 21ms/step - loss: 1.0314 - accuracy: 0.6362 - val_loss: 1.3396 - val_accuracy: 0.5494\n",
      "Epoch 35/100\n",
      "1407/1407 [==============================] - 29s 21ms/step - loss: 1.0205 - accuracy: 0.6402 - val_loss: 1.3416 - val_accuracy: 0.5484\n",
      "Epoch 36/100\n",
      "1407/1407 [==============================] - 29s 21ms/step - loss: 1.0177 - accuracy: 0.6406 - val_loss: 1.3490 - val_accuracy: 0.5420\n",
      "Epoch 37/100\n",
      "1407/1407 [==============================] - 29s 21ms/step - loss: 0.9992 - accuracy: 0.6479 - val_loss: 1.4008 - val_accuracy: 0.5290\n"
     ]
    }
   ],
   "source": [
    "keras.backend.clear_session()\n",
    "tf.random.set_seed(42)\n",
    "np.random.seed(42)\n",
    "\n",
    "model = keras.models.Sequential()\n",
    "model.add(keras.layers.Flatten(input_shape=[32,32,3]))\n",
    "model.add(keras.layers.BatchNormalization())\n",
    "\n",
    "for _ in range(20):\n",
    "    model.add(keras.layers.Dense(100, kernel_initializer=\"he_normal\"))\n",
    "    model.add(keras.layers.BatchNormalization())\n",
    "    model.add(keras.layers.Activation(\"elu\"))\n",
    "model.add(keras.layers.Dense(10, activation=\"softmax\"))\n",
    "\n",
    "optimizer = keras.optimizers.Nadam(learning_rate=5e-4)\n",
    "model.compile(loss=\"sparse_categorical_crossentropy\", optimizer=optimizer, metrics=[\"accuracy\"])\n",
    "\n",
    "early_stopping_cb = keras.callbacks.EarlyStopping(patience=20)\n",
    "model_checkpoint_cb = keras.callbacks.ModelCheckpoint(\"my_cifar10_bn_model.h5\", save_best_only=True)\n",
    "run_index = 1 # increment everytime you train the model\n",
    "run_logdir = os.path.join(os.curdir, \"my_cifar10_logs\", \"run_bn_{:03d}\".format(run_index))\n",
    "tensorboard_cb = keras.callbacks.TensorBoard(run_logdir)\n",
    "\n",
    "callbacks = [early_stopping_cb, model_checkpoint_cb, tensorboard_cb]\n",
    "\n",
    "h_bn = model.fit(X_train, y_train, epochs=100, validation_data=(X_valid, y_valid), callbacks=callbacks)"
   ]
  },
  {
   "cell_type": "code",
   "execution_count": 27,
   "id": "c8ba7dd3",
   "metadata": {},
   "outputs": [
    {
     "name": "stdout",
     "output_type": "stream",
     "text": [
      "157/157 [==============================] - 1s 4ms/step - loss: 1.3163 - accuracy: 0.5388\n"
     ]
    },
    {
     "data": {
      "text/plain": [
       "[1.3163434267044067, 0.5388000011444092]"
      ]
     },
     "execution_count": 27,
     "metadata": {},
     "output_type": "execute_result"
    }
   ],
   "source": [
    "model = keras.models.load_model(\"my_cifar10_bn_model.h5\")\n",
    "model.evaluate(X_valid, y_valid) #type: ignore"
   ]
  },
  {
   "cell_type": "code",
   "execution_count": 28,
   "id": "24f1da51",
   "metadata": {},
   "outputs": [
    {
     "data": {
      "text/plain": [
       "17"
      ]
     },
     "execution_count": 28,
     "metadata": {},
     "output_type": "execute_result"
    }
   ],
   "source": [
    "#type: ignore\n",
    "epoch_of_bn_min_valloss = np.argmin(h_bn.history[\"val_loss\"]) + 1 # because index starts from 0 \n",
    "epoch_of_bn_min_valloss"
   ]
  },
  {
   "cell_type": "markdown",
   "id": "2ad8bd6a",
   "metadata": {},
   "source": [
    "- Is the model converging faster than before? Much faster! The previous model took 41 epochs to reach the lowest validation loss, while this model achieved the same loss in just 5 epochs and continued to improve until the 17th epoch. The BN layers stabilized training and allowed us to use a much larger learning rate, so convergence was much faster.\n",
    "\n",
    "- Does BN produce a better model? Yes! The final model is much better with 53.88% accuracy instead of 47.67%. It's still not good model, but at least it's much better than before.\n",
    "\n",
    "- How does BN affect the training speed? Although the model converged much faster, each epoch took approx 30s instead of 20s, because of the extra computations required by the BN layers. But overall, training time was shortened significantly."
   ]
  },
  {
   "cell_type": "markdown",
   "id": "6b6dd123",
   "metadata": {},
   "source": [
    "d. Try replacing Batch Normalization with SELU, and make the necessary adjustements to ensure the network self-normalizes (i.e., standardize the input features, use LeCun normal initialization, make sure the DNN contains only a sequence of dense layers, etc.)."
   ]
  },
  {
   "cell_type": "code",
   "execution_count": 5,
   "id": "93724cb2",
   "metadata": {},
   "outputs": [
    {
     "name": "stderr",
     "output_type": "stream",
     "text": [
      "2024-01-02 13:53:58.402951: W tensorflow/tsl/framework/cpu_allocator_impl.cc:83] Allocation of 552960000 exceeds 10% of free system memory.\n"
     ]
    },
    {
     "name": "stdout",
     "output_type": "stream",
     "text": [
      "Epoch 1/100\n",
      "1407/1407 [==============================] - 27s 13ms/step - loss: 1.9157 - accuracy: 0.3142 - val_loss: 1.7980 - val_accuracy: 0.3538\n",
      "Epoch 2/100\n",
      "   1/1407 [..............................] - ETA: 14s - loss: 1.8739 - accuracy: 0.4062"
     ]
    },
    {
     "name": "stderr",
     "output_type": "stream",
     "text": [
      "/home/dell/anaconda3/envs/latest/lib/python3.11/site-packages/keras/src/engine/training.py:3000: UserWarning: You are saving your model as an HDF5 file via `model.save()`. This file format is considered legacy. We recommend using instead the native Keras format, e.g. `model.save('my_model.keras')`.\n",
      "  saving_api.save_model(\n"
     ]
    },
    {
     "name": "stdout",
     "output_type": "stream",
     "text": [
      "1407/1407 [==============================] - 18s 13ms/step - loss: 1.7082 - accuracy: 0.3945 - val_loss: 1.6735 - val_accuracy: 0.3944\n",
      "Epoch 3/100\n",
      "1407/1407 [==============================] - 18s 13ms/step - loss: 1.6188 - accuracy: 0.4268 - val_loss: 1.6489 - val_accuracy: 0.4148\n",
      "Epoch 4/100\n",
      "1407/1407 [==============================] - 18s 13ms/step - loss: 1.5570 - accuracy: 0.4524 - val_loss: 1.6148 - val_accuracy: 0.4416\n",
      "Epoch 5/100\n",
      "1407/1407 [==============================] - 18s 13ms/step - loss: 1.5026 - accuracy: 0.4731 - val_loss: 1.5404 - val_accuracy: 0.4576\n",
      "Epoch 6/100\n",
      "1407/1407 [==============================] - 18s 13ms/step - loss: 1.4557 - accuracy: 0.4938 - val_loss: 1.5408 - val_accuracy: 0.4548\n",
      "Epoch 7/100\n",
      "1407/1407 [==============================] - 17s 12ms/step - loss: 1.4159 - accuracy: 0.5078 - val_loss: 1.5587 - val_accuracy: 0.4572\n",
      "Epoch 8/100\n",
      "1407/1407 [==============================] - 18s 13ms/step - loss: 1.3730 - accuracy: 0.5194 - val_loss: 1.4883 - val_accuracy: 0.4814\n",
      "Epoch 9/100\n",
      "1407/1407 [==============================] - 18s 13ms/step - loss: 1.3433 - accuracy: 0.5381 - val_loss: 1.5201 - val_accuracy: 0.4720\n",
      "Epoch 10/100\n",
      "1407/1407 [==============================] - 18s 13ms/step - loss: 1.3060 - accuracy: 0.5476 - val_loss: 1.4859 - val_accuracy: 0.4912\n",
      "Epoch 11/100\n",
      "1407/1407 [==============================] - 17s 12ms/step - loss: 1.2806 - accuracy: 0.5561 - val_loss: 1.4982 - val_accuracy: 0.4936\n",
      "Epoch 12/100\n",
      "1407/1407 [==============================] - 18s 13ms/step - loss: 1.2601 - accuracy: 0.5669 - val_loss: 1.4859 - val_accuracy: 0.4870\n",
      "Epoch 13/100\n",
      "1407/1407 [==============================] - 18s 13ms/step - loss: 1.2237 - accuracy: 0.5760 - val_loss: 1.4941 - val_accuracy: 0.4918\n",
      "Epoch 14/100\n",
      "1407/1407 [==============================] - 19s 13ms/step - loss: 1.2005 - accuracy: 0.5848 - val_loss: 1.5247 - val_accuracy: 0.4940\n",
      "Epoch 15/100\n",
      "1407/1407 [==============================] - 19s 13ms/step - loss: 1.1759 - accuracy: 0.5937 - val_loss: 1.5171 - val_accuracy: 0.4938\n",
      "Epoch 16/100\n",
      "1407/1407 [==============================] - 18s 13ms/step - loss: 1.3986 - accuracy: 0.5724 - val_loss: 1.4784 - val_accuracy: 0.5038\n",
      "Epoch 17/100\n",
      "1407/1407 [==============================] - 18s 13ms/step - loss: 1.1412 - accuracy: 0.6045 - val_loss: 1.5083 - val_accuracy: 0.4964\n",
      "Epoch 18/100\n",
      "1407/1407 [==============================] - 18s 13ms/step - loss: 1.1050 - accuracy: 0.6190 - val_loss: 1.4863 - val_accuracy: 0.5116\n",
      "Epoch 19/100\n",
      "1407/1407 [==============================] - 19s 13ms/step - loss: 1.0849 - accuracy: 0.6276 - val_loss: 1.5763 - val_accuracy: 0.4990\n",
      "Epoch 20/100\n",
      "1407/1407 [==============================] - 18s 13ms/step - loss: 1.0677 - accuracy: 0.6347 - val_loss: 1.5231 - val_accuracy: 0.5006\n",
      "Epoch 21/100\n",
      "1407/1407 [==============================] - 18s 13ms/step - loss: 1.0614 - accuracy: 0.6374 - val_loss: 1.5272 - val_accuracy: 0.5086\n",
      "Epoch 22/100\n",
      "1407/1407 [==============================] - 18s 13ms/step - loss: 1.0535 - accuracy: 0.6361 - val_loss: 1.5333 - val_accuracy: 0.5012\n",
      "Epoch 23/100\n",
      "1407/1407 [==============================] - 18s 13ms/step - loss: 1.0395 - accuracy: 0.6458 - val_loss: 1.5519 - val_accuracy: 0.4842\n",
      "Epoch 24/100\n",
      "1407/1407 [==============================] - 19s 13ms/step - loss: 1.0408 - accuracy: 0.6438 - val_loss: 1.5506 - val_accuracy: 0.4998\n",
      "Epoch 25/100\n",
      "1407/1407 [==============================] - 19s 13ms/step - loss: 1.0386 - accuracy: 0.6466 - val_loss: 1.5726 - val_accuracy: 0.5120\n",
      "Epoch 26/100\n",
      "1407/1407 [==============================] - 19s 13ms/step - loss: 1.0169 - accuracy: 0.6522 - val_loss: 1.5514 - val_accuracy: 0.5034\n",
      "Epoch 27/100\n",
      "1407/1407 [==============================] - 19s 13ms/step - loss: 1.0032 - accuracy: 0.6564 - val_loss: 1.5706 - val_accuracy: 0.4898\n",
      "Epoch 28/100\n",
      "1407/1407 [==============================] - 18s 13ms/step - loss: 0.9937 - accuracy: 0.6598 - val_loss: 1.5229 - val_accuracy: 0.5006\n",
      "Epoch 29/100\n",
      "1407/1407 [==============================] - 18s 13ms/step - loss: 0.9684 - accuracy: 0.6702 - val_loss: 1.6241 - val_accuracy: 0.5102\n",
      "Epoch 30/100\n",
      "1407/1407 [==============================] - 18s 13ms/step - loss: 0.9608 - accuracy: 0.6687 - val_loss: 1.6159 - val_accuracy: 0.5022\n",
      "Epoch 31/100\n",
      "1407/1407 [==============================] - 18s 13ms/step - loss: 0.9495 - accuracy: 0.6768 - val_loss: 1.6557 - val_accuracy: 0.5018\n",
      "Epoch 32/100\n",
      "1407/1407 [==============================] - 18s 13ms/step - loss: 0.9389 - accuracy: 0.6812 - val_loss: 1.6991 - val_accuracy: 0.4960\n",
      "Epoch 33/100\n",
      "1407/1407 [==============================] - 18s 13ms/step - loss: 1.0545 - accuracy: 0.6420 - val_loss: 1.5800 - val_accuracy: 0.5008\n",
      "Epoch 34/100\n",
      "1407/1407 [==============================] - 18s 13ms/step - loss: 747.1775 - accuracy: 0.6460 - val_loss: 1.6298 - val_accuracy: 0.4556\n",
      "Epoch 35/100\n",
      "1407/1407 [==============================] - 18s 13ms/step - loss: 1.1628 - accuracy: 0.5962 - val_loss: 1.5724 - val_accuracy: 0.4936\n",
      "Epoch 36/100\n",
      "1407/1407 [==============================] - 18s 13ms/step - loss: 1.0774 - accuracy: 0.6279 - val_loss: 1.5662 - val_accuracy: 0.4952\n"
     ]
    }
   ],
   "source": [
    "keras.backend.clear_session()\n",
    "tf.random.set_seed(42)\n",
    "np.random.seed(42)\n",
    "\n",
    "model = keras.models.Sequential()\n",
    "model.add(keras.layers.Flatten(input_shape=[32, 32, 3]))\n",
    "for _ in range(20):\n",
    "    model.add(keras.layers.Dense(100, kernel_initializer=\"lecun_normal\", activation=\"selu\"))\n",
    "model.add(keras.layers.Dense(10, activation=\"softmax\"))\n",
    "\n",
    "optimizer = keras.optimizers.Nadam(learning_rate=7e-4)\n",
    "model.compile(loss=\"sparse_categorical_crossentropy\", optimizer=optimizer, metrics=[\"accuracy\"])\n",
    "\n",
    "early_stopping_cb = keras.callbacks.EarlyStopping(patience=20)\n",
    "model_checkpoint_cb = keras.callbacks.ModelCheckpoint(\"my_cifar10_selu_model.h5\", save_best_only=True)\n",
    "\n",
    "run_index = 1 #increment everytime you train the model\n",
    "run_logdir = os.path.join(os.curdir, \"my_cifar10_logs\", \"run_selu_{:03d}\".format(run_index))\n",
    "tensorboard_cb = keras.callbacks.TensorBoard(run_logdir)\n",
    "\n",
    "callbacks = [early_stopping_cb, model_checkpoint_cb, tensorboard_cb]\n",
    "\n",
    "X_means = X_train.mean(axis=0)\n",
    "X_stds = X_train.std(axis=0)\n",
    "X_train_scaled = (X_train - X_means) / X_stds\n",
    "X_valid_scaled = (X_valid - X_means) / X_stds\n",
    "X_test_scaled = (X_test - X_means) / X_stds\n",
    "\n",
    "h_selu = model.fit(X_train_scaled, y_train, epochs=100, validation_data=(X_valid_scaled, y_valid), callbacks=callbacks)"
   ]
  },
  {
   "cell_type": "code",
   "execution_count": 6,
   "id": "e110d2d2",
   "metadata": {},
   "outputs": [
    {
     "name": "stdout",
     "output_type": "stream",
     "text": [
      "157/157 [==============================] - 1s 4ms/step - loss: 1.4784 - accuracy: 0.5038\n"
     ]
    },
    {
     "data": {
      "text/plain": [
       "[1.4783544540405273, 0.5037999749183655]"
      ]
     },
     "execution_count": 6,
     "metadata": {},
     "output_type": "execute_result"
    }
   ],
   "source": [
    "model = keras.models.load_model(\"my_cifar10_selu_model.h5\")\n",
    "model.evaluate(X_valid_scaled, y_valid) #type: ignore"
   ]
  },
  {
   "cell_type": "code",
   "execution_count": 8,
   "id": "c428b725",
   "metadata": {},
   "outputs": [
    {
     "data": {
      "text/plain": [
       "16"
      ]
     },
     "execution_count": 8,
     "metadata": {},
     "output_type": "execute_result"
    }
   ],
   "source": [
    "#type: ignore\n",
    "epoch_of_selu_min_valloss = np.argmin(h_selu.history[\"val_loss\"]) + 1 # because index starts from 0 \n",
    "epoch_of_selu_min_valloss"
   ]
  },
  {
   "cell_type": "markdown",
   "id": "8d99357b",
   "metadata": {},
   "source": [
    "We got 50.37% accuracy, which is slight better than the original model (47.67%) but not as good as the model with BN (53.88%). However, convergence was almost as fast as with BN model. Took 16 epochs to reach the lowest validation loss, plus each epoch took around 18s. So it's by far the fastest model to train so far."
   ]
  },
  {
   "cell_type": "markdown",
   "id": "e3039a15",
   "metadata": {},
   "source": [
    "e. Try regularizing the model with alpha dropout. Then, without retraining your model, see if you can achieve better accuracy using MC Dropout."
   ]
  },
  {
   "cell_type": "code",
   "execution_count": 4,
   "id": "bfffbf18",
   "metadata": {},
   "outputs": [
    {
     "name": "stderr",
     "output_type": "stream",
     "text": [
      "2024-01-02 14:21:33.468900: W tensorflow/tsl/framework/cpu_allocator_impl.cc:83] Allocation of 552960000 exceeds 10% of free system memory.\n"
     ]
    },
    {
     "name": "stdout",
     "output_type": "stream",
     "text": [
      "Epoch 1/100\n",
      "1407/1407 [==============================] - 29s 15ms/step - loss: 1.9010 - accuracy: 0.3259 - val_loss: 1.7681 - val_accuracy: 0.3884\n",
      "Epoch 2/100\n",
      "   1/1407 [..............................] - ETA: 17s - loss: 1.8923 - accuracy: 0.2500"
     ]
    },
    {
     "name": "stderr",
     "output_type": "stream",
     "text": [
      "/home/dell/anaconda3/envs/latest/lib/python3.11/site-packages/keras/src/engine/training.py:3000: UserWarning: You are saving your model as an HDF5 file via `model.save()`. This file format is considered legacy. We recommend using instead the native Keras format, e.g. `model.save('my_model.keras')`.\n",
      "  saving_api.save_model(\n"
     ]
    },
    {
     "name": "stdout",
     "output_type": "stream",
     "text": [
      "1407/1407 [==============================] - 18s 13ms/step - loss: 1.6680 - accuracy: 0.4114 - val_loss: 1.6459 - val_accuracy: 0.4140\n",
      "Epoch 3/100\n",
      "1407/1407 [==============================] - 18s 13ms/step - loss: 1.5786 - accuracy: 0.4426 - val_loss: 1.5924 - val_accuracy: 0.4358\n",
      "Epoch 4/100\n",
      "1407/1407 [==============================] - 18s 13ms/step - loss: 1.5190 - accuracy: 0.4650 - val_loss: 1.5741 - val_accuracy: 0.4626\n",
      "Epoch 5/100\n",
      "1407/1407 [==============================] - 18s 12ms/step - loss: 1.4607 - accuracy: 0.4928 - val_loss: 1.5774 - val_accuracy: 0.4720\n",
      "Epoch 6/100\n",
      "1407/1407 [==============================] - 18s 13ms/step - loss: 1.4105 - accuracy: 0.5101 - val_loss: 1.5219 - val_accuracy: 0.4716\n",
      "Epoch 7/100\n",
      "1407/1407 [==============================] - 18s 13ms/step - loss: 1.3681 - accuracy: 0.5242 - val_loss: 1.5192 - val_accuracy: 0.4808\n",
      "Epoch 8/100\n",
      "1407/1407 [==============================] - 18s 13ms/step - loss: 1.3233 - accuracy: 0.5391 - val_loss: 1.5019 - val_accuracy: 0.4944\n",
      "Epoch 9/100\n",
      "1407/1407 [==============================] - 18s 13ms/step - loss: 1.2899 - accuracy: 0.5527 - val_loss: 1.4876 - val_accuracy: 0.4928\n",
      "Epoch 10/100\n",
      "1407/1407 [==============================] - 18s 13ms/step - loss: 1.2580 - accuracy: 0.5621 - val_loss: 1.5094 - val_accuracy: 0.5006\n",
      "Epoch 11/100\n",
      "1407/1407 [==============================] - 18s 13ms/step - loss: 1.2237 - accuracy: 0.5752 - val_loss: 1.4772 - val_accuracy: 0.5200\n",
      "Epoch 12/100\n",
      "1407/1407 [==============================] - 18s 13ms/step - loss: 1.1876 - accuracy: 0.5893 - val_loss: 1.5200 - val_accuracy: 0.4984\n",
      "Epoch 13/100\n",
      "1407/1407 [==============================] - 18s 13ms/step - loss: 1.1674 - accuracy: 0.5966 - val_loss: 1.5176 - val_accuracy: 0.5180\n",
      "Epoch 14/100\n",
      "1407/1407 [==============================] - 18s 13ms/step - loss: 1.1338 - accuracy: 0.6078 - val_loss: 1.4878 - val_accuracy: 0.5142\n",
      "Epoch 15/100\n",
      "1407/1407 [==============================] - 18s 13ms/step - loss: 1.1083 - accuracy: 0.6187 - val_loss: 1.5959 - val_accuracy: 0.5146\n",
      "Epoch 16/100\n",
      "1407/1407 [==============================] - 18s 13ms/step - loss: 1.0779 - accuracy: 0.6299 - val_loss: 1.6571 - val_accuracy: 0.5172\n",
      "Epoch 17/100\n",
      "1407/1407 [==============================] - 19s 13ms/step - loss: 1.0614 - accuracy: 0.6361 - val_loss: 1.6048 - val_accuracy: 0.5178\n",
      "Epoch 18/100\n",
      "1407/1407 [==============================] - 19s 13ms/step - loss: 1.0381 - accuracy: 0.6460 - val_loss: 1.6564 - val_accuracy: 0.5150\n",
      "Epoch 19/100\n",
      "1407/1407 [==============================] - 18s 13ms/step - loss: 1.0193 - accuracy: 0.6499 - val_loss: 1.6946 - val_accuracy: 0.5162\n",
      "Epoch 20/100\n",
      "1407/1407 [==============================] - 18s 13ms/step - loss: 0.9950 - accuracy: 0.6606 - val_loss: 1.6687 - val_accuracy: 0.5142\n",
      "Epoch 21/100\n",
      "1407/1407 [==============================] - 18s 13ms/step - loss: 0.9751 - accuracy: 0.6717 - val_loss: 1.6625 - val_accuracy: 0.5180\n",
      "Epoch 22/100\n",
      "1407/1407 [==============================] - 18s 13ms/step - loss: 0.9540 - accuracy: 0.6761 - val_loss: 1.6820 - val_accuracy: 0.5130\n",
      "Epoch 23/100\n",
      "1407/1407 [==============================] - 18s 13ms/step - loss: 0.9404 - accuracy: 0.6816 - val_loss: 1.7428 - val_accuracy: 0.5084\n",
      "Epoch 24/100\n",
      "1407/1407 [==============================] - 18s 13ms/step - loss: 0.9235 - accuracy: 0.6865 - val_loss: 1.7450 - val_accuracy: 0.5132\n",
      "Epoch 25/100\n",
      "1407/1407 [==============================] - 18s 13ms/step - loss: 0.9056 - accuracy: 0.6929 - val_loss: 1.7217 - val_accuracy: 0.5260\n",
      "Epoch 26/100\n",
      "1407/1407 [==============================] - 19s 13ms/step - loss: 0.8817 - accuracy: 0.7026 - val_loss: 1.7553 - val_accuracy: 0.5080\n",
      "Epoch 27/100\n",
      "1407/1407 [==============================] - 18s 13ms/step - loss: 1.1473 - accuracy: 0.6525 - val_loss: 1.6714 - val_accuracy: 0.4460\n",
      "Epoch 28/100\n",
      "1407/1407 [==============================] - 18s 13ms/step - loss: 1.1230 - accuracy: 0.6123 - val_loss: 1.6873 - val_accuracy: 0.4994\n",
      "Epoch 29/100\n",
      "1407/1407 [==============================] - 18s 13ms/step - loss: 0.9541 - accuracy: 0.6737 - val_loss: 1.7758 - val_accuracy: 0.5092\n",
      "Epoch 30/100\n",
      "1407/1407 [==============================] - 18s 13ms/step - loss: 0.8754 - accuracy: 0.7010 - val_loss: 1.8105 - val_accuracy: 0.5168\n",
      "Epoch 31/100\n",
      "1407/1407 [==============================] - 18s 13ms/step - loss: 0.8308 - accuracy: 0.7179 - val_loss: 1.7676 - val_accuracy: 0.5222\n"
     ]
    }
   ],
   "source": [
    "keras.backend.clear_session()\n",
    "tf.random.set_seed(42)\n",
    "np.random.seed(42)\n",
    "\n",
    "model = keras.models.Sequential()\n",
    "model.add(keras.layers.Flatten(input_shape=[32, 32, 3]))\n",
    "for _ in range(20):\n",
    "    model.add(keras.layers.Dense(100, kernel_initializer=\"lecun_normal\", activation=\"selu\"))\n",
    "model.add(keras.layers.AlphaDropout(rate=0.1))\n",
    "model.add(keras.layers.Dense(10, activation=\"softmax\"))\n",
    "\n",
    "optimizer = keras.optimizers.Nadam(learning_rate=5e-4)\n",
    "model.compile(loss=\"sparse_categorical_crossentropy\", optimizer=optimizer, metrics=[\"accuracy\"])\n",
    "\n",
    "early_stopping_cb = keras.callbacks.EarlyStopping(patience=20)\n",
    "model_checkpoint_cb = keras.callbacks.ModelCheckpoint(\"my_cifar10_alpha_dropout_model.h5\", save_best_only=True)\n",
    "\n",
    "run_index = 1 #increment everytime you train the model\n",
    "run_logdir = os.path.join(os.curdir, \"my_cifar10_logs\", \"run_alpha_dropout_{:03d}\".format(run_index))\n",
    "tensorboard_cb = keras.callbacks.TensorBoard(run_logdir)\n",
    "\n",
    "callbacks = [early_stopping_cb, model_checkpoint_cb, tensorboard_cb]\n",
    "\n",
    "X_means = X_train.mean(axis=0)\n",
    "X_stds = X_train.std(axis=0)\n",
    "X_train_scaled = (X_train - X_means) / X_stds\n",
    "X_valid_scaled = (X_valid - X_means) / X_stds\n",
    "X_test_scaled = (X_test - X_means)  / X_stds\n",
    "\n",
    "h_alpha_droput = model.fit(X_train_scaled, y_train, epochs=100, validation_data=(X_valid_scaled, y_valid), callbacks=callbacks)"
   ]
  },
  {
   "cell_type": "code",
   "execution_count": 5,
   "id": "00ab08c4",
   "metadata": {},
   "outputs": [
    {
     "name": "stdout",
     "output_type": "stream",
     "text": [
      "157/157 [==============================] - 1s 4ms/step - loss: 1.4772 - accuracy: 0.5200\n"
     ]
    },
    {
     "data": {
      "text/plain": [
       "[1.4772435426712036, 0.5199999809265137]"
      ]
     },
     "execution_count": 5,
     "metadata": {},
     "output_type": "execute_result"
    }
   ],
   "source": [
    "model = keras.models.load_model(\"my_cifar10_alpha_dropout_model.h5\")\n",
    "model.evaluate(X_valid_scaled, y_valid) #type: ignore"
   ]
  },
  {
   "cell_type": "code",
   "execution_count": 6,
   "id": "df52a1d7",
   "metadata": {},
   "outputs": [
    {
     "data": {
      "text/plain": [
       "11"
      ]
     },
     "execution_count": 6,
     "metadata": {},
     "output_type": "execute_result"
    }
   ],
   "source": [
    "#type: ignore\n",
    "epoch_of_alpha_dropout_min_valloss = np.argmin(h_alpha_droput.history[\"val_loss\"]) + 1 # because index starts from 0 \n",
    "epoch_of_alpha_dropout_min_valloss"
   ]
  },
  {
   "cell_type": "markdown",
   "id": "d9610b91",
   "metadata": {},
   "source": [
    "The model reaches 52% accuracy on the validation set. That's better than without dropout (47.67%). But it's not as good as the model with BN (53.88%). However, it's much faster to train. Each epoch took 18s, which is faster than the model with BN (30s). Also it took only 11 epochs to reach the lowest validation loss, which is faster than the model with BN (17 epochs)."
   ]
  },
  {
   "cell_type": "markdown",
   "id": "8baa7a55",
   "metadata": {},
   "source": [
    "Let's use MC Dropout now. We will need the `MCAlphaDropout` class"
   ]
  },
  {
   "cell_type": "code",
   "execution_count": 7,
   "id": "7248e506",
   "metadata": {},
   "outputs": [],
   "source": [
    "class MCAlphaDroput(keras.layers.AlphaDropout):\n",
    "    def call(self, inputs):\n",
    "        return super().call(inputs, training=True)"
   ]
  },
  {
   "cell_type": "markdown",
   "id": "e46811e9",
   "metadata": {},
   "source": [
    "Now let's create a new model, identical to the one we just trained (with same weights), but with the `MCAlphaDropout` dropout layers, instead of `AlphaDropout` layers. "
   ]
  },
  {
   "cell_type": "code",
   "execution_count": 8,
   "id": "0dece253",
   "metadata": {},
   "outputs": [],
   "source": [
    "mc_model = keras.models.Sequential([\n",
    "    MCAlphaDroput(layer.rate) if isinstance(layer, keras.layers.AlphaDropout) else layer for layer in model.layers #type: ignore\n",
    "])"
   ]
  },
  {
   "cell_type": "markdown",
   "id": "c90d3dfd",
   "metadata": {},
   "source": [
    "Then let's add a couple utility functions. The first will run the models many times (10 by default) and it will return the mean predicted class probabilities. The second will use the mean probabilites to predict the most likely class for each instance:"
   ]
  },
  {
   "cell_type": "code",
   "execution_count": 9,
   "id": "d5b68f1f",
   "metadata": {},
   "outputs": [],
   "source": [
    "def mc_droput_predict_probas(mc_model, X, n_samples=10):\n",
    "    Y_probas = [mc_model.predict(X) for sample in range(n_samples)]\n",
    "    return np.mean(Y_probas, axis=0)\n",
    "\n",
    "def mc_dropout_predict_classes(mc_model, X, n_samples=10):\n",
    "    Y_probas = mc_droput_predict_probas(mc_model, X, n_samples)\n",
    "    return np.argmax(Y_probas, axis=1)"
   ]
  },
  {
   "cell_type": "markdown",
   "id": "218feeb6",
   "metadata": {},
   "source": [
    "Now let's make predictions for all the instances in the validation set, and compute the accuracy score:"
   ]
  },
  {
   "cell_type": "code",
   "execution_count": 13,
   "id": "5b0cb682",
   "metadata": {},
   "outputs": [
    {
     "name": "stdout",
     "output_type": "stream",
     "text": [
      "157/157 [==============================] - 1s 6ms/step\n",
      "157/157 [==============================] - 1s 3ms/step\n",
      "157/157 [==============================] - 1s 3ms/step\n",
      "157/157 [==============================] - 1s 4ms/step\n",
      "157/157 [==============================] - 1s 4ms/step\n",
      "157/157 [==============================] - 1s 3ms/step\n",
      "157/157 [==============================] - 1s 3ms/step\n",
      "157/157 [==============================] - 0s 3ms/step\n",
      "157/157 [==============================] - 0s 3ms/step\n",
      "157/157 [==============================] - 1s 3ms/step\n"
     ]
    },
    {
     "data": {
      "text/plain": [
       "0.5198"
      ]
     },
     "execution_count": 13,
     "metadata": {},
     "output_type": "execute_result"
    }
   ],
   "source": [
    "keras.backend.clear_session()\n",
    "tf.random.set_seed(42)\n",
    "np.random.seed(42)\n",
    "\n",
    "y_pred = mc_dropout_predict_classes(mc_model, X_valid_scaled)\n",
    "accuracy = np.mean(y_pred == y_valid[: , 0])\n",
    "accuracy"
   ]
  },
  {
   "cell_type": "markdown",
   "id": "9d83ba29",
   "metadata": {},
   "source": [
    "We got no accuracy improvement in this case (we are still at ~52% accuracy)."
   ]
  },
  {
   "cell_type": "markdown",
   "id": "4013f105",
   "metadata": {},
   "source": [
    "So the best model we got so far is the Batch Normalization model."
   ]
  },
  {
   "cell_type": "markdown",
   "id": "29c0f57a",
   "metadata": {},
   "source": [
    "f. Retrain your model using 1cycle scheduling and see if it improves training speed and model accuracy."
   ]
  },
  {
   "cell_type": "code",
   "execution_count": 8,
   "id": "db6bc3b0",
   "metadata": {},
   "outputs": [],
   "source": [
    "keras.backend.clear_session()\n",
    "tf.random.set_seed(42)\n",
    "np.random.seed(42)\n",
    "\n",
    "model = keras.models.Sequential()\n",
    "model.add(keras.layers.Flatten(input_shape=[32, 32, 3]))\n",
    "for _ in range(20):\n",
    "    model.add(keras.layers.Dense(100, kernel_initializer=\"lecun_normal\", activation=\"selu\"))\n",
    "model.add(keras.layers.AlphaDropout(rate=0.1))\n",
    "model.add(keras.layers.Dense(10, activation=\"softmax\"))\n",
    "\n",
    "optimizer = keras.optimizers.SGD(learning_rate=1e-3)\n",
    "model.compile(loss=\"sparse_categorical_crossentropy\", optimizer=optimizer, metrics=[\"accuracy\"])"
   ]
  },
  {
   "cell_type": "code",
   "execution_count": 4,
   "id": "98c301b4",
   "metadata": {},
   "outputs": [],
   "source": [
    "K = keras.backend\n",
    "\n",
    "class ExponentialLearningRate(keras.callbacks.Callback):\n",
    "    def __init__(self, factor):\n",
    "        self.factor = factor\n",
    "        self.rates = []\n",
    "        self.losses = []\n",
    "    def on_batch_end(self, batch, logs):\n",
    "        self.rates.append(K.get_value(self.model.optimizer.learning_rate)) #type: ignore\n",
    "        self.losses.append(logs[\"loss\"])\n",
    "        K.set_value(self.model.optimizer.learning_rate, self.model.optimizer.learning_rate * self.factor) #type: ignore\n",
    "\n",
    "def find_learning_rate(model, X, y, epochs=1, batch_size=32, min_rate=10**-5, max_rate=10):\n",
    "    init_weights = model.get_weights()\n",
    "    interations = math.ceil(len(X) / batch_size) * epochs\n",
    "    factor = np.exp(np.log(max_rate / min_rate) / interations)\n",
    "    init_lr = K.get_value(model.optimizer.learning_rate)\n",
    "    K.set_value(model.optimizer.learning_rate, min_rate)\n",
    "    exp_lr = ExponentialLearningRate(factor)\n",
    "    history = model.fit(X, y, epochs=epochs, batch_size=batch_size, callbacks=[exp_lr])\n",
    "    K.set_value(model.optimizer.learning_rate, init_lr)\n",
    "    model.set_weights(init_weights)\n",
    "    return exp_lr.rates, exp_lr.losses  #type: ignore\n",
    "\n",
    "def plot_lr_vs_loss(rates, losses):\n",
    "    plt.plot(rates, losses)\n",
    "    plt.gca().set_xscale(\"log\")\n",
    "    plt.hlines(min(losses), min(rates), max(rates))\n",
    "    plt.axis([min(rates), max(rates), min(losses), (losses[0] + min(losses)) / 2])\n",
    "    plt.xlabel(\"Learning rate\")\n",
    "    plt.ylabel(\"Loss\")"
   ]
  },
  {
   "cell_type": "code",
   "execution_count": 5,
   "id": "e93a8bae",
   "metadata": {},
   "outputs": [],
   "source": [
    "X_means = X_train.mean(axis=0)\n",
    "X_stds = X_train.std(axis=0)\n",
    "X_train_scaled = (X_train - X_means) / X_stds\n",
    "X_valid_scaled = (X_valid - X_means) / X_stds\n",
    "X_test_scaled = (X_test - X_means)  / X_stds"
   ]
  },
  {
   "cell_type": "code",
   "execution_count": 6,
   "id": "e9d85674-4565-4ab1-b9c5-0c0db4ca2bfa",
   "metadata": {},
   "outputs": [],
   "source": [
    "batch_size=128"
   ]
  },
  {
   "cell_type": "code",
   "execution_count": 9,
   "id": "cddbb58e",
   "metadata": {},
   "outputs": [
    {
     "name": "stderr",
     "output_type": "stream",
     "text": [
      "2024-01-02 15:14:17.908726: W tensorflow/tsl/framework/cpu_allocator_impl.cc:83] Allocation of 552960000 exceeds 10% of free system memory.\n"
     ]
    },
    {
     "name": "stdout",
     "output_type": "stream",
     "text": [
      "352/352 [==============================] - 7s 15ms/step - loss: nan - accuracy: 0.1516\n"
     ]
    },
    {
     "data": {
      "image/png": "[encoded data removed]",
      "text/plain": [
       "<Figure size 640x480 with 1 Axes>"
      ]
     },
     "metadata": {},
     "output_type": "display_data"
    }
   ],
   "source": [
    "rates, losses = find_learning_rate(model, X_train_scaled, y_train, epochs=1, batch_size=batch_size)\n",
    "plot_lr_vs_loss(rates, losses)"
   ]
  },
  {
   "cell_type": "code",
   "execution_count": 7,
   "id": "c6ba64be",
   "metadata": {},
   "outputs": [],
   "source": [
    "class OneCycleScheduler(keras.callbacks.Callback):\n",
    "    def __init__(self, iterations, max_rate, start_rate=None, last_iterations=None, last_rate=None):\n",
    "        self.iterations = iterations\n",
    "        self.max_rate = max_rate\n",
    "        self.start_rate = start_rate or max_rate / 10\n",
    "        self.last_iterations = last_iterations or iterations // 10 + 1\n",
    "        self.half_iteration = (iterations - self.last_iterations) // 2\n",
    "        self.last_rate = last_rate or self.start_rate / 1000\n",
    "        self.iteration = 0\n",
    "    def _interpolate(self, iter1, iter2, rate1, rate2):\n",
    "        return ((rate2 - rate1) * (self.iteration - iter1) / (iter2 - iter1) + rate1)\n",
    "    \n",
    "    def on_batch_begin(self, batch, logs):\n",
    "        if self.iteration < self.half_iteration:\n",
    "            rate = self._interpolate(0, self.half_iteration, self.start_rate, self.max_rate)\n",
    "        elif self.iteration < 2 * self.half_iteration:\n",
    "            rate = self._interpolate(self.half_iteration, 2 * self.half_iteration,\n",
    "                                    self.max_rate, self.start_rate)\n",
    "        else:\n",
    "            rate = self._interpolate(2 * self.half_iteration, self.iterations,\n",
    "                                    self.start_rate, self.last_rate)\n",
    "        self.iteration += 1\n",
    "        K.set_value(self.model.optimizer.learning_rate, rate) #type: ignore"
   ]
  },
  {
   "cell_type": "code",
   "execution_count": 10,
   "id": "4d2c306a",
   "metadata": {},
   "outputs": [
    {
     "data": {
      "text/plain": [
       "1e-05"
      ]
     },
     "execution_count": 10,
     "metadata": {},
     "output_type": "execute_result"
    }
   ],
   "source": [
    "min(rates)"
   ]
  },
  {
   "cell_type": "code",
   "execution_count": 8,
   "id": "46d8360a",
   "metadata": {},
   "outputs": [],
   "source": [
    "keras.backend.clear_session()\n",
    "tf.random.set_seed(42)\n",
    "np.random.seed(42)\n",
    "\n",
    "model = keras.models.Sequential()\n",
    "model.add(keras.layers.Flatten(input_shape=[32, 32, 3]))\n",
    "for _ in range(20):\n",
    "    model.add(keras.layers.Dense(100, kernel_initializer=\"lecun_normal\", activation=\"selu\"))\n",
    "\n",
    "model.add(keras.layers.AlphaDropout(rate=0.1))\n",
    "model.add(keras.layers.Dense(10, activation=\"softmax\"))\n",
    "\n",
    "optimizer = keras.optimizers.SGD(learning_rate=1e-2)\n",
    "model.compile(loss=\"sparse_categorical_crossentropy\", optimizer=optimizer, metrics=[\"accuracy\"])"
   ]
  },
  {
   "cell_type": "code",
   "execution_count": 9,
   "id": "7084db22",
   "metadata": {},
   "outputs": [
    {
     "name": "stdout",
     "output_type": "stream",
     "text": [
      "Epoch 1/15\n"
     ]
    },
    {
     "name": "stderr",
     "output_type": "stream",
     "text": [
      "2024-01-02 15:17:30.577230: W tensorflow/tsl/framework/cpu_allocator_impl.cc:83] Allocation of 552960000 exceeds 10% of free system memory.\n"
     ]
    },
    {
     "name": "stdout",
     "output_type": "stream",
     "text": [
      "352/352 [==============================] - 5s 10ms/step - loss: 2.0650 - accuracy: 0.2852 - val_loss: 1.7596 - val_accuracy: 0.3846\n",
      "Epoch 2/15\n",
      "352/352 [==============================] - 4s 12ms/step - loss: 1.7621 - accuracy: 0.3761 - val_loss: 1.6761 - val_accuracy: 0.4134\n",
      "Epoch 3/15\n",
      "352/352 [==============================] - 4s 12ms/step - loss: 1.6293 - accuracy: 0.4222 - val_loss: 1.6204 - val_accuracy: 0.4260\n",
      "Epoch 4/15\n",
      "352/352 [==============================] - 4s 12ms/step - loss: 1.5514 - accuracy: 0.4480 - val_loss: 1.6599 - val_accuracy: 0.4306\n",
      "Epoch 5/15\n",
      "352/352 [==============================] - 4s 12ms/step - loss: 1.4992 - accuracy: 0.4707 - val_loss: 1.6490 - val_accuracy: 0.4462\n",
      "Epoch 6/15\n",
      "352/352 [==============================] - 4s 12ms/step - loss: 1.4594 - accuracy: 0.4843 - val_loss: 1.6075 - val_accuracy: 0.4502\n",
      "Epoch 7/15\n",
      "352/352 [==============================] - 4s 12ms/step - loss: 1.4226 - accuracy: 0.4948 - val_loss: 1.5683 - val_accuracy: 0.4488\n",
      "Epoch 8/15\n",
      "352/352 [==============================] - 4s 12ms/step - loss: 1.3533 - accuracy: 0.5200 - val_loss: 1.4931 - val_accuracy: 0.4828\n",
      "Epoch 9/15\n",
      "352/352 [==============================] - 4s 12ms/step - loss: 1.2794 - accuracy: 0.5454 - val_loss: 1.5452 - val_accuracy: 0.4842\n",
      "Epoch 10/15\n",
      "352/352 [==============================] - 4s 12ms/step - loss: 1.2075 - accuracy: 0.5704 - val_loss: 1.5266 - val_accuracy: 0.4970\n",
      "Epoch 11/15\n",
      "352/352 [==============================] - 4s 12ms/step - loss: 1.1417 - accuracy: 0.5900 - val_loss: 1.5088 - val_accuracy: 0.5148\n",
      "Epoch 12/15\n",
      "352/352 [==============================] - 4s 12ms/step - loss: 1.0705 - accuracy: 0.6147 - val_loss: 1.5098 - val_accuracy: 0.5122\n",
      "Epoch 13/15\n",
      "352/352 [==============================] - 4s 12ms/step - loss: 1.0031 - accuracy: 0.6395 - val_loss: 1.5261 - val_accuracy: 0.5230\n",
      "Epoch 14/15\n",
      "352/352 [==============================] - 4s 12ms/step - loss: 0.9393 - accuracy: 0.6641 - val_loss: 1.5541 - val_accuracy: 0.5250\n",
      "Epoch 15/15\n",
      "352/352 [==============================] - 4s 12ms/step - loss: 0.9004 - accuracy: 0.6762 - val_loss: 1.5754 - val_accuracy: 0.5204\n"
     ]
    }
   ],
   "source": [
    "n_epochs = 15\n",
    "onecycle = OneCycleScheduler(math.ceil(len(X_train_scaled) / batch_size) * n_epochs, max_rate=0.05)\n",
    "h = model.fit(X_train_scaled, y_train, epochs=n_epochs, batch_size=batch_size, validation_data=(X_valid_scaled, y_valid), callbacks=[onecycle])"
   ]
  },
  {
   "cell_type": "code",
   "execution_count": 10,
   "id": "f5c87c33-b842-404e-9b7c-b2236f468c62",
   "metadata": {},
   "outputs": [
    {
     "name": "stdout",
     "output_type": "stream",
     "text": [
      "157/157 [==============================] - 0s 3ms/step - loss: 1.5754 - accuracy: 0.5204\n"
     ]
    },
    {
     "data": {
      "text/plain": [
       "[1.5753862857818604, 0.5203999876976013]"
      ]
     },
     "execution_count": 10,
     "metadata": {},
     "output_type": "execute_result"
    }
   ],
   "source": [
    "model.evaluate(X_valid_scaled, y_valid)"
   ]
  },
  {
   "cell_type": "markdown",
   "id": "d8b3bf75-a63c-49ff-9718-b416a5aa69c6",
   "metadata": {},
   "source": [
    "One cycle allowed us to train the model in just 15 epochs, each epoch taking around 4s (thanks to larger batch size). This is several time faster than the fastest model we trained so far. Morever, performance has reached near to that of BN model, but remember that BN was much slower."
   ]
  },
  {
   "cell_type": "code",
   "execution_count": 11,
   "id": "cd93441b-6169-4935-8159-b6370c600338",
   "metadata": {},
   "outputs": [
    {
     "name": "stdout",
     "output_type": "stream",
     "text": [
      "313/313 [==============================] - 1s 2ms/step - loss: 1.5709 - accuracy: 0.5224\n"
     ]
    },
    {
     "data": {
      "text/plain": [
       "[1.5708906650543213, 0.5224000215530396]"
      ]
     },
     "execution_count": 11,
     "metadata": {},
     "output_type": "execute_result"
    }
   ],
   "source": [
    "model.evaluate(X_test_scaled, y_test)"
   ]
  },
  {
   "cell_type": "markdown",
   "id": "d59ab8a1",
   "metadata": {},
   "source": [
    "**Conclusion:**\n",
    "\n",
    "Batch Normalization is a great technique to accelerate training and improve performance of deep neural networks. However, it does slow down training at runtime. So if we care about runtime latency, we may want to use MC Dropout instead. It will not perform as well as BN, but it will be much faster at runtime. \n",
    "\n",
    "Learning rate scheduling can also help speed up training. \n",
    "\n",
    "Optimizers such as Nadam and 1cycle can also speed up training considerably."
   ]
  }
 ],
 "metadata": {
  "kernelspec": {
   "display_name": "latest",
   "language": "python",
   "name": "python3"
  },
  "language_info": {
   "codemirror_mode": {
    "name": "ipython",
    "version": 3
   },
   "file_extension": ".py",
   "mimetype": "text/x-python",
   "name": "python",
   "nbconvert_exporter": "python",
   "pygments_lexer": "ipython3",
   "version": "3.11.4"
  }
 },
 "nbformat": 4,
 "nbformat_minor": 5
}
